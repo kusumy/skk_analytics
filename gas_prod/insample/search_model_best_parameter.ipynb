{
 "cells": [
  {
   "cell_type": "code",
   "execution_count": 21,
   "metadata": {},
   "outputs": [],
   "source": [
    "import numpy as np\n",
    "import pandas as pd\n",
    "import psycopg2\n",
    "import os\n",
    "import sys\n",
    "\n",
    "import matplotlib as mpl\n",
    "import matplotlib.pyplot as plt\n",
    "import matplotlib.dates as mdates\n",
    "import matplotlib.cbook as cbook\n",
    "import plotly.express as px\n",
    "\n",
    "from sktime.forecasting.base import ForecastingHorizon\n",
    "from sktime.forecasting.model_selection import temporal_train_test_split\n",
    "from sktime.forecasting.compose import make_reduction\n",
    "from sklearn.metrics import (mean_absolute_error,\n",
    "                             mean_absolute_percentage_error,\n",
    "                             mean_squared_error, r2_score)\n",
    "from sklearn.ensemble import RandomForestRegressor\n",
    "from sktime.forecasting.model_selection import ForecastingGridSearchCV, SlidingWindowSplitter, ExpandingWindowSplitter\n",
    "from sklearn.model_selection import GridSearchCV"
   ]
  },
  {
   "cell_type": "code",
   "execution_count": 2,
   "metadata": {},
   "outputs": [],
   "source": [
    "# getting the name of the directory\n",
    "# where the this file is present.\n",
    "current = os.path.dirname(os.path.abspath(\"__file__\"))\n",
    "\n",
    "# Getting the parent directory name\n",
    "# where the current directory is present.\n",
    "parent = os.path.dirname(current)\n",
    "\n",
    "# Getting the parent directory name\n",
    "gr_parent = os.path.dirname(parent)\n",
    "\n",
    "# adding the parent directory to\n",
    "# the sys.path.\n",
    "sys.path.append(gr_parent)\n",
    "\n",
    "sys.path.insert(0, \"..//skk_analytics\")"
   ]
  },
  {
   "cell_type": "code",
   "execution_count": 3,
   "metadata": {},
   "outputs": [],
   "source": [
    "from connection import *\n",
    "from utils import *"
   ]
  },
  {
   "cell_type": "code",
   "execution_count": 4,
   "metadata": {},
   "outputs": [
    {
     "name": "stdout",
     "output_type": "stream",
     "text": [
      "d:\\Users\\kusumy\\Documents\\Code\\Python\\skk\\skk_analytics\\database.ini\n",
      "d:\\Users\\kusumy\\Documents\\Code\\Python\\skk\\skk_analytics\\gas_prod\\sql\\lng_prod_tangguh_data_query.sql\n"
     ]
    }
   ],
   "source": [
    "file_config = gr_parent + \"\\\\database.ini\"\n",
    "print(file_config)\n",
    "\n",
    "sql_file = os.path.join(parent, 'sql\\\\lng_prod_tangguh_data_query.sql')\n",
    "print(sql_file)"
   ]
  },
  {
   "cell_type": "code",
   "execution_count": 5,
   "metadata": {
    "ExecuteTime": {
     "end_time": "2022-12-22T06:59:23.311263Z",
     "start_time": "2022-12-22T06:59:17.950299Z"
    }
   },
   "outputs": [
    {
     "name": "stderr",
     "output_type": "stream",
     "text": [
      "d:\\Users\\kusumy\\Documents\\Code\\Python\\skk\\skk_analytics\\connection.py:50: UserWarning: pandas only supports SQLAlchemy connectable (engine/connection) or database string URI or sqlite3 DBAPI2 connection. Other DBAPI2 objects are not tested. Please consider using SQLAlchemy.\n",
      "  data = pd.read_sql_query(sql, conn)\n"
     ]
    }
   ],
   "source": [
    "conn = create_db_connection(filename=file_config, section='postgresql_ml_lng_skk')\n",
    "if conn == None:\n",
    "    exit()\n",
    "\n",
    "#Load Data from Database\n",
    "query_1 = open(sql_file, mode=\"rt\").read()\n",
    "data = get_sql_data(query_1, conn)\n",
    "\n",
    "data['date'] = pd.DatetimeIndex(data['date'], freq='D')\n",
    "data = data.reset_index()"
   ]
  },
  {
   "cell_type": "code",
   "execution_count": 7,
   "metadata": {
    "ExecuteTime": {
     "end_time": "2022-12-22T06:59:24.182005Z",
     "start_time": "2022-12-22T06:59:24.170978Z"
    }
   },
   "outputs": [],
   "source": [
    "ds = 'date'\n",
    "y = 'lng_production' \n",
    "\n",
    "df = data[[ds,y]]\n",
    "df = df.set_index(ds)\n",
    "df.index = pd.DatetimeIndex(df.index, freq='D')"
   ]
  },
  {
   "cell_type": "code",
   "execution_count": 10,
   "metadata": {},
   "outputs": [],
   "source": [
    "# Test size\n",
    "test_size = 0.2\n",
    "# Split data (original data)\n",
    "y_train, y_test = temporal_train_test_split(df, test_size=test_size)\n",
    "\n",
    "# Horizon\n",
    "fh = ForecastingHorizon(y_test.index, is_relative=False)"
   ]
  },
  {
   "cell_type": "code",
   "execution_count": 33,
   "metadata": {},
   "outputs": [],
   "source": [
    "rf_n_estimators = 157\n",
    "rf_lags = 27 #1, 6, 27\n",
    "rf_random_state = 0\n",
    "rf_criterion = \"squared_error\"\n",
    "rf_strategy = \"recursive\"\n",
    "#n_estimators_param_grid = {\"n_estimators\": [100, 150, 200, 300]}\n",
    "forecaster_param_grid = {\"window_length\": [1, 7, 21], \n",
    "                         \"estimator__n_estimators\": [100, 200]}"
   ]
  },
  {
   "cell_type": "code",
   "execution_count": 34,
   "metadata": {},
   "outputs": [],
   "source": [
    "\n",
    "# create regressor object\n",
    "#rf_regressor = RandomForestRegressor(n_estimators = rf_n_estimators, random_state = rf_random_state, criterion = rf_criterion)\n",
    "rf_regressor = RandomForestRegressor(random_state = rf_random_state, criterion = rf_criterion, n_jobs=-1)\n",
    "#rf_forecaster = make_reduction(rf_regressor, window_length = rf_lags, strategy = rf_strategy)\n",
    "rf_forecaster = make_reduction(rf_regressor, strategy = rf_strategy)\n",
    "\n",
    "cv = ExpandingWindowSplitter(fh=len(fh), initial_window=365*2, step_length=14)\n",
    "gscv = ForecastingGridSearchCV(rf_forecaster, cv=cv, param_grid=forecaster_param_grid, n_jobs=-1)\n"
   ]
  },
  {
   "cell_type": "code",
   "execution_count": 35,
   "metadata": {},
   "outputs": [
    {
     "name": "stdout",
     "output_type": "stream",
     "text": [
      "Creating Random Forest Model ...\n"
     ]
    }
   ],
   "source": [
    "\n",
    "print(\"Creating Random Forest Model ...\")\n",
    "#rf_forecaster.fit(y_train) #, X_train\n",
    "gscv.fit(y_train) #, X_train\n"
   ]
  },
  {
   "cell_type": "code",
   "execution_count": 25,
   "metadata": {},
   "outputs": [
    {
     "name": "stdout",
     "output_type": "stream",
     "text": [
      "Random Forest Model Prediction ...\n"
     ]
    }
   ],
   "source": [
    "\n",
    "print(\"Random Forest Model Prediction ...\")\n",
    "#rf_forecast = rf_forecaster.predict(fh) #, X=X_test\n",
    "rf_forecast = gscv.predict(fh) #, X=X_test"
   ]
  },
  {
   "cell_type": "code",
   "execution_count": 26,
   "metadata": {},
   "outputs": [
    {
     "data": {
      "text/html": [
       "<div>\n",
       "<style scoped>\n",
       "    .dataframe tbody tr th:only-of-type {\n",
       "        vertical-align: middle;\n",
       "    }\n",
       "\n",
       "    .dataframe tbody tr th {\n",
       "        vertical-align: top;\n",
       "    }\n",
       "\n",
       "    .dataframe thead th {\n",
       "        text-align: right;\n",
       "    }\n",
       "</style>\n",
       "<table border=\"1\" class=\"dataframe\">\n",
       "  <thead>\n",
       "    <tr style=\"text-align: right;\">\n",
       "      <th></th>\n",
       "      <th>lng_production</th>\n",
       "    </tr>\n",
       "  </thead>\n",
       "  <tbody>\n",
       "    <tr>\n",
       "      <th>2021-05-13</th>\n",
       "      <td>25761.07</td>\n",
       "    </tr>\n",
       "    <tr>\n",
       "      <th>2021-05-14</th>\n",
       "      <td>25934.26</td>\n",
       "    </tr>\n",
       "    <tr>\n",
       "      <th>2021-05-15</th>\n",
       "      <td>26009.39</td>\n",
       "    </tr>\n",
       "    <tr>\n",
       "      <th>2021-05-16</th>\n",
       "      <td>25931.88</td>\n",
       "    </tr>\n",
       "    <tr>\n",
       "      <th>2021-05-17</th>\n",
       "      <td>26009.39</td>\n",
       "    </tr>\n",
       "    <tr>\n",
       "      <th>...</th>\n",
       "      <td>...</td>\n",
       "    </tr>\n",
       "    <tr>\n",
       "      <th>2022-09-10</th>\n",
       "      <td>25931.88</td>\n",
       "    </tr>\n",
       "    <tr>\n",
       "      <th>2022-09-11</th>\n",
       "      <td>26009.39</td>\n",
       "    </tr>\n",
       "    <tr>\n",
       "      <th>2022-09-12</th>\n",
       "      <td>25931.88</td>\n",
       "    </tr>\n",
       "    <tr>\n",
       "      <th>2022-09-13</th>\n",
       "      <td>26009.39</td>\n",
       "    </tr>\n",
       "    <tr>\n",
       "      <th>2022-09-14</th>\n",
       "      <td>25931.88</td>\n",
       "    </tr>\n",
       "  </tbody>\n",
       "</table>\n",
       "<p>490 rows × 1 columns</p>\n",
       "</div>"
      ],
      "text/plain": [
       "           lng_production\n",
       "2021-05-13       25761.07\n",
       "2021-05-14       25934.26\n",
       "2021-05-15       26009.39\n",
       "2021-05-16       25931.88\n",
       "2021-05-17       26009.39\n",
       "...                   ...\n",
       "2022-09-10       25931.88\n",
       "2022-09-11       26009.39\n",
       "2022-09-12       25931.88\n",
       "2022-09-13       26009.39\n",
       "2022-09-14       25931.88\n",
       "\n",
       "[490 rows x 1 columns]"
      ]
     },
     "execution_count": 26,
     "metadata": {},
     "output_type": "execute_result"
    }
   ],
   "source": [
    "y_pred_rf = pd.DataFrame(rf_forecast).applymap('{:.2f}'.format)\n",
    "y_pred_rf"
   ]
  },
  {
   "cell_type": "code",
   "execution_count": 27,
   "metadata": {},
   "outputs": [
    {
     "name": "stdout",
     "output_type": "stream",
     "text": [
      "Random Forest Model MAPE: 0.4239\n"
     ]
    }
   ],
   "source": [
    "#Create MAPE\n",
    "rf_mape = mean_absolute_percentage_error(y_test['lng_production'], rf_forecast)\n",
    "ranfor_mape_str = str('MAPE: %.4f' % rf_mape)\n",
    "print(\"Random Forest Model \"+ranfor_mape_str)"
   ]
  },
  {
   "cell_type": "code",
   "execution_count": 28,
   "metadata": {},
   "outputs": [
    {
     "name": "stdout",
     "output_type": "stream",
     "text": [
      "Random Forest Model Parameters {'backend': 'loky', 'cv__fh': 490, 'cv__initial_window': 730, 'cv__start_with_window': True, 'cv__step_length': 7, 'cv': ExpandingWindowSplitter(fh=490, initial_window=730, step_length=7), 'error_score': nan, 'forecaster__estimator__bootstrap': True, 'forecaster__estimator__ccp_alpha': 0.0, 'forecaster__estimator__criterion': 'squared_error', 'forecaster__estimator__max_depth': None, 'forecaster__estimator__max_features': 1.0, 'forecaster__estimator__max_leaf_nodes': None, 'forecaster__estimator__max_samples': None, 'forecaster__estimator__min_impurity_decrease': 0.0, 'forecaster__estimator__min_samples_leaf': 1, 'forecaster__estimator__min_samples_split': 2, 'forecaster__estimator__min_weight_fraction_leaf': 0.0, 'forecaster__estimator__n_estimators': 100, 'forecaster__estimator__n_jobs': None, 'forecaster__estimator__oob_score': False, 'forecaster__estimator__random_state': 0, 'forecaster__estimator__verbose': 0, 'forecaster__estimator__warm_start': False, 'forecaster__estimator': RandomForestRegressor(random_state=0), 'forecaster__pooling': 'local', 'forecaster__transformers': None, 'forecaster__window_length': 10, 'forecaster': RecursiveTabularRegressionForecaster(estimator=RandomForestRegressor(random_state=0)), 'n_jobs': None, 'param_grid': {'window_length': [1, 6, 27]}, 'pre_dispatch': '2*n_jobs', 'refit': True, 'return_n_best_forecasters': 1, 'scoring': None, 'strategy': 'refit', 'update_behaviour': 'full_refit', 'verbose': 0}\n"
     ]
    }
   ],
   "source": [
    "#Get Parameters\n",
    "#rf_param = str(rf_forecaster.get_params())\n",
    "rf_param = str(gscv.get_params())\n",
    "print(\"Random Forest Model Parameters \"+rf_param)"
   ]
  },
  {
   "cell_type": "code",
   "execution_count": 29,
   "metadata": {},
   "outputs": [
    {
     "data": {
      "text/plain": [
       "{'window_length': 1}"
      ]
     },
     "execution_count": 29,
     "metadata": {},
     "output_type": "execute_result"
    }
   ],
   "source": [
    "gscv.best_params_"
   ]
  },
  {
   "cell_type": "code",
   "execution_count": null,
   "metadata": {},
   "outputs": [],
   "source": []
  }
 ],
 "metadata": {
  "kernelspec": {
   "display_name": "Python 3.8.15 ('py38_ts')",
   "language": "python",
   "name": "python3"
  },
  "language_info": {
   "codemirror_mode": {
    "name": "ipython",
    "version": 3
   },
   "file_extension": ".py",
   "mimetype": "text/x-python",
   "name": "python",
   "nbconvert_exporter": "python",
   "pygments_lexer": "ipython3",
   "version": "3.8.15"
  },
  "orig_nbformat": 4,
  "vscode": {
   "interpreter": {
    "hash": "a7559cc4fcd4dd9b994a19f69128bde89747fa9372e29d8f3b171be4b280ce9a"
   }
  }
 },
 "nbformat": 4,
 "nbformat_minor": 2
}
