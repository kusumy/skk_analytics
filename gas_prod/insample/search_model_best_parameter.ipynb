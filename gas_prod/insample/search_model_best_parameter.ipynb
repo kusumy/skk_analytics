{
 "cells": [
  {
   "cell_type": "markdown",
   "metadata": {},
   "source": [
    "# Import Libraries"
   ]
  },
  {
   "cell_type": "code",
   "execution_count": 164,
   "metadata": {},
   "outputs": [],
   "source": [
    "import numpy as np\n",
    "import pandas as pd\n",
    "import psycopg2\n",
    "import os\n",
    "import sys\n",
    "\n",
    "import matplotlib as mpl\n",
    "import matplotlib.pyplot as plt\n",
    "import matplotlib.dates as mdates\n",
    "import matplotlib.cbook as cbook\n",
    "import plotly.express as px\n",
    "\n",
    "from sktime.forecasting.base import ForecastingHorizon\n",
    "from sktime.forecasting.model_selection import temporal_train_test_split\n",
    "from sktime.forecasting.compose import make_reduction\n",
    "from sklearn.metrics import (mean_absolute_error,\n",
    "                             mean_absolute_percentage_error,\n",
    "                             mean_squared_error, r2_score)\n",
    "from sklearn.ensemble import RandomForestRegressor\n",
    "from sktime.forecasting.model_selection import ForecastingGridSearchCV, ForecastingRandomizedSearchCV, SlidingWindowSplitter, ExpandingWindowSplitter, SingleWindowSplitter\n",
    "from sktime.performance_metrics.forecasting import MeanAbsolutePercentageError\n",
    "from sklearn.model_selection import GridSearchCV\n",
    "\n",
    "from xgboost import XGBRegressor\n",
    "from sktime.forecasting.fbprophet import Prophet"
   ]
  },
  {
   "cell_type": "markdown",
   "metadata": {},
   "source": [
    "# Set Project Path"
   ]
  },
  {
   "cell_type": "code",
   "execution_count": 2,
   "metadata": {},
   "outputs": [],
   "source": [
    "# getting the name of the directory\n",
    "# where the this file is present.\n",
    "current = os.path.dirname(os.path.abspath(\"__file__\"))\n",
    "\n",
    "# Getting the parent directory name\n",
    "# where the current directory is present.\n",
    "parent = os.path.dirname(current)\n",
    "\n",
    "# Getting the parent directory name\n",
    "gr_parent = os.path.dirname(parent)\n",
    "\n",
    "# adding the parent directory to\n",
    "# the sys.path.\n",
    "sys.path.append(gr_parent)\n",
    "\n",
    "sys.path.insert(0, \"..//skk_analytics\")"
   ]
  },
  {
   "cell_type": "code",
   "execution_count": 3,
   "metadata": {},
   "outputs": [],
   "source": [
    "from connection import *\n",
    "from utils import *"
   ]
  },
  {
   "cell_type": "code",
   "execution_count": 4,
   "metadata": {},
   "outputs": [
    {
     "name": "stdout",
     "output_type": "stream",
     "text": [
      "d:\\Users\\kusumy\\Documents\\Code\\Python\\skk\\skk_analytics\\database.ini\n",
      "d:\\Users\\kusumy\\Documents\\Code\\Python\\skk\\skk_analytics\\gas_prod\\sql\\lng_prod_tangguh_data_query.sql\n"
     ]
    }
   ],
   "source": [
    "file_config = gr_parent + \"\\\\database.ini\"\n",
    "print(file_config)\n",
    "\n",
    "sql_file = os.path.join(parent, 'sql\\\\lng_prod_tangguh_data_query.sql')\n",
    "print(sql_file)"
   ]
  },
  {
   "cell_type": "markdown",
   "metadata": {},
   "source": [
    "# Get Data from Database"
   ]
  },
  {
   "cell_type": "code",
   "execution_count": 5,
   "metadata": {
    "ExecuteTime": {
     "end_time": "2022-12-22T06:59:23.311263Z",
     "start_time": "2022-12-22T06:59:17.950299Z"
    }
   },
   "outputs": [
    {
     "name": "stderr",
     "output_type": "stream",
     "text": [
      "d:\\Users\\kusumy\\Documents\\Code\\Python\\skk\\skk_analytics\\connection.py:50: UserWarning: pandas only supports SQLAlchemy connectable (engine/connection) or database string URI or sqlite3 DBAPI2 connection. Other DBAPI2 objects are not tested. Please consider using SQLAlchemy.\n",
      "  data = pd.read_sql_query(sql, conn)\n"
     ]
    }
   ],
   "source": [
    "conn = create_db_connection(filename=file_config, section='postgresql_ml_lng_skk')\n",
    "if conn == None:\n",
    "    exit()\n",
    "\n",
    "#Load Data from Database\n",
    "query_1 = open(sql_file, mode=\"rt\").read()\n",
    "data = get_sql_data(query_1, conn)\n",
    "\n",
    "data['date'] = pd.DatetimeIndex(data['date'], freq='D')\n",
    "data = data.reset_index()"
   ]
  },
  {
   "cell_type": "code",
   "execution_count": 6,
   "metadata": {
    "ExecuteTime": {
     "end_time": "2022-12-22T06:59:24.182005Z",
     "start_time": "2022-12-22T06:59:24.170978Z"
    }
   },
   "outputs": [],
   "source": [
    "ds = 'date'\n",
    "y = 'lng_production' \n",
    "\n",
    "df = data[[ds,y]]\n",
    "df = df.set_index(ds)\n",
    "df.index = pd.DatetimeIndex(df.index, freq='D')"
   ]
  },
  {
   "cell_type": "markdown",
   "metadata": {},
   "source": [
    "# Time Series Split"
   ]
  },
  {
   "cell_type": "code",
   "execution_count": 7,
   "metadata": {},
   "outputs": [],
   "source": [
    "# Test size\n",
    "test_size = 0.2\n",
    "# Split data (original data)\n",
    "y_train, y_test = temporal_train_test_split(df, test_size=test_size)\n",
    "\n",
    "# Horizon\n",
    "fh = ForecastingHorizon(y_test.index, is_relative=False)\n",
    "fh_int = np.arange(1, len(fh))"
   ]
  },
  {
   "cell_type": "markdown",
   "metadata": {},
   "source": [
    "# Create Additional Regressor (Exogenous)"
   ]
  },
  {
   "cell_type": "code",
   "execution_count": 8,
   "metadata": {},
   "outputs": [],
   "source": [
    "## Create Exogenous Variable\n",
    "df['month'] = [i.month for i in df.index]\n",
    "df['planned_shutdown'] = data['planned_shutdown'].values\n",
    "df['day'] = [i.day for i in df.index]\n",
    "\n",
    " # Split into train and test\n",
    "X_train, X_test = temporal_train_test_split(df.iloc[:,1:], test_size=test_size)\n",
    "exogenous_features = [\"month\", \"day\", \"planned_shutdown\"]"
   ]
  },
  {
   "cell_type": "markdown",
   "metadata": {},
   "source": [
    "# Build Model"
   ]
  },
  {
   "cell_type": "code",
   "execution_count": 54,
   "metadata": {},
   "outputs": [],
   "source": [
    "# Model scoring for Cross Validation\n",
    "mape = MeanAbsolutePercentageError(symmetric=False)"
   ]
  },
  {
   "cell_type": "markdown",
   "metadata": {},
   "source": [
    "## Random Forest"
   ]
  },
  {
   "cell_type": "markdown",
   "metadata": {},
   "source": [
    "### Define Model Parameters"
   ]
  },
  {
   "cell_type": "code",
   "execution_count": 32,
   "metadata": {},
   "outputs": [],
   "source": [
    "rf_n_estimators = 200\n",
    "rf_lags = 27 #1, 6, 27\n",
    "rf_random_state = 0\n",
    "rf_criterion = \"squared_error\"\n",
    "rf_strategy = \"recursive\"\n",
    "#n_estimators_param_grid = {\"n_estimators\": [100, 150, 200, 300]}\n",
    "forecaster_param_grid = {\"window_length\": [1, 7, 14, 21, 30], \n",
    "                         \"estimator__n_estimators\": [200, 300]}\n",
    "\n",
    "# Create regressor object\n",
    "#rf_regressor = RandomForestRegressor(n_estimators = rf_n_estimators, random_state = rf_random_state, criterion = rf_criterion)\n",
    "rf_regressor = RandomForestRegressor(random_state = rf_random_state, criterion = rf_criterion, n_jobs=-1)\n",
    "#rf_forecaster = make_reduction(rf_regressor, window_length = rf_lags, strategy = rf_strategy)\n",
    "rf_forecaster = make_reduction(rf_regressor, strategy = rf_strategy)\n",
    "\n",
    "# Define Cross Validation object\n",
    "#cv = ExpandingWindowSplitter(fh=int(len(fh)), initial_window=365*2, step_length=30)\n",
    "#cv = SlidingWindowSplitter(window_length=365*2, step_length=7, fh=fh_int)\n",
    "cv = SingleWindowSplitter(fh=fh_int)\n",
    "gscv = ForecastingGridSearchCV(rf_forecaster, cv=cv, param_grid=forecaster_param_grid, n_jobs=-1, scoring=mape)\n"
   ]
  },
  {
   "cell_type": "code",
   "execution_count": null,
   "metadata": {},
   "outputs": [],
   "source": [
    "# Check splitter data split\n",
    "list(cv.split_series(y_train))"
   ]
  },
  {
   "cell_type": "markdown",
   "metadata": {},
   "source": [
    "### Perform Cross Validation"
   ]
  },
  {
   "cell_type": "code",
   "execution_count": 43,
   "metadata": {},
   "outputs": [
    {
     "name": "stdout",
     "output_type": "stream",
     "text": [
      "Creating Random Forest Model ...\n"
     ]
    },
    {
     "data": {
      "text/html": [
       "<style>#sk-container-id-8 {color: black;background-color: white;}#sk-container-id-8 pre{padding: 0;}#sk-container-id-8 div.sk-toggleable {background-color: white;}#sk-container-id-8 label.sk-toggleable__label {cursor: pointer;display: block;width: 100%;margin-bottom: 0;padding: 0.3em;box-sizing: border-box;text-align: center;}#sk-container-id-8 label.sk-toggleable__label-arrow:before {content: \"▸\";float: left;margin-right: 0.25em;color: #696969;}#sk-container-id-8 label.sk-toggleable__label-arrow:hover:before {color: black;}#sk-container-id-8 div.sk-estimator:hover label.sk-toggleable__label-arrow:before {color: black;}#sk-container-id-8 div.sk-toggleable__content {max-height: 0;max-width: 0;overflow: hidden;text-align: left;background-color: #f0f8ff;}#sk-container-id-8 div.sk-toggleable__content pre {margin: 0.2em;color: black;border-radius: 0.25em;background-color: #f0f8ff;}#sk-container-id-8 input.sk-toggleable__control:checked~div.sk-toggleable__content {max-height: 200px;max-width: 100%;overflow: auto;}#sk-container-id-8 input.sk-toggleable__control:checked~label.sk-toggleable__label-arrow:before {content: \"▾\";}#sk-container-id-8 div.sk-estimator input.sk-toggleable__control:checked~label.sk-toggleable__label {background-color: #d4ebff;}#sk-container-id-8 div.sk-label input.sk-toggleable__control:checked~label.sk-toggleable__label {background-color: #d4ebff;}#sk-container-id-8 input.sk-hidden--visually {border: 0;clip: rect(1px 1px 1px 1px);clip: rect(1px, 1px, 1px, 1px);height: 1px;margin: -1px;overflow: hidden;padding: 0;position: absolute;width: 1px;}#sk-container-id-8 div.sk-estimator {font-family: monospace;background-color: #f0f8ff;border: 1px dotted black;border-radius: 0.25em;box-sizing: border-box;margin-bottom: 0.5em;}#sk-container-id-8 div.sk-estimator:hover {background-color: #d4ebff;}#sk-container-id-8 div.sk-parallel-item::after {content: \"\";width: 100%;border-bottom: 1px solid gray;flex-grow: 1;}#sk-container-id-8 div.sk-label:hover label.sk-toggleable__label {background-color: #d4ebff;}#sk-container-id-8 div.sk-serial::before {content: \"\";position: absolute;border-left: 1px solid gray;box-sizing: border-box;top: 0;bottom: 0;left: 50%;z-index: 0;}#sk-container-id-8 div.sk-serial {display: flex;flex-direction: column;align-items: center;background-color: white;padding-right: 0.2em;padding-left: 0.2em;position: relative;}#sk-container-id-8 div.sk-item {position: relative;z-index: 1;}#sk-container-id-8 div.sk-parallel {display: flex;align-items: stretch;justify-content: center;background-color: white;position: relative;}#sk-container-id-8 div.sk-item::before, #sk-container-id-8 div.sk-parallel-item::before {content: \"\";position: absolute;border-left: 1px solid gray;box-sizing: border-box;top: 0;bottom: 0;left: 50%;z-index: -1;}#sk-container-id-8 div.sk-parallel-item {display: flex;flex-direction: column;z-index: 1;position: relative;background-color: white;}#sk-container-id-8 div.sk-parallel-item:first-child::after {align-self: flex-end;width: 50%;}#sk-container-id-8 div.sk-parallel-item:last-child::after {align-self: flex-start;width: 50%;}#sk-container-id-8 div.sk-parallel-item:only-child::after {width: 0;}#sk-container-id-8 div.sk-dashed-wrapped {border: 1px dashed gray;margin: 0 0.4em 0.5em 0.4em;box-sizing: border-box;padding-bottom: 0.4em;background-color: white;}#sk-container-id-8 div.sk-label label {font-family: monospace;font-weight: bold;display: inline-block;line-height: 1.2em;}#sk-container-id-8 div.sk-label-container {text-align: center;}#sk-container-id-8 div.sk-container {/* jupyter's `normalize.less` sets `[hidden] { display: none; }` but bootstrap.min.css set `[hidden] { display: none !important; }` so we also need the `!important` here to be able to override the default hidden behavior on the sphinx rendered scikit-learn.org. See: https://github.com/scikit-learn/scikit-learn/issues/21755 */display: inline-block !important;position: relative;}#sk-container-id-8 div.sk-text-repr-fallback {display: none;}</style><div id=\"sk-container-id-8\" class=\"sk-top-container\"><div class=\"sk-text-repr-fallback\"><pre>ForecastingGridSearchCV(cv=SingleWindowSplitter(fh=array([  1,   2,   3,   4,   5,   6,   7,   8,   9,  10,  11,  12,  13,\n",
       "        14,  15,  16,  17,  18,  19,  20,  21,  22,  23,  24,  25,  26,\n",
       "        27,  28,  29,  30,  31,  32,  33,  34,  35,  36,  37,  38,  39,\n",
       "        40,  41,  42,  43,  44,  45,  46,  47,  48,  49,  50,  51,  52,\n",
       "        53,  54,  55,  56,  57,  58,  59,  60,  61,  62,  63,  64,  65,\n",
       "        66,  67,  68,  69,  70,  71,  72,  73,  74,  75,  76,  77,  78,\n",
       "        79,  80,  81,  82,  83,  84,  85,  86,  87,  88,  89,  90,  91,\n",
       "        92,  93,  94,  95,  96,  97,  98,  99, 100,...\n",
       "       456, 457, 458, 459, 460, 461, 462, 463, 464, 465, 466, 467, 468,\n",
       "       469, 470, 471, 472, 473, 474, 475, 476, 477, 478, 479, 480, 481,\n",
       "       482, 483, 484, 485, 486, 487, 488, 489])),\n",
       "                        forecaster=RecursiveTabularRegressionForecaster(estimator=RandomForestRegressor(n_jobs=-1,\n",
       "                                                                                                        random_state=0)),\n",
       "                        n_jobs=-1,\n",
       "                        param_grid={&#x27;estimator__n_estimators&#x27;: [200, 300],\n",
       "                                    &#x27;window_length&#x27;: [1, 7, 14, 21, 30]},\n",
       "                        scoring=MeanAbsolutePercentageError())</pre><b>In a Jupyter environment, please rerun this cell to show the HTML representation or trust the notebook. <br />On GitHub, the HTML representation is unable to render, please try loading this page with nbviewer.org.</b></div><div class=\"sk-container\" hidden><div class=\"sk-item sk-dashed-wrapped\"><div class=\"sk-label-container\"><div class=\"sk-label sk-toggleable\"><input class=\"sk-toggleable__control sk-hidden--visually\" id=\"sk-estimator-id-23\" type=\"checkbox\" ><label for=\"sk-estimator-id-23\" class=\"sk-toggleable__label sk-toggleable__label-arrow\">ForecastingGridSearchCV</label><div class=\"sk-toggleable__content\"><pre>ForecastingGridSearchCV(cv=SingleWindowSplitter(fh=array([  1,   2,   3,   4,   5,   6,   7,   8,   9,  10,  11,  12,  13,\n",
       "        14,  15,  16,  17,  18,  19,  20,  21,  22,  23,  24,  25,  26,\n",
       "        27,  28,  29,  30,  31,  32,  33,  34,  35,  36,  37,  38,  39,\n",
       "        40,  41,  42,  43,  44,  45,  46,  47,  48,  49,  50,  51,  52,\n",
       "        53,  54,  55,  56,  57,  58,  59,  60,  61,  62,  63,  64,  65,\n",
       "        66,  67,  68,  69,  70,  71,  72,  73,  74,  75,  76,  77,  78,\n",
       "        79,  80,  81,  82,  83,  84,  85,  86,  87,  88,  89,  90,  91,\n",
       "        92,  93,  94,  95,  96,  97,  98,  99, 100,...\n",
       "       456, 457, 458, 459, 460, 461, 462, 463, 464, 465, 466, 467, 468,\n",
       "       469, 470, 471, 472, 473, 474, 475, 476, 477, 478, 479, 480, 481,\n",
       "       482, 483, 484, 485, 486, 487, 488, 489])),\n",
       "                        forecaster=RecursiveTabularRegressionForecaster(estimator=RandomForestRegressor(n_jobs=-1,\n",
       "                                                                                                        random_state=0)),\n",
       "                        n_jobs=-1,\n",
       "                        param_grid={&#x27;estimator__n_estimators&#x27;: [200, 300],\n",
       "                                    &#x27;window_length&#x27;: [1, 7, 14, 21, 30]},\n",
       "                        scoring=MeanAbsolutePercentageError())</pre></div></div></div><div class=\"sk-parallel\"><div class=\"sk-parallel-item\"><div class=\"sk-item\"><div class=\"sk-label-container\"><div class=\"sk-label sk-toggleable\"><input class=\"sk-toggleable__control sk-hidden--visually\" id=\"sk-estimator-id-24\" type=\"checkbox\" ><label for=\"sk-estimator-id-24\" class=\"sk-toggleable__label sk-toggleable__label-arrow\">forecaster: RecursiveTabularRegressionForecaster</label><div class=\"sk-toggleable__content\"><pre>RecursiveTabularRegressionForecaster(estimator=RandomForestRegressor(n_jobs=-1,\n",
       "                                                                     random_state=0))</pre></div></div></div><div class=\"sk-serial\"><div class=\"sk-item sk-dashed-wrapped\"><div class=\"sk-parallel\"><div class=\"sk-parallel-item\"><div class=\"sk-item\"><div class=\"sk-label-container\"><div class=\"sk-label sk-toggleable\"><input class=\"sk-toggleable__control sk-hidden--visually\" id=\"sk-estimator-id-25\" type=\"checkbox\" ><label for=\"sk-estimator-id-25\" class=\"sk-toggleable__label sk-toggleable__label-arrow\">estimator: RandomForestRegressor</label><div class=\"sk-toggleable__content\"><pre>RandomForestRegressor(n_jobs=-1, random_state=0)</pre></div></div></div><div class=\"sk-serial\"><div class=\"sk-item\"><div class=\"sk-estimator sk-toggleable\"><input class=\"sk-toggleable__control sk-hidden--visually\" id=\"sk-estimator-id-26\" type=\"checkbox\" ><label for=\"sk-estimator-id-26\" class=\"sk-toggleable__label sk-toggleable__label-arrow\">RandomForestRegressor</label><div class=\"sk-toggleable__content\"><pre>RandomForestRegressor(n_jobs=-1, random_state=0)</pre></div></div></div></div></div></div></div></div></div></div></div></div></div></div></div>"
      ],
      "text/plain": [
       "ForecastingGridSearchCV(cv=SingleWindowSplitter(fh=array([  1,   2,   3,   4,   5,   6,   7,   8,   9,  10,  11,  12,  13,\n",
       "        14,  15,  16,  17,  18,  19,  20,  21,  22,  23,  24,  25,  26,\n",
       "        27,  28,  29,  30,  31,  32,  33,  34,  35,  36,  37,  38,  39,\n",
       "        40,  41,  42,  43,  44,  45,  46,  47,  48,  49,  50,  51,  52,\n",
       "        53,  54,  55,  56,  57,  58,  59,  60,  61,  62,  63,  64,  65,\n",
       "        66,  67,  68,  69,  70,  71,  72,  73,  74,  75,  76,  77,  78,\n",
       "        79,  80,  81,  82,  83,  84,  85,  86,  87,  88,  89,  90,  91,\n",
       "        92,  93,  94,  95,  96,  97,  98,  99, 100,...\n",
       "       456, 457, 458, 459, 460, 461, 462, 463, 464, 465, 466, 467, 468,\n",
       "       469, 470, 471, 472, 473, 474, 475, 476, 477, 478, 479, 480, 481,\n",
       "       482, 483, 484, 485, 486, 487, 488, 489])),\n",
       "                        forecaster=RecursiveTabularRegressionForecaster(estimator=RandomForestRegressor(n_jobs=-1,\n",
       "                                                                                                        random_state=0)),\n",
       "                        n_jobs=-1,\n",
       "                        param_grid={'estimator__n_estimators': [200, 300],\n",
       "                                    'window_length': [1, 7, 14, 21, 30]},\n",
       "                        scoring=MeanAbsolutePercentageError())"
      ]
     },
     "execution_count": 43,
     "metadata": {},
     "output_type": "execute_result"
    }
   ],
   "source": [
    "X_train = X_train.asfreq('D')\n",
    "\n",
    "# Perform Cross Validation Model\n",
    "print(\"Creating Random Forest Model ...\")\n",
    "#rf_forecaster.fit(y_train) #, X_train\n",
    "gscv.fit(y_train, X_train) #, X_train"
   ]
  },
  {
   "cell_type": "code",
   "execution_count": 45,
   "metadata": {},
   "outputs": [
    {
     "data": {
      "text/html": [
       "<div>\n",
       "<style scoped>\n",
       "    .dataframe tbody tr th:only-of-type {\n",
       "        vertical-align: middle;\n",
       "    }\n",
       "\n",
       "    .dataframe tbody tr th {\n",
       "        vertical-align: top;\n",
       "    }\n",
       "\n",
       "    .dataframe thead th {\n",
       "        text-align: right;\n",
       "    }\n",
       "</style>\n",
       "<table border=\"1\" class=\"dataframe\">\n",
       "  <thead>\n",
       "    <tr style=\"text-align: right;\">\n",
       "      <th></th>\n",
       "      <th>mean_test_MeanAbsolutePercentageError</th>\n",
       "      <th>mean_fit_time</th>\n",
       "      <th>mean_pred_time</th>\n",
       "      <th>params</th>\n",
       "      <th>rank_test_MeanAbsolutePercentageError</th>\n",
       "    </tr>\n",
       "  </thead>\n",
       "  <tbody>\n",
       "    <tr>\n",
       "      <th>0</th>\n",
       "      <td>1.474057e+18</td>\n",
       "      <td>1.246639</td>\n",
       "      <td>19.883052</td>\n",
       "      <td>{'estimator__n_estimators': 200, 'window_lengt...</td>\n",
       "      <td>6.0</td>\n",
       "    </tr>\n",
       "    <tr>\n",
       "      <th>1</th>\n",
       "      <td>1.461527e+18</td>\n",
       "      <td>0.584557</td>\n",
       "      <td>20.572203</td>\n",
       "      <td>{'estimator__n_estimators': 200, 'window_lengt...</td>\n",
       "      <td>5.0</td>\n",
       "    </tr>\n",
       "    <tr>\n",
       "      <th>2</th>\n",
       "      <td>1.271600e+18</td>\n",
       "      <td>1.548274</td>\n",
       "      <td>19.601172</td>\n",
       "      <td>{'estimator__n_estimators': 200, 'window_lengt...</td>\n",
       "      <td>1.0</td>\n",
       "    </tr>\n",
       "    <tr>\n",
       "      <th>3</th>\n",
       "      <td>1.476423e+18</td>\n",
       "      <td>4.101357</td>\n",
       "      <td>17.208071</td>\n",
       "      <td>{'estimator__n_estimators': 200, 'window_lengt...</td>\n",
       "      <td>7.0</td>\n",
       "    </tr>\n",
       "    <tr>\n",
       "      <th>4</th>\n",
       "      <td>1.290622e+18</td>\n",
       "      <td>4.716171</td>\n",
       "      <td>16.438466</td>\n",
       "      <td>{'estimator__n_estimators': 200, 'window_lengt...</td>\n",
       "      <td>3.0</td>\n",
       "    </tr>\n",
       "    <tr>\n",
       "      <th>5</th>\n",
       "      <td>1.795196e+18</td>\n",
       "      <td>1.692149</td>\n",
       "      <td>23.839889</td>\n",
       "      <td>{'estimator__n_estimators': 300, 'window_lengt...</td>\n",
       "      <td>9.0</td>\n",
       "    </tr>\n",
       "    <tr>\n",
       "      <th>6</th>\n",
       "      <td>1.776410e+18</td>\n",
       "      <td>2.993686</td>\n",
       "      <td>22.535591</td>\n",
       "      <td>{'estimator__n_estimators': 300, 'window_lengt...</td>\n",
       "      <td>8.0</td>\n",
       "    </tr>\n",
       "    <tr>\n",
       "      <th>7</th>\n",
       "      <td>1.285848e+18</td>\n",
       "      <td>3.774955</td>\n",
       "      <td>21.509632</td>\n",
       "      <td>{'estimator__n_estimators': 300, 'window_lengt...</td>\n",
       "      <td>2.0</td>\n",
       "    </tr>\n",
       "    <tr>\n",
       "      <th>8</th>\n",
       "      <td>1.795960e+18</td>\n",
       "      <td>4.657068</td>\n",
       "      <td>20.973312</td>\n",
       "      <td>{'estimator__n_estimators': 300, 'window_lengt...</td>\n",
       "      <td>10.0</td>\n",
       "    </tr>\n",
       "    <tr>\n",
       "      <th>9</th>\n",
       "      <td>1.295214e+18</td>\n",
       "      <td>5.081216</td>\n",
       "      <td>20.450197</td>\n",
       "      <td>{'estimator__n_estimators': 300, 'window_lengt...</td>\n",
       "      <td>4.0</td>\n",
       "    </tr>\n",
       "  </tbody>\n",
       "</table>\n",
       "</div>"
      ],
      "text/plain": [
       "   mean_test_MeanAbsolutePercentageError  mean_fit_time  mean_pred_time  \\\n",
       "0                           1.474057e+18       1.246639       19.883052   \n",
       "1                           1.461527e+18       0.584557       20.572203   \n",
       "2                           1.271600e+18       1.548274       19.601172   \n",
       "3                           1.476423e+18       4.101357       17.208071   \n",
       "4                           1.290622e+18       4.716171       16.438466   \n",
       "5                           1.795196e+18       1.692149       23.839889   \n",
       "6                           1.776410e+18       2.993686       22.535591   \n",
       "7                           1.285848e+18       3.774955       21.509632   \n",
       "8                           1.795960e+18       4.657068       20.973312   \n",
       "9                           1.295214e+18       5.081216       20.450197   \n",
       "\n",
       "                                              params  \\\n",
       "0  {'estimator__n_estimators': 200, 'window_lengt...   \n",
       "1  {'estimator__n_estimators': 200, 'window_lengt...   \n",
       "2  {'estimator__n_estimators': 200, 'window_lengt...   \n",
       "3  {'estimator__n_estimators': 200, 'window_lengt...   \n",
       "4  {'estimator__n_estimators': 200, 'window_lengt...   \n",
       "5  {'estimator__n_estimators': 300, 'window_lengt...   \n",
       "6  {'estimator__n_estimators': 300, 'window_lengt...   \n",
       "7  {'estimator__n_estimators': 300, 'window_lengt...   \n",
       "8  {'estimator__n_estimators': 300, 'window_lengt...   \n",
       "9  {'estimator__n_estimators': 300, 'window_lengt...   \n",
       "\n",
       "   rank_test_MeanAbsolutePercentageError  \n",
       "0                                    6.0  \n",
       "1                                    5.0  \n",
       "2                                    1.0  \n",
       "3                                    7.0  \n",
       "4                                    3.0  \n",
       "5                                    9.0  \n",
       "6                                    8.0  \n",
       "7                                    2.0  \n",
       "8                                   10.0  \n",
       "9                                    4.0  "
      ]
     },
     "execution_count": 45,
     "metadata": {},
     "output_type": "execute_result"
    }
   ],
   "source": [
    "# Show top 10 best models based on scoring function\n",
    "gscv.cv_results_"
   ]
  },
  {
   "cell_type": "code",
   "execution_count": 47,
   "metadata": {},
   "outputs": [
    {
     "data": {
      "text/plain": [
       "{'estimator__n_estimators': 200, 'window_length': 14}"
      ]
     },
     "execution_count": 47,
     "metadata": {},
     "output_type": "execute_result"
    }
   ],
   "source": [
    "# Show best model parameters\n",
    "gscv.best_params_"
   ]
  },
  {
   "cell_type": "markdown",
   "metadata": {},
   "source": [
    "### Perform Prediction Based on Best Model"
   ]
  },
  {
   "cell_type": "code",
   "execution_count": 49,
   "metadata": {},
   "outputs": [
    {
     "name": "stdout",
     "output_type": "stream",
     "text": [
      "Random Forest Model Prediction ...\n"
     ]
    }
   ],
   "source": [
    "print(\"Random Forest Model Prediction ...\")\n",
    "#rf_forecast = rf_forecaster.predict(fh) #, X=X_test\n",
    "rf_forecast = gscv.best_forecaster_.predict(fh, X=X_test)#, X=X_test"
   ]
  },
  {
   "cell_type": "markdown",
   "metadata": {},
   "source": [
    "### Model Performance"
   ]
  },
  {
   "cell_type": "code",
   "execution_count": 51,
   "metadata": {},
   "outputs": [
    {
     "name": "stdout",
     "output_type": "stream",
     "text": [
      "Random Forest Model MAPE: 0.2273\n"
     ]
    }
   ],
   "source": [
    "# Create MAPE\n",
    "y_pred_rf = pd.DataFrame(rf_forecast).applymap('{:.2f}'.format)\n",
    "rf_mape = mean_absolute_percentage_error(y_test['lng_production'], y_pred_rf)\n",
    "ranfor_mape_str = str('MAPE: %.4f' % rf_mape)\n",
    "print(\"Random Forest Model \"+ranfor_mape_str)"
   ]
  },
  {
   "cell_type": "code",
   "execution_count": null,
   "metadata": {},
   "outputs": [],
   "source": [
    "#Get Parameters\n",
    "#rf_param = str(rf_forecaster.get_params())\n",
    "rf_param = str(gscv.get_params())\n",
    "print(\"Random Forest Model Parameters \"+rf_param)"
   ]
  },
  {
   "cell_type": "markdown",
   "metadata": {},
   "source": [
    "## XGBoost"
   ]
  },
  {
   "cell_type": "markdown",
   "metadata": {},
   "source": [
    "### Define Model Parameters"
   ]
  },
  {
   "cell_type": "code",
   "execution_count": 154,
   "metadata": {},
   "outputs": [],
   "source": [
    "xgb_objective = 'reg:squarederror'\n",
    "xgb_lags = 6 #1, 6, 27\n",
    "xgb_strategy = \"recursive\"\n",
    "xgb_forecaster_param_grid = {\"window_length\": [1, 6, 7, 14, 21, 27, 32]\n",
    "                            ,\"estimator__n_estimators\": [100, 200, 300]\n",
    "                            #,\"estimator__max_depth\": [3,6,10],\n",
    "                            #,\"estimator__learning_rate\": [0.01, 0.05, 0.1, 0.3],\n",
    "                            #,\"estimator__colsample_bytree\": [0.3, 0.5, 0.7]\n",
    "                            }\n",
    "\n",
    "xgb_regressor = XGBRegressor(objective=xgb_objective, n_jobs=-1, seed = 42)\n",
    "xgb_forecaster = make_reduction(xgb_regressor, strategy=xgb_strategy)\n",
    "\n",
    "cv_xgb = SingleWindowSplitter(fh=fh_int)\n",
    "#gscv_xgb = ForecastingRandomizedSearchCV(xgb_forecaster, cv=cv_xgb, param_grid=xgb_forecaster_param_grid, n_jobs=-1, scoring=mape)\n",
    "gscv_xgb = ForecastingGridSearchCV(xgb_forecaster, cv=cv_xgb, param_grid=xgb_forecaster_param_grid, n_jobs=-1, scoring=mape)\n"
   ]
  },
  {
   "cell_type": "code",
   "execution_count": 163,
   "metadata": {},
   "outputs": [],
   "source": [
    "# Check splitter data split\n",
    "#list(cv_xgb.split_series(y_train))"
   ]
  },
  {
   "cell_type": "markdown",
   "metadata": {},
   "source": [
    "### Perform Cross Validation"
   ]
  },
  {
   "cell_type": "code",
   "execution_count": 156,
   "metadata": {},
   "outputs": [
    {
     "name": "stdout",
     "output_type": "stream",
     "text": [
      "Creating XGBoost Model ...\n"
     ]
    },
    {
     "data": {
      "text/html": [
       "<style>#sk-container-id-31 {color: black;background-color: white;}#sk-container-id-31 pre{padding: 0;}#sk-container-id-31 div.sk-toggleable {background-color: white;}#sk-container-id-31 label.sk-toggleable__label {cursor: pointer;display: block;width: 100%;margin-bottom: 0;padding: 0.3em;box-sizing: border-box;text-align: center;}#sk-container-id-31 label.sk-toggleable__label-arrow:before {content: \"▸\";float: left;margin-right: 0.25em;color: #696969;}#sk-container-id-31 label.sk-toggleable__label-arrow:hover:before {color: black;}#sk-container-id-31 div.sk-estimator:hover label.sk-toggleable__label-arrow:before {color: black;}#sk-container-id-31 div.sk-toggleable__content {max-height: 0;max-width: 0;overflow: hidden;text-align: left;background-color: #f0f8ff;}#sk-container-id-31 div.sk-toggleable__content pre {margin: 0.2em;color: black;border-radius: 0.25em;background-color: #f0f8ff;}#sk-container-id-31 input.sk-toggleable__control:checked~div.sk-toggleable__content {max-height: 200px;max-width: 100%;overflow: auto;}#sk-container-id-31 input.sk-toggleable__control:checked~label.sk-toggleable__label-arrow:before {content: \"▾\";}#sk-container-id-31 div.sk-estimator input.sk-toggleable__control:checked~label.sk-toggleable__label {background-color: #d4ebff;}#sk-container-id-31 div.sk-label input.sk-toggleable__control:checked~label.sk-toggleable__label {background-color: #d4ebff;}#sk-container-id-31 input.sk-hidden--visually {border: 0;clip: rect(1px 1px 1px 1px);clip: rect(1px, 1px, 1px, 1px);height: 1px;margin: -1px;overflow: hidden;padding: 0;position: absolute;width: 1px;}#sk-container-id-31 div.sk-estimator {font-family: monospace;background-color: #f0f8ff;border: 1px dotted black;border-radius: 0.25em;box-sizing: border-box;margin-bottom: 0.5em;}#sk-container-id-31 div.sk-estimator:hover {background-color: #d4ebff;}#sk-container-id-31 div.sk-parallel-item::after {content: \"\";width: 100%;border-bottom: 1px solid gray;flex-grow: 1;}#sk-container-id-31 div.sk-label:hover label.sk-toggleable__label {background-color: #d4ebff;}#sk-container-id-31 div.sk-serial::before {content: \"\";position: absolute;border-left: 1px solid gray;box-sizing: border-box;top: 0;bottom: 0;left: 50%;z-index: 0;}#sk-container-id-31 div.sk-serial {display: flex;flex-direction: column;align-items: center;background-color: white;padding-right: 0.2em;padding-left: 0.2em;position: relative;}#sk-container-id-31 div.sk-item {position: relative;z-index: 1;}#sk-container-id-31 div.sk-parallel {display: flex;align-items: stretch;justify-content: center;background-color: white;position: relative;}#sk-container-id-31 div.sk-item::before, #sk-container-id-31 div.sk-parallel-item::before {content: \"\";position: absolute;border-left: 1px solid gray;box-sizing: border-box;top: 0;bottom: 0;left: 50%;z-index: -1;}#sk-container-id-31 div.sk-parallel-item {display: flex;flex-direction: column;z-index: 1;position: relative;background-color: white;}#sk-container-id-31 div.sk-parallel-item:first-child::after {align-self: flex-end;width: 50%;}#sk-container-id-31 div.sk-parallel-item:last-child::after {align-self: flex-start;width: 50%;}#sk-container-id-31 div.sk-parallel-item:only-child::after {width: 0;}#sk-container-id-31 div.sk-dashed-wrapped {border: 1px dashed gray;margin: 0 0.4em 0.5em 0.4em;box-sizing: border-box;padding-bottom: 0.4em;background-color: white;}#sk-container-id-31 div.sk-label label {font-family: monospace;font-weight: bold;display: inline-block;line-height: 1.2em;}#sk-container-id-31 div.sk-label-container {text-align: center;}#sk-container-id-31 div.sk-container {/* jupyter's `normalize.less` sets `[hidden] { display: none; }` but bootstrap.min.css set `[hidden] { display: none !important; }` so we also need the `!important` here to be able to override the default hidden behavior on the sphinx rendered scikit-learn.org. See: https://github.com/scikit-learn/scikit-learn/issues/21755 */display: inline-block !important;position: relative;}#sk-container-id-31 div.sk-text-repr-fallback {display: none;}</style><div id=\"sk-container-id-31\" class=\"sk-top-container\"><div class=\"sk-text-repr-fallback\"><pre>ForecastingGridSearchCV(cv=SingleWindowSplitter(fh=array([  1,   2,   3,   4,   5,   6,   7,   8,   9,  10,  11,  12,  13,\n",
       "        14,  15,  16,  17,  18,  19,  20,  21,  22,  23,  24,  25,  26,\n",
       "        27,  28,  29,  30,  31,  32,  33,  34,  35,  36,  37,  38,  39,\n",
       "        40,  41,  42,  43,  44,  45,  46,  47,  48,  49,  50,  51,  52,\n",
       "        53,  54,  55,  56,  57,  58,  59,  60,  61,  62,  63,  64,  65,\n",
       "        66,  67,  68,  69,  70,  71,  72,  73,  74,  75,  76,  77,  78,\n",
       "        79,  80,  81,  82,  83,  84,  85,  86,  87,  88,  89,  90,  91,\n",
       "        92,  93,  94,  95,  96,  97,  98,  99, 100,...\n",
       "                                                                                               max_cat_to_onehot=None,\n",
       "                                                                                               max_delta_step=None,\n",
       "                                                                                               max_depth=None,\n",
       "                                                                                               max_leaves=None,\n",
       "                                                                                               min_child_weight=None,\n",
       "                                                                                               missing=nan,\n",
       "                                                                                               monotone_constraints=None,\n",
       "                                                                                               n_estimators=100,\n",
       "                                                                                               n_jobs=-1,\n",
       "                                                                                               num_parallel_tree=None,\n",
       "                                                                                               predictor=None,\n",
       "                                                                                               random_state=None, ...)),\n",
       "                        n_jobs=-1,\n",
       "                        param_grid={&#x27;estimator__n_estimators&#x27;: [100, 200, 300],\n",
       "                                    &#x27;window_length&#x27;: [1, 6, 7, 14, 21, 27, 32]},\n",
       "                        scoring=MeanAbsolutePercentageError())</pre><b>In a Jupyter environment, please rerun this cell to show the HTML representation or trust the notebook. <br />On GitHub, the HTML representation is unable to render, please try loading this page with nbviewer.org.</b></div><div class=\"sk-container\" hidden><div class=\"sk-item sk-dashed-wrapped\"><div class=\"sk-label-container\"><div class=\"sk-label sk-toggleable\"><input class=\"sk-toggleable__control sk-hidden--visually\" id=\"sk-estimator-id-104\" type=\"checkbox\" ><label for=\"sk-estimator-id-104\" class=\"sk-toggleable__label sk-toggleable__label-arrow\">ForecastingGridSearchCV</label><div class=\"sk-toggleable__content\"><pre>ForecastingGridSearchCV(cv=SingleWindowSplitter(fh=array([  1,   2,   3,   4,   5,   6,   7,   8,   9,  10,  11,  12,  13,\n",
       "        14,  15,  16,  17,  18,  19,  20,  21,  22,  23,  24,  25,  26,\n",
       "        27,  28,  29,  30,  31,  32,  33,  34,  35,  36,  37,  38,  39,\n",
       "        40,  41,  42,  43,  44,  45,  46,  47,  48,  49,  50,  51,  52,\n",
       "        53,  54,  55,  56,  57,  58,  59,  60,  61,  62,  63,  64,  65,\n",
       "        66,  67,  68,  69,  70,  71,  72,  73,  74,  75,  76,  77,  78,\n",
       "        79,  80,  81,  82,  83,  84,  85,  86,  87,  88,  89,  90,  91,\n",
       "        92,  93,  94,  95,  96,  97,  98,  99, 100,...\n",
       "                                                                                               max_cat_to_onehot=None,\n",
       "                                                                                               max_delta_step=None,\n",
       "                                                                                               max_depth=None,\n",
       "                                                                                               max_leaves=None,\n",
       "                                                                                               min_child_weight=None,\n",
       "                                                                                               missing=nan,\n",
       "                                                                                               monotone_constraints=None,\n",
       "                                                                                               n_estimators=100,\n",
       "                                                                                               n_jobs=-1,\n",
       "                                                                                               num_parallel_tree=None,\n",
       "                                                                                               predictor=None,\n",
       "                                                                                               random_state=None, ...)),\n",
       "                        n_jobs=-1,\n",
       "                        param_grid={&#x27;estimator__n_estimators&#x27;: [100, 200, 300],\n",
       "                                    &#x27;window_length&#x27;: [1, 6, 7, 14, 21, 27, 32]},\n",
       "                        scoring=MeanAbsolutePercentageError())</pre></div></div></div><div class=\"sk-parallel\"><div class=\"sk-parallel-item\"><div class=\"sk-item\"><div class=\"sk-label-container\"><div class=\"sk-label sk-toggleable\"><input class=\"sk-toggleable__control sk-hidden--visually\" id=\"sk-estimator-id-105\" type=\"checkbox\" ><label for=\"sk-estimator-id-105\" class=\"sk-toggleable__label sk-toggleable__label-arrow\">forecaster: RecursiveTabularRegressionForecaster</label><div class=\"sk-toggleable__content\"><pre>RecursiveTabularRegressionForecaster(estimator=XGBRegressor(base_score=None,\n",
       "                                                            booster=None,\n",
       "                                                            callbacks=None,\n",
       "                                                            colsample_bylevel=None,\n",
       "                                                            colsample_bynode=None,\n",
       "                                                            colsample_bytree=None,\n",
       "                                                            early_stopping_rounds=None,\n",
       "                                                            enable_categorical=False,\n",
       "                                                            eval_metric=None,\n",
       "                                                            feature_types=None,\n",
       "                                                            gamma=None,\n",
       "                                                            gpu_id=None,\n",
       "                                                            grow_policy=None,\n",
       "                                                            importance_type=None,\n",
       "                                                            interaction_constraints=None,\n",
       "                                                            learning_rate=None,\n",
       "                                                            max_bin=None,\n",
       "                                                            max_cat_threshold=None,\n",
       "                                                            max_cat_to_onehot=None,\n",
       "                                                            max_delta_step=None,\n",
       "                                                            max_depth=None,\n",
       "                                                            max_leaves=None,\n",
       "                                                            min_child_weight=None,\n",
       "                                                            missing=nan,\n",
       "                                                            monotone_constraints=None,\n",
       "                                                            n_estimators=100,\n",
       "                                                            n_jobs=-1,\n",
       "                                                            num_parallel_tree=None,\n",
       "                                                            predictor=None,\n",
       "                                                            random_state=None, ...))</pre></div></div></div><div class=\"sk-serial\"><div class=\"sk-item sk-dashed-wrapped\"><div class=\"sk-parallel\"><div class=\"sk-parallel-item\"><div class=\"sk-item\"><div class=\"sk-label-container\"><div class=\"sk-label sk-toggleable\"><input class=\"sk-toggleable__control sk-hidden--visually\" id=\"sk-estimator-id-106\" type=\"checkbox\" ><label for=\"sk-estimator-id-106\" class=\"sk-toggleable__label sk-toggleable__label-arrow\">estimator: XGBRegressor</label><div class=\"sk-toggleable__content\"><pre>XGBRegressor(base_score=None, booster=None, callbacks=None,\n",
       "             colsample_bylevel=None, colsample_bynode=None,\n",
       "             colsample_bytree=None, early_stopping_rounds=None,\n",
       "             enable_categorical=False, eval_metric=None, feature_types=None,\n",
       "             gamma=None, gpu_id=None, grow_policy=None, importance_type=None,\n",
       "             interaction_constraints=None, learning_rate=None, max_bin=None,\n",
       "             max_cat_threshold=None, max_cat_to_onehot=None,\n",
       "             max_delta_step=None, max_depth=None, max_leaves=None,\n",
       "             min_child_weight=None, missing=nan, monotone_constraints=None,\n",
       "             n_estimators=100, n_jobs=-1, num_parallel_tree=None,\n",
       "             predictor=None, random_state=None, ...)</pre></div></div></div><div class=\"sk-serial\"><div class=\"sk-item\"><div class=\"sk-estimator sk-toggleable\"><input class=\"sk-toggleable__control sk-hidden--visually\" id=\"sk-estimator-id-107\" type=\"checkbox\" ><label for=\"sk-estimator-id-107\" class=\"sk-toggleable__label sk-toggleable__label-arrow\">XGBRegressor</label><div class=\"sk-toggleable__content\"><pre>XGBRegressor(base_score=None, booster=None, callbacks=None,\n",
       "             colsample_bylevel=None, colsample_bynode=None,\n",
       "             colsample_bytree=None, early_stopping_rounds=None,\n",
       "             enable_categorical=False, eval_metric=None, feature_types=None,\n",
       "             gamma=None, gpu_id=None, grow_policy=None, importance_type=None,\n",
       "             interaction_constraints=None, learning_rate=None, max_bin=None,\n",
       "             max_cat_threshold=None, max_cat_to_onehot=None,\n",
       "             max_delta_step=None, max_depth=None, max_leaves=None,\n",
       "             min_child_weight=None, missing=nan, monotone_constraints=None,\n",
       "             n_estimators=100, n_jobs=-1, num_parallel_tree=None,\n",
       "             predictor=None, random_state=None, ...)</pre></div></div></div></div></div></div></div></div></div></div></div></div></div></div></div>"
      ],
      "text/plain": [
       "ForecastingGridSearchCV(cv=SingleWindowSplitter(fh=array([  1,   2,   3,   4,   5,   6,   7,   8,   9,  10,  11,  12,  13,\n",
       "        14,  15,  16,  17,  18,  19,  20,  21,  22,  23,  24,  25,  26,\n",
       "        27,  28,  29,  30,  31,  32,  33,  34,  35,  36,  37,  38,  39,\n",
       "        40,  41,  42,  43,  44,  45,  46,  47,  48,  49,  50,  51,  52,\n",
       "        53,  54,  55,  56,  57,  58,  59,  60,  61,  62,  63,  64,  65,\n",
       "        66,  67,  68,  69,  70,  71,  72,  73,  74,  75,  76,  77,  78,\n",
       "        79,  80,  81,  82,  83,  84,  85,  86,  87,  88,  89,  90,  91,\n",
       "        92,  93,  94,  95,  96,  97,  98,  99, 100,...\n",
       "                                                                                               max_cat_to_onehot=None,\n",
       "                                                                                               max_delta_step=None,\n",
       "                                                                                               max_depth=None,\n",
       "                                                                                               max_leaves=None,\n",
       "                                                                                               min_child_weight=None,\n",
       "                                                                                               missing=nan,\n",
       "                                                                                               monotone_constraints=None,\n",
       "                                                                                               n_estimators=100,\n",
       "                                                                                               n_jobs=-1,\n",
       "                                                                                               num_parallel_tree=None,\n",
       "                                                                                               predictor=None,\n",
       "                                                                                               random_state=None, ...)),\n",
       "                        n_jobs=-1,\n",
       "                        param_grid={'estimator__n_estimators': [100, 200, 300],\n",
       "                                    'window_length': [1, 6, 7, 14, 21, 27, 32]},\n",
       "                        scoring=MeanAbsolutePercentageError())"
      ]
     },
     "execution_count": 156,
     "metadata": {},
     "output_type": "execute_result"
    }
   ],
   "source": [
    "X_train = X_train.asfreq('D')\n",
    "\n",
    "# Perform Cross Validation Model\n",
    "print(\"Creating XGBoost Model ...\")\n",
    "#rf_forecaster.fit(y_train) #, X_train\n",
    "gscv_xgb.fit(y_train, X_train) #, X_train"
   ]
  },
  {
   "cell_type": "code",
   "execution_count": 157,
   "metadata": {},
   "outputs": [
    {
     "data": {
      "text/html": [
       "<div>\n",
       "<style scoped>\n",
       "    .dataframe tbody tr th:only-of-type {\n",
       "        vertical-align: middle;\n",
       "    }\n",
       "\n",
       "    .dataframe tbody tr th {\n",
       "        vertical-align: top;\n",
       "    }\n",
       "\n",
       "    .dataframe thead th {\n",
       "        text-align: right;\n",
       "    }\n",
       "</style>\n",
       "<table border=\"1\" class=\"dataframe\">\n",
       "  <thead>\n",
       "    <tr style=\"text-align: right;\">\n",
       "      <th></th>\n",
       "      <th>mean_test_MeanAbsolutePercentageError</th>\n",
       "      <th>mean_fit_time</th>\n",
       "      <th>mean_pred_time</th>\n",
       "      <th>params</th>\n",
       "      <th>rank_test_MeanAbsolutePercentageError</th>\n",
       "    </tr>\n",
       "  </thead>\n",
       "  <tbody>\n",
       "    <tr>\n",
       "      <th>0</th>\n",
       "      <td>1.318690e+18</td>\n",
       "      <td>0.154200</td>\n",
       "      <td>0.667362</td>\n",
       "      <td>{'estimator__n_estimators': 100, 'window_lengt...</td>\n",
       "      <td>1.0</td>\n",
       "    </tr>\n",
       "    <tr>\n",
       "      <th>12</th>\n",
       "      <td>1.419927e+18</td>\n",
       "      <td>3.033859</td>\n",
       "      <td>0.457291</td>\n",
       "      <td>{'estimator__n_estimators': 200, 'window_lengt...</td>\n",
       "      <td>2.0</td>\n",
       "    </tr>\n",
       "    <tr>\n",
       "      <th>8</th>\n",
       "      <td>1.549940e+18</td>\n",
       "      <td>0.896029</td>\n",
       "      <td>0.653143</td>\n",
       "      <td>{'estimator__n_estimators': 200, 'window_lengt...</td>\n",
       "      <td>3.0</td>\n",
       "    </tr>\n",
       "    <tr>\n",
       "      <th>9</th>\n",
       "      <td>1.552514e+18</td>\n",
       "      <td>0.915611</td>\n",
       "      <td>0.598554</td>\n",
       "      <td>{'estimator__n_estimators': 200, 'window_lengt...</td>\n",
       "      <td>4.0</td>\n",
       "    </tr>\n",
       "    <tr>\n",
       "      <th>10</th>\n",
       "      <td>1.613354e+18</td>\n",
       "      <td>1.830381</td>\n",
       "      <td>0.574796</td>\n",
       "      <td>{'estimator__n_estimators': 200, 'window_lengt...</td>\n",
       "      <td>5.0</td>\n",
       "    </tr>\n",
       "    <tr>\n",
       "      <th>17</th>\n",
       "      <td>1.613420e+18</td>\n",
       "      <td>2.144989</td>\n",
       "      <td>0.427770</td>\n",
       "      <td>{'estimator__n_estimators': 300, 'window_lengt...</td>\n",
       "      <td>6.0</td>\n",
       "    </tr>\n",
       "    <tr>\n",
       "      <th>11</th>\n",
       "      <td>1.632736e+18</td>\n",
       "      <td>2.372885</td>\n",
       "      <td>0.419667</td>\n",
       "      <td>{'estimator__n_estimators': 200, 'window_lengt...</td>\n",
       "      <td>7.0</td>\n",
       "    </tr>\n",
       "    <tr>\n",
       "      <th>5</th>\n",
       "      <td>1.650174e+18</td>\n",
       "      <td>1.512715</td>\n",
       "      <td>0.587686</td>\n",
       "      <td>{'estimator__n_estimators': 100, 'window_lengt...</td>\n",
       "      <td>8.0</td>\n",
       "    </tr>\n",
       "    <tr>\n",
       "      <th>3</th>\n",
       "      <td>1.662578e+18</td>\n",
       "      <td>0.910999</td>\n",
       "      <td>0.627126</td>\n",
       "      <td>{'estimator__n_estimators': 100, 'window_lengt...</td>\n",
       "      <td>9.0</td>\n",
       "    </tr>\n",
       "    <tr>\n",
       "      <th>19</th>\n",
       "      <td>1.676795e+18</td>\n",
       "      <td>3.414725</td>\n",
       "      <td>0.310947</td>\n",
       "      <td>{'estimator__n_estimators': 300, 'window_lengt...</td>\n",
       "      <td>10.0</td>\n",
       "    </tr>\n",
       "    <tr>\n",
       "      <th>6</th>\n",
       "      <td>1.680385e+18</td>\n",
       "      <td>1.729811</td>\n",
       "      <td>0.525304</td>\n",
       "      <td>{'estimator__n_estimators': 100, 'window_lengt...</td>\n",
       "      <td>11.0</td>\n",
       "    </tr>\n",
       "    <tr>\n",
       "      <th>2</th>\n",
       "      <td>1.700826e+18</td>\n",
       "      <td>0.533520</td>\n",
       "      <td>0.638123</td>\n",
       "      <td>{'estimator__n_estimators': 100, 'window_lengt...</td>\n",
       "      <td>12.0</td>\n",
       "    </tr>\n",
       "    <tr>\n",
       "      <th>18</th>\n",
       "      <td>1.711520e+18</td>\n",
       "      <td>2.816512</td>\n",
       "      <td>0.319039</td>\n",
       "      <td>{'estimator__n_estimators': 300, 'window_lengt...</td>\n",
       "      <td>13.0</td>\n",
       "    </tr>\n",
       "    <tr>\n",
       "      <th>4</th>\n",
       "      <td>1.734047e+18</td>\n",
       "      <td>1.350418</td>\n",
       "      <td>0.617546</td>\n",
       "      <td>{'estimator__n_estimators': 100, 'window_lengt...</td>\n",
       "      <td>14.0</td>\n",
       "    </tr>\n",
       "    <tr>\n",
       "      <th>20</th>\n",
       "      <td>1.743338e+18</td>\n",
       "      <td>3.689634</td>\n",
       "      <td>0.298965</td>\n",
       "      <td>{'estimator__n_estimators': 300, 'window_lengt...</td>\n",
       "      <td>15.0</td>\n",
       "    </tr>\n",
       "    <tr>\n",
       "      <th>15</th>\n",
       "      <td>1.747941e+18</td>\n",
       "      <td>1.170609</td>\n",
       "      <td>0.631494</td>\n",
       "      <td>{'estimator__n_estimators': 300, 'window_lengt...</td>\n",
       "      <td>16.0</td>\n",
       "    </tr>\n",
       "    <tr>\n",
       "      <th>13</th>\n",
       "      <td>1.751032e+18</td>\n",
       "      <td>3.156182</td>\n",
       "      <td>0.390947</td>\n",
       "      <td>{'estimator__n_estimators': 200, 'window_lengt...</td>\n",
       "      <td>17.0</td>\n",
       "    </tr>\n",
       "    <tr>\n",
       "      <th>1</th>\n",
       "      <td>1.754901e+18</td>\n",
       "      <td>0.496084</td>\n",
       "      <td>0.657980</td>\n",
       "      <td>{'estimator__n_estimators': 100, 'window_lengt...</td>\n",
       "      <td>18.0</td>\n",
       "    </tr>\n",
       "    <tr>\n",
       "      <th>16</th>\n",
       "      <td>1.776811e+18</td>\n",
       "      <td>1.356665</td>\n",
       "      <td>0.452840</td>\n",
       "      <td>{'estimator__n_estimators': 300, 'window_lengt...</td>\n",
       "      <td>19.0</td>\n",
       "    </tr>\n",
       "    <tr>\n",
       "      <th>7</th>\n",
       "      <td>1.793526e+18</td>\n",
       "      <td>0.258299</td>\n",
       "      <td>0.625035</td>\n",
       "      <td>{'estimator__n_estimators': 200, 'window_lengt...</td>\n",
       "      <td>20.0</td>\n",
       "    </tr>\n",
       "    <tr>\n",
       "      <th>14</th>\n",
       "      <td>1.796832e+18</td>\n",
       "      <td>0.348932</td>\n",
       "      <td>0.613577</td>\n",
       "      <td>{'estimator__n_estimators': 300, 'window_lengt...</td>\n",
       "      <td>21.0</td>\n",
       "    </tr>\n",
       "  </tbody>\n",
       "</table>\n",
       "</div>"
      ],
      "text/plain": [
       "    mean_test_MeanAbsolutePercentageError  mean_fit_time  mean_pred_time  \\\n",
       "0                            1.318690e+18       0.154200        0.667362   \n",
       "12                           1.419927e+18       3.033859        0.457291   \n",
       "8                            1.549940e+18       0.896029        0.653143   \n",
       "9                            1.552514e+18       0.915611        0.598554   \n",
       "10                           1.613354e+18       1.830381        0.574796   \n",
       "17                           1.613420e+18       2.144989        0.427770   \n",
       "11                           1.632736e+18       2.372885        0.419667   \n",
       "5                            1.650174e+18       1.512715        0.587686   \n",
       "3                            1.662578e+18       0.910999        0.627126   \n",
       "19                           1.676795e+18       3.414725        0.310947   \n",
       "6                            1.680385e+18       1.729811        0.525304   \n",
       "2                            1.700826e+18       0.533520        0.638123   \n",
       "18                           1.711520e+18       2.816512        0.319039   \n",
       "4                            1.734047e+18       1.350418        0.617546   \n",
       "20                           1.743338e+18       3.689634        0.298965   \n",
       "15                           1.747941e+18       1.170609        0.631494   \n",
       "13                           1.751032e+18       3.156182        0.390947   \n",
       "1                            1.754901e+18       0.496084        0.657980   \n",
       "16                           1.776811e+18       1.356665        0.452840   \n",
       "7                            1.793526e+18       0.258299        0.625035   \n",
       "14                           1.796832e+18       0.348932        0.613577   \n",
       "\n",
       "                                               params  \\\n",
       "0   {'estimator__n_estimators': 100, 'window_lengt...   \n",
       "12  {'estimator__n_estimators': 200, 'window_lengt...   \n",
       "8   {'estimator__n_estimators': 200, 'window_lengt...   \n",
       "9   {'estimator__n_estimators': 200, 'window_lengt...   \n",
       "10  {'estimator__n_estimators': 200, 'window_lengt...   \n",
       "17  {'estimator__n_estimators': 300, 'window_lengt...   \n",
       "11  {'estimator__n_estimators': 200, 'window_lengt...   \n",
       "5   {'estimator__n_estimators': 100, 'window_lengt...   \n",
       "3   {'estimator__n_estimators': 100, 'window_lengt...   \n",
       "19  {'estimator__n_estimators': 300, 'window_lengt...   \n",
       "6   {'estimator__n_estimators': 100, 'window_lengt...   \n",
       "2   {'estimator__n_estimators': 100, 'window_lengt...   \n",
       "18  {'estimator__n_estimators': 300, 'window_lengt...   \n",
       "4   {'estimator__n_estimators': 100, 'window_lengt...   \n",
       "20  {'estimator__n_estimators': 300, 'window_lengt...   \n",
       "15  {'estimator__n_estimators': 300, 'window_lengt...   \n",
       "13  {'estimator__n_estimators': 200, 'window_lengt...   \n",
       "1   {'estimator__n_estimators': 100, 'window_lengt...   \n",
       "16  {'estimator__n_estimators': 300, 'window_lengt...   \n",
       "7   {'estimator__n_estimators': 200, 'window_lengt...   \n",
       "14  {'estimator__n_estimators': 300, 'window_lengt...   \n",
       "\n",
       "    rank_test_MeanAbsolutePercentageError  \n",
       "0                                     1.0  \n",
       "12                                    2.0  \n",
       "8                                     3.0  \n",
       "9                                     4.0  \n",
       "10                                    5.0  \n",
       "17                                    6.0  \n",
       "11                                    7.0  \n",
       "5                                     8.0  \n",
       "3                                     9.0  \n",
       "19                                   10.0  \n",
       "6                                    11.0  \n",
       "2                                    12.0  \n",
       "18                                   13.0  \n",
       "4                                    14.0  \n",
       "20                                   15.0  \n",
       "15                                   16.0  \n",
       "13                                   17.0  \n",
       "1                                    18.0  \n",
       "16                                   19.0  \n",
       "7                                    20.0  \n",
       "14                                   21.0  "
      ]
     },
     "execution_count": 157,
     "metadata": {},
     "output_type": "execute_result"
    }
   ],
   "source": [
    "# Show top 10 best models based on scoring function\n",
    "gscv_xgb.cv_results_.sort_values(by='rank_test_MeanAbsolutePercentageError', ascending=True)"
   ]
  },
  {
   "cell_type": "code",
   "execution_count": 159,
   "metadata": {},
   "outputs": [
    {
     "data": {
      "text/plain": [
       "{'estimator__n_estimators': 100, 'window_length': 1}"
      ]
     },
     "execution_count": 159,
     "metadata": {},
     "output_type": "execute_result"
    }
   ],
   "source": [
    "# Show best model parameters\n",
    "gscv_xgb.best_params_"
   ]
  },
  {
   "cell_type": "markdown",
   "metadata": {},
   "source": [
    "### Perform Prediction Based on Best Model"
   ]
  },
  {
   "cell_type": "code",
   "execution_count": 160,
   "metadata": {},
   "outputs": [
    {
     "name": "stdout",
     "output_type": "stream",
     "text": [
      "XGBoost Model Prediction ...\n"
     ]
    }
   ],
   "source": [
    "print(\"XGBoost Model Prediction ...\")\n",
    "#rf_forecast = rf_forecaster.predict(fh) #, X=X_test\n",
    "xgb_forecast = gscv_xgb.best_forecaster_.predict(fh, X=X_test)#, X=X_test"
   ]
  },
  {
   "cell_type": "markdown",
   "metadata": {},
   "source": [
    "### Model Performance"
   ]
  },
  {
   "cell_type": "code",
   "execution_count": 161,
   "metadata": {},
   "outputs": [
    {
     "name": "stdout",
     "output_type": "stream",
     "text": [
      "XGBoost Model MAPE: 0.1328\n"
     ]
    }
   ],
   "source": [
    "# Create MAPE\n",
    "y_pred_xgb = pd.DataFrame(xgb_forecast).applymap('{:.2f}'.format)\n",
    "#y_pred_xgb\n",
    "xgb_mape = mean_absolute_percentage_error(y_test['lng_production'], y_pred_xgb)\n",
    "xgb_mape_str = str('MAPE: %.4f' % xgb_mape)\n",
    "print(\"XGBoost Model \"+ xgb_mape_str)"
   ]
  },
  {
   "cell_type": "code",
   "execution_count": null,
   "metadata": {},
   "outputs": [],
   "source": [
    "#Get Parameters\n",
    "#rf_param = str(rf_forecaster.get_params())\n",
    "xgb_param = str(gscv_xgb.get_params())\n",
    "print(\"Random Forest Model Parameters \"+xgb_param)"
   ]
  },
  {
   "cell_type": "markdown",
   "metadata": {},
   "source": [
    "## Prophet"
   ]
  },
  {
   "cell_type": "markdown",
   "metadata": {},
   "source": [
    "### Define Model Parameters"
   ]
  },
  {
   "cell_type": "code",
   "execution_count": 202,
   "metadata": {},
   "outputs": [],
   "source": [
    "seasonality_mode = 'additive'\n",
    "n_changepoints = 27 #1, 6, 27\n",
    "seasonality_prior_scale = 0.05\n",
    "changepoint_prior_scale = 0.1\n",
    "holidays_prior_scale = 8\n",
    "daily_seasonality = 8\n",
    "weekly_seasonality = 1\n",
    "yearly_seasonality = 10\n",
    "\n",
    "prophet_param_grid = {'n_changepoints':[1,5]\n",
    "                      ,'seasonality_prior_scale':[0.05, 0.1]\n",
    "                      ,'changepoint_prior_scale':[0.1, 0.5]\n",
    "                      ,'daily_seasonality':[8,10]\n",
    "                      ,'weekly_seasonality':[8,10]\n",
    "                      ,'yearly_seasonality':[8,10]\n",
    "                     }\n",
    "\n",
    "\n",
    "# create regressor object\n",
    "prophet_forecaster = Prophet()\n",
    "\n",
    "cv_prophet = SingleWindowSplitter(fh=fh_int)\n",
    "#gscv_xgb = ForecastingRandomizedSearchCV(xgb_forecaster, cv=cv_xgb, param_grid=xgb_forecaster_param_grid, n_jobs=-1, scoring=mape)\n",
    "gscv_prophet = ForecastingGridSearchCV(prophet_forecaster, cv=cv_prophet, param_grid=prophet_param_grid, n_jobs=-1, scoring=mape)\n"
   ]
  },
  {
   "cell_type": "code",
   "execution_count": 171,
   "metadata": {},
   "outputs": [
    {
     "data": {
      "text/plain": [
       "dict_keys(['backend', 'cv__fh', 'cv__window_length', 'cv', 'error_score', 'forecaster__add_country_holidays', 'forecaster__add_seasonality', 'forecaster__alpha', 'forecaster__changepoint_prior_scale', 'forecaster__changepoint_range', 'forecaster__changepoints', 'forecaster__daily_seasonality', 'forecaster__freq', 'forecaster__growth', 'forecaster__growth_cap', 'forecaster__growth_floor', 'forecaster__holidays', 'forecaster__holidays_prior_scale', 'forecaster__mcmc_samples', 'forecaster__n_changepoints', 'forecaster__seasonality_mode', 'forecaster__seasonality_prior_scale', 'forecaster__stan_backend', 'forecaster__uncertainty_samples', 'forecaster__verbose', 'forecaster__weekly_seasonality', 'forecaster__yearly_seasonality', 'forecaster', 'n_jobs', 'param_grid', 'pre_dispatch', 'refit', 'return_n_best_forecasters', 'scoring__multilevel', 'scoring__multioutput', 'scoring__symmetric', 'scoring', 'strategy', 'update_behaviour', 'verbose'])"
      ]
     },
     "execution_count": 171,
     "metadata": {},
     "output_type": "execute_result"
    }
   ],
   "source": [
    "gscv_prophet.get_params().keys()"
   ]
  },
  {
   "cell_type": "markdown",
   "metadata": {},
   "source": [
    "### Perform Cross Validation"
   ]
  },
  {
   "cell_type": "code",
   "execution_count": 203,
   "metadata": {},
   "outputs": [
    {
     "name": "stdout",
     "output_type": "stream",
     "text": [
      "Creating Prophet Model ...\n"
     ]
    },
    {
     "name": "stderr",
     "output_type": "stream",
     "text": [
      "15:30:03 - cmdstanpy - INFO - Chain [1] start processing\n",
      "15:30:03 - cmdstanpy - INFO - Chain [1] done processing\n",
      "15:30:04 - cmdstanpy - INFO - Chain [1] start processing\n",
      "15:30:04 - cmdstanpy - INFO - Chain [1] done processing\n"
     ]
    },
    {
     "data": {
      "text/html": [
       "<style>#sk-container-id-35 {color: black;background-color: white;}#sk-container-id-35 pre{padding: 0;}#sk-container-id-35 div.sk-toggleable {background-color: white;}#sk-container-id-35 label.sk-toggleable__label {cursor: pointer;display: block;width: 100%;margin-bottom: 0;padding: 0.3em;box-sizing: border-box;text-align: center;}#sk-container-id-35 label.sk-toggleable__label-arrow:before {content: \"▸\";float: left;margin-right: 0.25em;color: #696969;}#sk-container-id-35 label.sk-toggleable__label-arrow:hover:before {color: black;}#sk-container-id-35 div.sk-estimator:hover label.sk-toggleable__label-arrow:before {color: black;}#sk-container-id-35 div.sk-toggleable__content {max-height: 0;max-width: 0;overflow: hidden;text-align: left;background-color: #f0f8ff;}#sk-container-id-35 div.sk-toggleable__content pre {margin: 0.2em;color: black;border-radius: 0.25em;background-color: #f0f8ff;}#sk-container-id-35 input.sk-toggleable__control:checked~div.sk-toggleable__content {max-height: 200px;max-width: 100%;overflow: auto;}#sk-container-id-35 input.sk-toggleable__control:checked~label.sk-toggleable__label-arrow:before {content: \"▾\";}#sk-container-id-35 div.sk-estimator input.sk-toggleable__control:checked~label.sk-toggleable__label {background-color: #d4ebff;}#sk-container-id-35 div.sk-label input.sk-toggleable__control:checked~label.sk-toggleable__label {background-color: #d4ebff;}#sk-container-id-35 input.sk-hidden--visually {border: 0;clip: rect(1px 1px 1px 1px);clip: rect(1px, 1px, 1px, 1px);height: 1px;margin: -1px;overflow: hidden;padding: 0;position: absolute;width: 1px;}#sk-container-id-35 div.sk-estimator {font-family: monospace;background-color: #f0f8ff;border: 1px dotted black;border-radius: 0.25em;box-sizing: border-box;margin-bottom: 0.5em;}#sk-container-id-35 div.sk-estimator:hover {background-color: #d4ebff;}#sk-container-id-35 div.sk-parallel-item::after {content: \"\";width: 100%;border-bottom: 1px solid gray;flex-grow: 1;}#sk-container-id-35 div.sk-label:hover label.sk-toggleable__label {background-color: #d4ebff;}#sk-container-id-35 div.sk-serial::before {content: \"\";position: absolute;border-left: 1px solid gray;box-sizing: border-box;top: 0;bottom: 0;left: 50%;z-index: 0;}#sk-container-id-35 div.sk-serial {display: flex;flex-direction: column;align-items: center;background-color: white;padding-right: 0.2em;padding-left: 0.2em;position: relative;}#sk-container-id-35 div.sk-item {position: relative;z-index: 1;}#sk-container-id-35 div.sk-parallel {display: flex;align-items: stretch;justify-content: center;background-color: white;position: relative;}#sk-container-id-35 div.sk-item::before, #sk-container-id-35 div.sk-parallel-item::before {content: \"\";position: absolute;border-left: 1px solid gray;box-sizing: border-box;top: 0;bottom: 0;left: 50%;z-index: -1;}#sk-container-id-35 div.sk-parallel-item {display: flex;flex-direction: column;z-index: 1;position: relative;background-color: white;}#sk-container-id-35 div.sk-parallel-item:first-child::after {align-self: flex-end;width: 50%;}#sk-container-id-35 div.sk-parallel-item:last-child::after {align-self: flex-start;width: 50%;}#sk-container-id-35 div.sk-parallel-item:only-child::after {width: 0;}#sk-container-id-35 div.sk-dashed-wrapped {border: 1px dashed gray;margin: 0 0.4em 0.5em 0.4em;box-sizing: border-box;padding-bottom: 0.4em;background-color: white;}#sk-container-id-35 div.sk-label label {font-family: monospace;font-weight: bold;display: inline-block;line-height: 1.2em;}#sk-container-id-35 div.sk-label-container {text-align: center;}#sk-container-id-35 div.sk-container {/* jupyter's `normalize.less` sets `[hidden] { display: none; }` but bootstrap.min.css set `[hidden] { display: none !important; }` so we also need the `!important` here to be able to override the default hidden behavior on the sphinx rendered scikit-learn.org. See: https://github.com/scikit-learn/scikit-learn/issues/21755 */display: inline-block !important;position: relative;}#sk-container-id-35 div.sk-text-repr-fallback {display: none;}</style><div id=\"sk-container-id-35\" class=\"sk-top-container\"><div class=\"sk-text-repr-fallback\"><pre>ForecastingGridSearchCV(cv=SingleWindowSplitter(fh=array([  1,   2,   3,   4,   5,   6,   7,   8,   9,  10,  11,  12,  13,\n",
       "        14,  15,  16,  17,  18,  19,  20,  21,  22,  23,  24,  25,  26,\n",
       "        27,  28,  29,  30,  31,  32,  33,  34,  35,  36,  37,  38,  39,\n",
       "        40,  41,  42,  43,  44,  45,  46,  47,  48,  49,  50,  51,  52,\n",
       "        53,  54,  55,  56,  57,  58,  59,  60,  61,  62,  63,  64,  65,\n",
       "        66,  67,  68,  69,  70,  71,  72,  73,  74,  75,  76,  77,  78,\n",
       "        79,  80,  81,  82,  83,  84,  85,  86,  87,  88,  89,  90,  91,\n",
       "        92,  93,  94,  95,  96,  97,  98,  99, 100,...\n",
       "       456, 457, 458, 459, 460, 461, 462, 463, 464, 465, 466, 467, 468,\n",
       "       469, 470, 471, 472, 473, 474, 475, 476, 477, 478, 479, 480, 481,\n",
       "       482, 483, 484, 485, 486, 487, 488, 489])),\n",
       "                        forecaster=Prophet(), n_jobs=-1,\n",
       "                        param_grid={&#x27;changepoint_prior_scale&#x27;: [0.1, 0.5],\n",
       "                                    &#x27;daily_seasonality&#x27;: [8, 10],\n",
       "                                    &#x27;n_changepoints&#x27;: [1, 5],\n",
       "                                    &#x27;seasonality_prior_scale&#x27;: [0.05, 0.1],\n",
       "                                    &#x27;weekly_seasonality&#x27;: [8, 10],\n",
       "                                    &#x27;yearly_seasonality&#x27;: [8, 10]},\n",
       "                        scoring=MeanAbsolutePercentageError())</pre><b>In a Jupyter environment, please rerun this cell to show the HTML representation or trust the notebook. <br />On GitHub, the HTML representation is unable to render, please try loading this page with nbviewer.org.</b></div><div class=\"sk-container\" hidden><div class=\"sk-item sk-dashed-wrapped\"><div class=\"sk-label-container\"><div class=\"sk-label sk-toggleable\"><input class=\"sk-toggleable__control sk-hidden--visually\" id=\"sk-estimator-id-117\" type=\"checkbox\" ><label for=\"sk-estimator-id-117\" class=\"sk-toggleable__label sk-toggleable__label-arrow\">ForecastingGridSearchCV</label><div class=\"sk-toggleable__content\"><pre>ForecastingGridSearchCV(cv=SingleWindowSplitter(fh=array([  1,   2,   3,   4,   5,   6,   7,   8,   9,  10,  11,  12,  13,\n",
       "        14,  15,  16,  17,  18,  19,  20,  21,  22,  23,  24,  25,  26,\n",
       "        27,  28,  29,  30,  31,  32,  33,  34,  35,  36,  37,  38,  39,\n",
       "        40,  41,  42,  43,  44,  45,  46,  47,  48,  49,  50,  51,  52,\n",
       "        53,  54,  55,  56,  57,  58,  59,  60,  61,  62,  63,  64,  65,\n",
       "        66,  67,  68,  69,  70,  71,  72,  73,  74,  75,  76,  77,  78,\n",
       "        79,  80,  81,  82,  83,  84,  85,  86,  87,  88,  89,  90,  91,\n",
       "        92,  93,  94,  95,  96,  97,  98,  99, 100,...\n",
       "       456, 457, 458, 459, 460, 461, 462, 463, 464, 465, 466, 467, 468,\n",
       "       469, 470, 471, 472, 473, 474, 475, 476, 477, 478, 479, 480, 481,\n",
       "       482, 483, 484, 485, 486, 487, 488, 489])),\n",
       "                        forecaster=Prophet(), n_jobs=-1,\n",
       "                        param_grid={&#x27;changepoint_prior_scale&#x27;: [0.1, 0.5],\n",
       "                                    &#x27;daily_seasonality&#x27;: [8, 10],\n",
       "                                    &#x27;n_changepoints&#x27;: [1, 5],\n",
       "                                    &#x27;seasonality_prior_scale&#x27;: [0.05, 0.1],\n",
       "                                    &#x27;weekly_seasonality&#x27;: [8, 10],\n",
       "                                    &#x27;yearly_seasonality&#x27;: [8, 10]},\n",
       "                        scoring=MeanAbsolutePercentageError())</pre></div></div></div><div class=\"sk-parallel\"><div class=\"sk-parallel-item\"><div class=\"sk-item\"><div class=\"sk-label-container\"><div class=\"sk-label sk-toggleable\"><input class=\"sk-toggleable__control sk-hidden--visually\" id=\"sk-estimator-id-118\" type=\"checkbox\" ><label for=\"sk-estimator-id-118\" class=\"sk-toggleable__label sk-toggleable__label-arrow\">forecaster: Prophet</label><div class=\"sk-toggleable__content\"><pre>Prophet()</pre></div></div></div><div class=\"sk-serial\"><div class=\"sk-item\"><div class=\"sk-estimator sk-toggleable\"><input class=\"sk-toggleable__control sk-hidden--visually\" id=\"sk-estimator-id-119\" type=\"checkbox\" ><label for=\"sk-estimator-id-119\" class=\"sk-toggleable__label sk-toggleable__label-arrow\">Prophet</label><div class=\"sk-toggleable__content\"><pre>Prophet()</pre></div></div></div></div></div></div></div></div></div></div>"
      ],
      "text/plain": [
       "ForecastingGridSearchCV(cv=SingleWindowSplitter(fh=array([  1,   2,   3,   4,   5,   6,   7,   8,   9,  10,  11,  12,  13,\n",
       "        14,  15,  16,  17,  18,  19,  20,  21,  22,  23,  24,  25,  26,\n",
       "        27,  28,  29,  30,  31,  32,  33,  34,  35,  36,  37,  38,  39,\n",
       "        40,  41,  42,  43,  44,  45,  46,  47,  48,  49,  50,  51,  52,\n",
       "        53,  54,  55,  56,  57,  58,  59,  60,  61,  62,  63,  64,  65,\n",
       "        66,  67,  68,  69,  70,  71,  72,  73,  74,  75,  76,  77,  78,\n",
       "        79,  80,  81,  82,  83,  84,  85,  86,  87,  88,  89,  90,  91,\n",
       "        92,  93,  94,  95,  96,  97,  98,  99, 100,...\n",
       "       456, 457, 458, 459, 460, 461, 462, 463, 464, 465, 466, 467, 468,\n",
       "       469, 470, 471, 472, 473, 474, 475, 476, 477, 478, 479, 480, 481,\n",
       "       482, 483, 484, 485, 486, 487, 488, 489])),\n",
       "                        forecaster=Prophet(), n_jobs=-1,\n",
       "                        param_grid={'changepoint_prior_scale': [0.1, 0.5],\n",
       "                                    'daily_seasonality': [8, 10],\n",
       "                                    'n_changepoints': [1, 5],\n",
       "                                    'seasonality_prior_scale': [0.05, 0.1],\n",
       "                                    'weekly_seasonality': [8, 10],\n",
       "                                    'yearly_seasonality': [8, 10]},\n",
       "                        scoring=MeanAbsolutePercentageError())"
      ]
     },
     "execution_count": 203,
     "metadata": {},
     "output_type": "execute_result"
    }
   ],
   "source": [
    "#X_train = X_train.asfreq('D')\n",
    "\n",
    "# Perform Cross Validation Model\n",
    "print(\"Creating Prophet Model ...\")\n",
    "gscv_prophet.fit(y_train, X_train) #, X_train"
   ]
  },
  {
   "cell_type": "code",
   "execution_count": 204,
   "metadata": {},
   "outputs": [
    {
     "data": {
      "text/html": [
       "<div>\n",
       "<style scoped>\n",
       "    .dataframe tbody tr th:only-of-type {\n",
       "        vertical-align: middle;\n",
       "    }\n",
       "\n",
       "    .dataframe tbody tr th {\n",
       "        vertical-align: top;\n",
       "    }\n",
       "\n",
       "    .dataframe thead th {\n",
       "        text-align: right;\n",
       "    }\n",
       "</style>\n",
       "<table border=\"1\" class=\"dataframe\">\n",
       "  <thead>\n",
       "    <tr style=\"text-align: right;\">\n",
       "      <th></th>\n",
       "      <th>mean_test_MeanAbsolutePercentageError</th>\n",
       "      <th>mean_fit_time</th>\n",
       "      <th>mean_pred_time</th>\n",
       "      <th>params</th>\n",
       "      <th>rank_test_MeanAbsolutePercentageError</th>\n",
       "    </tr>\n",
       "  </thead>\n",
       "  <tbody>\n",
       "    <tr>\n",
       "      <th>30</th>\n",
       "      <td>1.924904e+18</td>\n",
       "      <td>1.759478</td>\n",
       "      <td>1.004385</td>\n",
       "      <td>{'changepoint_prior_scale': 0.1, 'daily_season...</td>\n",
       "      <td>1.0</td>\n",
       "    </tr>\n",
       "    <tr>\n",
       "      <th>11</th>\n",
       "      <td>1.927025e+18</td>\n",
       "      <td>1.254016</td>\n",
       "      <td>0.838892</td>\n",
       "      <td>{'changepoint_prior_scale': 0.1, 'daily_season...</td>\n",
       "      <td>2.0</td>\n",
       "    </tr>\n",
       "    <tr>\n",
       "      <th>24</th>\n",
       "      <td>1.931790e+18</td>\n",
       "      <td>1.287318</td>\n",
       "      <td>0.864041</td>\n",
       "      <td>{'changepoint_prior_scale': 0.1, 'daily_season...</td>\n",
       "      <td>3.0</td>\n",
       "    </tr>\n",
       "    <tr>\n",
       "      <th>25</th>\n",
       "      <td>1.932880e+18</td>\n",
       "      <td>1.457312</td>\n",
       "      <td>1.063224</td>\n",
       "      <td>{'changepoint_prior_scale': 0.1, 'daily_season...</td>\n",
       "      <td>4.0</td>\n",
       "    </tr>\n",
       "    <tr>\n",
       "      <th>14</th>\n",
       "      <td>1.935080e+18</td>\n",
       "      <td>10.970710</td>\n",
       "      <td>0.970286</td>\n",
       "      <td>{'changepoint_prior_scale': 0.1, 'daily_season...</td>\n",
       "      <td>5.0</td>\n",
       "    </tr>\n",
       "    <tr>\n",
       "      <th>...</th>\n",
       "      <td>...</td>\n",
       "      <td>...</td>\n",
       "      <td>...</td>\n",
       "      <td>...</td>\n",
       "      <td>...</td>\n",
       "    </tr>\n",
       "    <tr>\n",
       "      <th>63</th>\n",
       "      <td>2.105466e+18</td>\n",
       "      <td>0.931381</td>\n",
       "      <td>0.451875</td>\n",
       "      <td>{'changepoint_prior_scale': 0.5, 'daily_season...</td>\n",
       "      <td>60.0</td>\n",
       "    </tr>\n",
       "    <tr>\n",
       "      <th>45</th>\n",
       "      <td>2.105820e+18</td>\n",
       "      <td>1.212615</td>\n",
       "      <td>0.680025</td>\n",
       "      <td>{'changepoint_prior_scale': 0.5, 'daily_season...</td>\n",
       "      <td>61.0</td>\n",
       "    </tr>\n",
       "    <tr>\n",
       "      <th>47</th>\n",
       "      <td>2.107151e+18</td>\n",
       "      <td>1.259850</td>\n",
       "      <td>0.948070</td>\n",
       "      <td>{'changepoint_prior_scale': 0.5, 'daily_season...</td>\n",
       "      <td>62.0</td>\n",
       "    </tr>\n",
       "    <tr>\n",
       "      <th>61</th>\n",
       "      <td>2.107197e+18</td>\n",
       "      <td>0.964414</td>\n",
       "      <td>0.492018</td>\n",
       "      <td>{'changepoint_prior_scale': 0.5, 'daily_season...</td>\n",
       "      <td>63.0</td>\n",
       "    </tr>\n",
       "    <tr>\n",
       "      <th>41</th>\n",
       "      <td>2.109962e+18</td>\n",
       "      <td>1.218472</td>\n",
       "      <td>0.827818</td>\n",
       "      <td>{'changepoint_prior_scale': 0.5, 'daily_season...</td>\n",
       "      <td>64.0</td>\n",
       "    </tr>\n",
       "  </tbody>\n",
       "</table>\n",
       "<p>64 rows × 5 columns</p>\n",
       "</div>"
      ],
      "text/plain": [
       "    mean_test_MeanAbsolutePercentageError  mean_fit_time  mean_pred_time  \\\n",
       "30                           1.924904e+18       1.759478        1.004385   \n",
       "11                           1.927025e+18       1.254016        0.838892   \n",
       "24                           1.931790e+18       1.287318        0.864041   \n",
       "25                           1.932880e+18       1.457312        1.063224   \n",
       "14                           1.935080e+18      10.970710        0.970286   \n",
       "..                                    ...            ...             ...   \n",
       "63                           2.105466e+18       0.931381        0.451875   \n",
       "45                           2.105820e+18       1.212615        0.680025   \n",
       "47                           2.107151e+18       1.259850        0.948070   \n",
       "61                           2.107197e+18       0.964414        0.492018   \n",
       "41                           2.109962e+18       1.218472        0.827818   \n",
       "\n",
       "                                               params  \\\n",
       "30  {'changepoint_prior_scale': 0.1, 'daily_season...   \n",
       "11  {'changepoint_prior_scale': 0.1, 'daily_season...   \n",
       "24  {'changepoint_prior_scale': 0.1, 'daily_season...   \n",
       "25  {'changepoint_prior_scale': 0.1, 'daily_season...   \n",
       "14  {'changepoint_prior_scale': 0.1, 'daily_season...   \n",
       "..                                                ...   \n",
       "63  {'changepoint_prior_scale': 0.5, 'daily_season...   \n",
       "45  {'changepoint_prior_scale': 0.5, 'daily_season...   \n",
       "47  {'changepoint_prior_scale': 0.5, 'daily_season...   \n",
       "61  {'changepoint_prior_scale': 0.5, 'daily_season...   \n",
       "41  {'changepoint_prior_scale': 0.5, 'daily_season...   \n",
       "\n",
       "    rank_test_MeanAbsolutePercentageError  \n",
       "30                                    1.0  \n",
       "11                                    2.0  \n",
       "24                                    3.0  \n",
       "25                                    4.0  \n",
       "14                                    5.0  \n",
       "..                                    ...  \n",
       "63                                   60.0  \n",
       "45                                   61.0  \n",
       "47                                   62.0  \n",
       "61                                   63.0  \n",
       "41                                   64.0  \n",
       "\n",
       "[64 rows x 5 columns]"
      ]
     },
     "execution_count": 204,
     "metadata": {},
     "output_type": "execute_result"
    }
   ],
   "source": [
    "# Show top 10 best models based on scoring function\n",
    "gscv_prophet.cv_results_.sort_values(by='rank_test_MeanAbsolutePercentageError', ascending=True)"
   ]
  },
  {
   "cell_type": "code",
   "execution_count": 205,
   "metadata": {},
   "outputs": [
    {
     "data": {
      "text/plain": [
       "{'changepoint_prior_scale': 0.1,\n",
       " 'daily_seasonality': 10,\n",
       " 'n_changepoints': 5,\n",
       " 'seasonality_prior_scale': 0.1,\n",
       " 'weekly_seasonality': 10,\n",
       " 'yearly_seasonality': 8}"
      ]
     },
     "execution_count": 205,
     "metadata": {},
     "output_type": "execute_result"
    }
   ],
   "source": [
    "# Show best model parameters\n",
    "gscv_prophet.best_params_"
   ]
  },
  {
   "cell_type": "markdown",
   "metadata": {},
   "source": [
    "### Perform Prediction Based on Best Model"
   ]
  },
  {
   "cell_type": "code",
   "execution_count": 206,
   "metadata": {},
   "outputs": [
    {
     "name": "stdout",
     "output_type": "stream",
     "text": [
      "Prophet Model Prediction ...\n"
     ]
    }
   ],
   "source": [
    "print(\"Prophet Model Prediction ...\")\n",
    "#rf_forecast = rf_forecaster.predict(fh) #, X=X_test\n",
    "prophet_forecast = gscv_prophet.best_forecaster_.predict(fh, X=X_test)#, X=X_test"
   ]
  },
  {
   "cell_type": "markdown",
   "metadata": {},
   "source": [
    "### Model Performance"
   ]
  },
  {
   "cell_type": "code",
   "execution_count": 210,
   "metadata": {},
   "outputs": [
    {
     "name": "stdout",
     "output_type": "stream",
     "text": [
      "Prophet Model MAPE: 0.1323\n"
     ]
    }
   ],
   "source": [
    "# Create MAPE\n",
    "y_pred_prophet = pd.DataFrame(prophet_forecast).applymap('{:.2f}'.format)\n",
    "#y_pred_xgb\n",
    "prophet_mape = mean_absolute_percentage_error(y_test['lng_production'], y_pred_prophet)\n",
    "prophet_mape_str = str('MAPE: %.4f' % prophet_mape)\n",
    "print(\"Prophet Model \"+ prophet_mape_str)"
   ]
  },
  {
   "cell_type": "code",
   "execution_count": null,
   "metadata": {},
   "outputs": [],
   "source": [
    "#Get Parameters\n",
    "#rf_param = str(rf_forecaster.get_params())\n",
    "prophet_param = str(gscv_prophet.get_params())\n",
    "print(\"Random Forest Model Parameters \"+prophet_param)"
   ]
  }
 ],
 "metadata": {
  "kernelspec": {
   "display_name": "Python 3.8.15 ('py38_ts')",
   "language": "python",
   "name": "python3"
  },
  "language_info": {
   "codemirror_mode": {
    "name": "ipython",
    "version": 3
   },
   "file_extension": ".py",
   "mimetype": "text/x-python",
   "name": "python",
   "nbconvert_exporter": "python",
   "pygments_lexer": "ipython3",
   "version": "3.8.15"
  },
  "orig_nbformat": 4,
  "vscode": {
   "interpreter": {
    "hash": "a7559cc4fcd4dd9b994a19f69128bde89747fa9372e29d8f3b171be4b280ce9a"
   }
  }
 },
 "nbformat": 4,
 "nbformat_minor": 2
}
