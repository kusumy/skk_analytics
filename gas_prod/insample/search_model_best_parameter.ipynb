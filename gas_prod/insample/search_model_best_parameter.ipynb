{
 "cells": [
  {
   "cell_type": "markdown",
   "metadata": {},
   "source": [
    "# Import Libraries"
   ]
  },
  {
   "cell_type": "code",
   "execution_count": 1,
   "metadata": {},
   "outputs": [],
   "source": [
    "import numpy as np\n",
    "import pandas as pd\n",
    "import psycopg2\n",
    "import os\n",
    "import sys\n",
    "\n",
    "import matplotlib as mpl\n",
    "import matplotlib.pyplot as plt\n",
    "import matplotlib.dates as mdates\n",
    "import matplotlib.cbook as cbook\n",
    "import plotly.express as px\n",
    "\n",
    "from sktime.forecasting.base import ForecastingHorizon\n",
    "from sktime.forecasting.model_selection import temporal_train_test_split\n",
    "from sktime.forecasting.compose import make_reduction\n",
    "from sklearn.metrics import (mean_absolute_error,\n",
    "                             mean_absolute_percentage_error,\n",
    "                             mean_squared_error, r2_score)\n",
    "from sklearn.ensemble import RandomForestRegressor\n",
    "from sktime.forecasting.model_selection import ForecastingGridSearchCV, ForecastingRandomizedSearchCV, SlidingWindowSplitter, ExpandingWindowSplitter, SingleWindowSplitter\n",
    "from sktime.performance_metrics.forecasting import MeanAbsolutePercentageError, MeanSquaredError\n",
    "from sklearn.model_selection import GridSearchCV\n",
    "\n",
    "from xgboost import XGBRegressor\n",
    "from sktime.forecasting.fbprophet import Prophet"
   ]
  },
  {
   "cell_type": "markdown",
   "metadata": {},
   "source": [
    "# Set Project Path"
   ]
  },
  {
   "cell_type": "code",
   "execution_count": 2,
   "metadata": {},
   "outputs": [],
   "source": [
    "# getting the name of the directory\n",
    "# where the this file is present.\n",
    "current = os.path.dirname(os.path.abspath(\"__file__\"))\n",
    "\n",
    "# Getting the parent directory name\n",
    "# where the current directory is present.\n",
    "parent = os.path.dirname(current)\n",
    "\n",
    "# Getting the parent directory name\n",
    "gr_parent = os.path.dirname(parent)\n",
    "\n",
    "# adding the parent directory to\n",
    "# the sys.path.\n",
    "sys.path.append(gr_parent)\n",
    "\n",
    "sys.path.insert(0, \"..//skk_analytics\")"
   ]
  },
  {
   "cell_type": "code",
   "execution_count": 3,
   "metadata": {},
   "outputs": [],
   "source": [
    "from connection import *\n",
    "from utils import *"
   ]
  },
  {
   "cell_type": "code",
   "execution_count": 4,
   "metadata": {},
   "outputs": [
    {
     "name": "stdout",
     "output_type": "stream",
     "text": [
      "d:\\Users\\kusumy\\Documents\\Code\\Python\\skk\\skk_analytics\\database.ini\n",
      "d:\\Users\\kusumy\\Documents\\Code\\Python\\skk\\skk_analytics\\gas_prod\\sql\\lng_prod_tangguh_data_query.sql\n"
     ]
    }
   ],
   "source": [
    "file_config = gr_parent + \"\\\\database.ini\"\n",
    "print(file_config)\n",
    "\n",
    "sql_file = os.path.join(parent, 'sql\\\\lng_prod_tangguh_data_query.sql')\n",
    "print(sql_file)"
   ]
  },
  {
   "cell_type": "markdown",
   "metadata": {},
   "source": [
    "# Get Data from Database"
   ]
  },
  {
   "cell_type": "code",
   "execution_count": 5,
   "metadata": {
    "ExecuteTime": {
     "end_time": "2022-12-22T06:59:23.311263Z",
     "start_time": "2022-12-22T06:59:17.950299Z"
    }
   },
   "outputs": [
    {
     "name": "stderr",
     "output_type": "stream",
     "text": [
      "d:\\Users\\kusumy\\Documents\\Code\\Python\\skk\\skk_analytics\\connection.py:50: UserWarning: pandas only supports SQLAlchemy connectable (engine/connection) or database string URI or sqlite3 DBAPI2 connection. Other DBAPI2 objects are not tested. Please consider using SQLAlchemy.\n",
      "  data = pd.read_sql_query(sql, conn)\n"
     ]
    }
   ],
   "source": [
    "conn = create_db_connection(filename=file_config, section='postgresql_ml_lng_skk')\n",
    "if conn == None:\n",
    "    exit()\n",
    "\n",
    "#Load Data from Database\n",
    "query_1 = open(sql_file, mode=\"rt\").read()\n",
    "data = get_sql_data(query_1, conn)\n",
    "\n",
    "data['date'] = pd.DatetimeIndex(data['date'], freq='D')\n",
    "data = data.reset_index()"
   ]
  },
  {
   "cell_type": "code",
   "execution_count": 6,
   "metadata": {
    "ExecuteTime": {
     "end_time": "2022-12-22T06:59:24.182005Z",
     "start_time": "2022-12-22T06:59:24.170978Z"
    }
   },
   "outputs": [],
   "source": [
    "ds = 'date'\n",
    "y = 'lng_production' \n",
    "\n",
    "df = data[[ds,y]]\n",
    "df = df.set_index(ds)\n",
    "df.index = pd.DatetimeIndex(df.index, freq='D')"
   ]
  },
  {
   "cell_type": "markdown",
   "metadata": {},
   "source": [
    "# Time Series Split"
   ]
  },
  {
   "cell_type": "code",
   "execution_count": 7,
   "metadata": {},
   "outputs": [],
   "source": [
    "# Test size\n",
    "test_size = 0.2\n",
    "# Split data (original data)\n",
    "y_train, y_test = temporal_train_test_split(df, test_size=test_size)\n",
    "\n",
    "# Horizon\n",
    "fh = ForecastingHorizon(y_test.index, is_relative=False)\n",
    "fh_int = np.arange(1, len(fh))"
   ]
  },
  {
   "cell_type": "markdown",
   "metadata": {},
   "source": [
    "# Create Additional Regressor (Exogenous)"
   ]
  },
  {
   "cell_type": "code",
   "execution_count": 8,
   "metadata": {},
   "outputs": [],
   "source": [
    "## Create Exogenous Variable\n",
    "df['month'] = [i.month for i in df.index]\n",
    "df['planned_shutdown'] = data['planned_shutdown'].values\n",
    "df['day'] = [i.day for i in df.index]\n",
    "\n",
    " # Split into train and test\n",
    "X_train, X_test = temporal_train_test_split(df.iloc[:,1:], test_size=test_size)\n",
    "exogenous_features = [\"month\", \"day\", \"planned_shutdown\"]"
   ]
  },
  {
   "cell_type": "markdown",
   "metadata": {},
   "source": [
    "# Build Model"
   ]
  },
  {
   "cell_type": "code",
   "execution_count": 9,
   "metadata": {},
   "outputs": [],
   "source": [
    "# Model scoring for Cross Validation\n",
    "mape = MeanAbsolutePercentageError(symmetric=False)\n",
    "mse = MeanSquaredError()"
   ]
  },
  {
   "cell_type": "markdown",
   "metadata": {},
   "source": [
    "## Random Forest"
   ]
  },
  {
   "cell_type": "markdown",
   "metadata": {},
   "source": [
    "### Define Model Parameters"
   ]
  },
  {
   "cell_type": "code",
   "execution_count": 10,
   "metadata": {},
   "outputs": [],
   "source": [
    "rf_n_estimators = 200\n",
    "rf_lags = 27 #1, 6, 27\n",
    "rf_random_state = 0\n",
    "rf_criterion = \"squared_error\"\n",
    "rf_strategy = \"recursive\"\n",
    "#n_estimators_param_grid = {\"n_estimators\": [100, 150, 200, 300]}\n",
    "forecaster_param_grid = {\"window_length\": [1, 7, 14, 21, 30], \n",
    "                         \"estimator__n_estimators\": [200, 300]}\n",
    "\n",
    "# Create regressor object\n",
    "#rf_regressor = RandomForestRegressor(n_estimators = rf_n_estimators, random_state = rf_random_state, criterion = rf_criterion)\n",
    "rf_regressor = RandomForestRegressor(random_state = rf_random_state, criterion = rf_criterion, n_jobs=-1)\n",
    "#rf_forecaster = make_reduction(rf_regressor, window_length = rf_lags, strategy = rf_strategy)\n",
    "rf_forecaster = make_reduction(rf_regressor, strategy = rf_strategy)\n",
    "\n",
    "# Define Cross Validation object\n",
    "#cv = ExpandingWindowSplitter(fh=int(len(fh)), initial_window=365*2, step_length=30)\n",
    "#cv = SlidingWindowSplitter(window_length=365*2, step_length=1, fh=fh_int)\n",
    "cv = SingleWindowSplitter(fh=fh_int)\n",
    "gscv = ForecastingGridSearchCV(rf_forecaster, cv=cv, param_grid=forecaster_param_grid, n_jobs=-1, scoring=mse)\n"
   ]
  },
  {
   "cell_type": "code",
   "execution_count": 11,
   "metadata": {},
   "outputs": [
    {
     "name": "stderr",
     "output_type": "stream",
     "text": [
      "c:\\ProgramData\\Miniconda3\\envs\\py38_ts\\lib\\site-packages\\sktime\\forecasting\\model_selection\\_split.py:1275: FutureWarning: The default dtype for empty Series will be 'object' instead of 'float64' in a future version. Specify a dtype explicitly to silence this warning.\n",
      "  pd.Series(index=y[y <= y[train_end]]), window_length=window_length\n"
     ]
    },
    {
     "data": {
      "text/plain": [
       "[(            lng_production\n",
       "  date                      \n",
       "  2016-01-01         49300.0\n",
       "  2016-01-02         49298.0\n",
       "  2016-01-03         48508.0\n",
       "  2016-01-04         31195.0\n",
       "  2016-01-05         24281.0\n",
       "  ...                    ...\n",
       "  2020-01-05         49717.0\n",
       "  2020-01-06         50833.0\n",
       "  2020-01-07         52316.0\n",
       "  2020-01-08         53074.0\n",
       "  2020-01-09         51856.0\n",
       "  \n",
       "  [1470 rows x 1 columns],\n",
       "              lng_production\n",
       "  date                      \n",
       "  2020-01-10         51445.0\n",
       "  2020-01-11         50986.0\n",
       "  2020-01-12         52096.0\n",
       "  2020-01-13         53180.0\n",
       "  2020-01-14         51696.0\n",
       "  ...                    ...\n",
       "  2021-05-08             0.0\n",
       "  2021-05-09         20222.0\n",
       "  2021-05-10         31889.0\n",
       "  2021-05-11         26465.0\n",
       "  2021-05-12         25349.0\n",
       "  \n",
       "  [489 rows x 1 columns])]"
      ]
     },
     "execution_count": 11,
     "metadata": {},
     "output_type": "execute_result"
    }
   ],
   "source": [
    "# Check splitter data split\n",
    "list(cv.split_series(y_train))"
   ]
  },
  {
   "cell_type": "markdown",
   "metadata": {},
   "source": [
    "### Perform Cross Validation"
   ]
  },
  {
   "cell_type": "code",
   "execution_count": 12,
   "metadata": {},
   "outputs": [
    {
     "name": "stdout",
     "output_type": "stream",
     "text": [
      "Creating Random Forest Model ...\n"
     ]
    },
    {
     "data": {
      "text/html": [
       "<style>#sk-container-id-1 {color: black;background-color: white;}#sk-container-id-1 pre{padding: 0;}#sk-container-id-1 div.sk-toggleable {background-color: white;}#sk-container-id-1 label.sk-toggleable__label {cursor: pointer;display: block;width: 100%;margin-bottom: 0;padding: 0.3em;box-sizing: border-box;text-align: center;}#sk-container-id-1 label.sk-toggleable__label-arrow:before {content: \"▸\";float: left;margin-right: 0.25em;color: #696969;}#sk-container-id-1 label.sk-toggleable__label-arrow:hover:before {color: black;}#sk-container-id-1 div.sk-estimator:hover label.sk-toggleable__label-arrow:before {color: black;}#sk-container-id-1 div.sk-toggleable__content {max-height: 0;max-width: 0;overflow: hidden;text-align: left;background-color: #f0f8ff;}#sk-container-id-1 div.sk-toggleable__content pre {margin: 0.2em;color: black;border-radius: 0.25em;background-color: #f0f8ff;}#sk-container-id-1 input.sk-toggleable__control:checked~div.sk-toggleable__content {max-height: 200px;max-width: 100%;overflow: auto;}#sk-container-id-1 input.sk-toggleable__control:checked~label.sk-toggleable__label-arrow:before {content: \"▾\";}#sk-container-id-1 div.sk-estimator input.sk-toggleable__control:checked~label.sk-toggleable__label {background-color: #d4ebff;}#sk-container-id-1 div.sk-label input.sk-toggleable__control:checked~label.sk-toggleable__label {background-color: #d4ebff;}#sk-container-id-1 input.sk-hidden--visually {border: 0;clip: rect(1px 1px 1px 1px);clip: rect(1px, 1px, 1px, 1px);height: 1px;margin: -1px;overflow: hidden;padding: 0;position: absolute;width: 1px;}#sk-container-id-1 div.sk-estimator {font-family: monospace;background-color: #f0f8ff;border: 1px dotted black;border-radius: 0.25em;box-sizing: border-box;margin-bottom: 0.5em;}#sk-container-id-1 div.sk-estimator:hover {background-color: #d4ebff;}#sk-container-id-1 div.sk-parallel-item::after {content: \"\";width: 100%;border-bottom: 1px solid gray;flex-grow: 1;}#sk-container-id-1 div.sk-label:hover label.sk-toggleable__label {background-color: #d4ebff;}#sk-container-id-1 div.sk-serial::before {content: \"\";position: absolute;border-left: 1px solid gray;box-sizing: border-box;top: 0;bottom: 0;left: 50%;z-index: 0;}#sk-container-id-1 div.sk-serial {display: flex;flex-direction: column;align-items: center;background-color: white;padding-right: 0.2em;padding-left: 0.2em;position: relative;}#sk-container-id-1 div.sk-item {position: relative;z-index: 1;}#sk-container-id-1 div.sk-parallel {display: flex;align-items: stretch;justify-content: center;background-color: white;position: relative;}#sk-container-id-1 div.sk-item::before, #sk-container-id-1 div.sk-parallel-item::before {content: \"\";position: absolute;border-left: 1px solid gray;box-sizing: border-box;top: 0;bottom: 0;left: 50%;z-index: -1;}#sk-container-id-1 div.sk-parallel-item {display: flex;flex-direction: column;z-index: 1;position: relative;background-color: white;}#sk-container-id-1 div.sk-parallel-item:first-child::after {align-self: flex-end;width: 50%;}#sk-container-id-1 div.sk-parallel-item:last-child::after {align-self: flex-start;width: 50%;}#sk-container-id-1 div.sk-parallel-item:only-child::after {width: 0;}#sk-container-id-1 div.sk-dashed-wrapped {border: 1px dashed gray;margin: 0 0.4em 0.5em 0.4em;box-sizing: border-box;padding-bottom: 0.4em;background-color: white;}#sk-container-id-1 div.sk-label label {font-family: monospace;font-weight: bold;display: inline-block;line-height: 1.2em;}#sk-container-id-1 div.sk-label-container {text-align: center;}#sk-container-id-1 div.sk-container {/* jupyter's `normalize.less` sets `[hidden] { display: none; }` but bootstrap.min.css set `[hidden] { display: none !important; }` so we also need the `!important` here to be able to override the default hidden behavior on the sphinx rendered scikit-learn.org. See: https://github.com/scikit-learn/scikit-learn/issues/21755 */display: inline-block !important;position: relative;}#sk-container-id-1 div.sk-text-repr-fallback {display: none;}</style><div id=\"sk-container-id-1\" class=\"sk-top-container\"><div class=\"sk-text-repr-fallback\"><pre>ForecastingGridSearchCV(cv=SingleWindowSplitter(fh=array([  1,   2,   3,   4,   5,   6,   7,   8,   9,  10,  11,  12,  13,\n",
       "        14,  15,  16,  17,  18,  19,  20,  21,  22,  23,  24,  25,  26,\n",
       "        27,  28,  29,  30,  31,  32,  33,  34,  35,  36,  37,  38,  39,\n",
       "        40,  41,  42,  43,  44,  45,  46,  47,  48,  49,  50,  51,  52,\n",
       "        53,  54,  55,  56,  57,  58,  59,  60,  61,  62,  63,  64,  65,\n",
       "        66,  67,  68,  69,  70,  71,  72,  73,  74,  75,  76,  77,  78,\n",
       "        79,  80,  81,  82,  83,  84,  85,  86,  87,  88,  89,  90,  91,\n",
       "        92,  93,  94,  95,  96,  97,  98,  99, 100,...\n",
       "       456, 457, 458, 459, 460, 461, 462, 463, 464, 465, 466, 467, 468,\n",
       "       469, 470, 471, 472, 473, 474, 475, 476, 477, 478, 479, 480, 481,\n",
       "       482, 483, 484, 485, 486, 487, 488, 489])),\n",
       "                        forecaster=RecursiveTabularRegressionForecaster(estimator=RandomForestRegressor(n_jobs=-1,\n",
       "                                                                                                        random_state=0)),\n",
       "                        n_jobs=-1,\n",
       "                        param_grid={&#x27;estimator__n_estimators&#x27;: [200, 300],\n",
       "                                    &#x27;window_length&#x27;: [1, 7, 14, 21, 30]},\n",
       "                        scoring=MeanSquaredError())</pre><b>In a Jupyter environment, please rerun this cell to show the HTML representation or trust the notebook. <br />On GitHub, the HTML representation is unable to render, please try loading this page with nbviewer.org.</b></div><div class=\"sk-container\" hidden><div class=\"sk-item sk-dashed-wrapped\"><div class=\"sk-label-container\"><div class=\"sk-label sk-toggleable\"><input class=\"sk-toggleable__control sk-hidden--visually\" id=\"sk-estimator-id-1\" type=\"checkbox\" ><label for=\"sk-estimator-id-1\" class=\"sk-toggleable__label sk-toggleable__label-arrow\">ForecastingGridSearchCV</label><div class=\"sk-toggleable__content\"><pre>ForecastingGridSearchCV(cv=SingleWindowSplitter(fh=array([  1,   2,   3,   4,   5,   6,   7,   8,   9,  10,  11,  12,  13,\n",
       "        14,  15,  16,  17,  18,  19,  20,  21,  22,  23,  24,  25,  26,\n",
       "        27,  28,  29,  30,  31,  32,  33,  34,  35,  36,  37,  38,  39,\n",
       "        40,  41,  42,  43,  44,  45,  46,  47,  48,  49,  50,  51,  52,\n",
       "        53,  54,  55,  56,  57,  58,  59,  60,  61,  62,  63,  64,  65,\n",
       "        66,  67,  68,  69,  70,  71,  72,  73,  74,  75,  76,  77,  78,\n",
       "        79,  80,  81,  82,  83,  84,  85,  86,  87,  88,  89,  90,  91,\n",
       "        92,  93,  94,  95,  96,  97,  98,  99, 100,...\n",
       "       456, 457, 458, 459, 460, 461, 462, 463, 464, 465, 466, 467, 468,\n",
       "       469, 470, 471, 472, 473, 474, 475, 476, 477, 478, 479, 480, 481,\n",
       "       482, 483, 484, 485, 486, 487, 488, 489])),\n",
       "                        forecaster=RecursiveTabularRegressionForecaster(estimator=RandomForestRegressor(n_jobs=-1,\n",
       "                                                                                                        random_state=0)),\n",
       "                        n_jobs=-1,\n",
       "                        param_grid={&#x27;estimator__n_estimators&#x27;: [200, 300],\n",
       "                                    &#x27;window_length&#x27;: [1, 7, 14, 21, 30]},\n",
       "                        scoring=MeanSquaredError())</pre></div></div></div><div class=\"sk-parallel\"><div class=\"sk-parallel-item\"><div class=\"sk-item\"><div class=\"sk-label-container\"><div class=\"sk-label sk-toggleable\"><input class=\"sk-toggleable__control sk-hidden--visually\" id=\"sk-estimator-id-2\" type=\"checkbox\" ><label for=\"sk-estimator-id-2\" class=\"sk-toggleable__label sk-toggleable__label-arrow\">forecaster: RecursiveTabularRegressionForecaster</label><div class=\"sk-toggleable__content\"><pre>RecursiveTabularRegressionForecaster(estimator=RandomForestRegressor(n_jobs=-1,\n",
       "                                                                     random_state=0))</pre></div></div></div><div class=\"sk-serial\"><div class=\"sk-item sk-dashed-wrapped\"><div class=\"sk-parallel\"><div class=\"sk-parallel-item\"><div class=\"sk-item\"><div class=\"sk-label-container\"><div class=\"sk-label sk-toggleable\"><input class=\"sk-toggleable__control sk-hidden--visually\" id=\"sk-estimator-id-3\" type=\"checkbox\" ><label for=\"sk-estimator-id-3\" class=\"sk-toggleable__label sk-toggleable__label-arrow\">estimator: RandomForestRegressor</label><div class=\"sk-toggleable__content\"><pre>RandomForestRegressor(n_jobs=-1, random_state=0)</pre></div></div></div><div class=\"sk-serial\"><div class=\"sk-item\"><div class=\"sk-estimator sk-toggleable\"><input class=\"sk-toggleable__control sk-hidden--visually\" id=\"sk-estimator-id-4\" type=\"checkbox\" ><label for=\"sk-estimator-id-4\" class=\"sk-toggleable__label sk-toggleable__label-arrow\">RandomForestRegressor</label><div class=\"sk-toggleable__content\"><pre>RandomForestRegressor(n_jobs=-1, random_state=0)</pre></div></div></div></div></div></div></div></div></div></div></div></div></div></div></div>"
      ],
      "text/plain": [
       "ForecastingGridSearchCV(cv=SingleWindowSplitter(fh=array([  1,   2,   3,   4,   5,   6,   7,   8,   9,  10,  11,  12,  13,\n",
       "        14,  15,  16,  17,  18,  19,  20,  21,  22,  23,  24,  25,  26,\n",
       "        27,  28,  29,  30,  31,  32,  33,  34,  35,  36,  37,  38,  39,\n",
       "        40,  41,  42,  43,  44,  45,  46,  47,  48,  49,  50,  51,  52,\n",
       "        53,  54,  55,  56,  57,  58,  59,  60,  61,  62,  63,  64,  65,\n",
       "        66,  67,  68,  69,  70,  71,  72,  73,  74,  75,  76,  77,  78,\n",
       "        79,  80,  81,  82,  83,  84,  85,  86,  87,  88,  89,  90,  91,\n",
       "        92,  93,  94,  95,  96,  97,  98,  99, 100,...\n",
       "       456, 457, 458, 459, 460, 461, 462, 463, 464, 465, 466, 467, 468,\n",
       "       469, 470, 471, 472, 473, 474, 475, 476, 477, 478, 479, 480, 481,\n",
       "       482, 483, 484, 485, 486, 487, 488, 489])),\n",
       "                        forecaster=RecursiveTabularRegressionForecaster(estimator=RandomForestRegressor(n_jobs=-1,\n",
       "                                                                                                        random_state=0)),\n",
       "                        n_jobs=-1,\n",
       "                        param_grid={'estimator__n_estimators': [200, 300],\n",
       "                                    'window_length': [1, 7, 14, 21, 30]},\n",
       "                        scoring=MeanSquaredError())"
      ]
     },
     "execution_count": 12,
     "metadata": {},
     "output_type": "execute_result"
    }
   ],
   "source": [
    "X_train = X_train.asfreq('D')\n",
    "\n",
    "# Perform Cross Validation Model\n",
    "print(\"Creating Random Forest Model ...\")\n",
    "#rf_forecaster.fit(y_train) #, X_train\n",
    "gscv.fit(y_train, X_train) #, X_train"
   ]
  },
  {
   "cell_type": "code",
   "execution_count": 13,
   "metadata": {},
   "outputs": [
    {
     "data": {
      "text/html": [
       "<div>\n",
       "<style scoped>\n",
       "    .dataframe tbody tr th:only-of-type {\n",
       "        vertical-align: middle;\n",
       "    }\n",
       "\n",
       "    .dataframe tbody tr th {\n",
       "        vertical-align: top;\n",
       "    }\n",
       "\n",
       "    .dataframe thead th {\n",
       "        text-align: right;\n",
       "    }\n",
       "</style>\n",
       "<table border=\"1\" class=\"dataframe\">\n",
       "  <thead>\n",
       "    <tr style=\"text-align: right;\">\n",
       "      <th></th>\n",
       "      <th>mean_test_MeanSquaredError</th>\n",
       "      <th>mean_fit_time</th>\n",
       "      <th>mean_pred_time</th>\n",
       "      <th>params</th>\n",
       "      <th>rank_test_MeanSquaredError</th>\n",
       "    </tr>\n",
       "  </thead>\n",
       "  <tbody>\n",
       "    <tr>\n",
       "      <th>3</th>\n",
       "      <td>8.761794e+07</td>\n",
       "      <td>1.902741</td>\n",
       "      <td>18.556501</td>\n",
       "      <td>{'estimator__n_estimators': 200, 'window_lengt...</td>\n",
       "      <td>1.0</td>\n",
       "    </tr>\n",
       "    <tr>\n",
       "      <th>6</th>\n",
       "      <td>1.026314e+08</td>\n",
       "      <td>2.171776</td>\n",
       "      <td>21.668461</td>\n",
       "      <td>{'estimator__n_estimators': 300, 'window_lengt...</td>\n",
       "      <td>2.0</td>\n",
       "    </tr>\n",
       "    <tr>\n",
       "      <th>5</th>\n",
       "      <td>1.604116e+08</td>\n",
       "      <td>1.650724</td>\n",
       "      <td>21.741980</td>\n",
       "      <td>{'estimator__n_estimators': 300, 'window_lengt...</td>\n",
       "      <td>3.0</td>\n",
       "    </tr>\n",
       "    <tr>\n",
       "      <th>1</th>\n",
       "      <td>1.920462e+08</td>\n",
       "      <td>0.530382</td>\n",
       "      <td>20.063486</td>\n",
       "      <td>{'estimator__n_estimators': 200, 'window_lengt...</td>\n",
       "      <td>4.0</td>\n",
       "    </tr>\n",
       "    <tr>\n",
       "      <th>0</th>\n",
       "      <td>1.982373e+08</td>\n",
       "      <td>0.470682</td>\n",
       "      <td>20.081404</td>\n",
       "      <td>{'estimator__n_estimators': 200, 'window_lengt...</td>\n",
       "      <td>5.0</td>\n",
       "    </tr>\n",
       "    <tr>\n",
       "      <th>8</th>\n",
       "      <td>2.191878e+08</td>\n",
       "      <td>3.073289</td>\n",
       "      <td>20.609634</td>\n",
       "      <td>{'estimator__n_estimators': 300, 'window_lengt...</td>\n",
       "      <td>6.0</td>\n",
       "    </tr>\n",
       "    <tr>\n",
       "      <th>9</th>\n",
       "      <td>2.274003e+08</td>\n",
       "      <td>3.147238</td>\n",
       "      <td>19.160815</td>\n",
       "      <td>{'estimator__n_estimators': 300, 'window_lengt...</td>\n",
       "      <td>7.0</td>\n",
       "    </tr>\n",
       "    <tr>\n",
       "      <th>4</th>\n",
       "      <td>2.371658e+08</td>\n",
       "      <td>2.165015</td>\n",
       "      <td>18.191379</td>\n",
       "      <td>{'estimator__n_estimators': 200, 'window_lengt...</td>\n",
       "      <td>8.0</td>\n",
       "    </tr>\n",
       "    <tr>\n",
       "      <th>7</th>\n",
       "      <td>2.777457e+08</td>\n",
       "      <td>2.345003</td>\n",
       "      <td>19.347110</td>\n",
       "      <td>{'estimator__n_estimators': 300, 'window_lengt...</td>\n",
       "      <td>9.0</td>\n",
       "    </tr>\n",
       "    <tr>\n",
       "      <th>2</th>\n",
       "      <td>2.805430e+08</td>\n",
       "      <td>0.927461</td>\n",
       "      <td>19.571256</td>\n",
       "      <td>{'estimator__n_estimators': 200, 'window_lengt...</td>\n",
       "      <td>10.0</td>\n",
       "    </tr>\n",
       "  </tbody>\n",
       "</table>\n",
       "</div>"
      ],
      "text/plain": [
       "   mean_test_MeanSquaredError  ...  rank_test_MeanSquaredError\n",
       "3                8.761794e+07  ...                         1.0\n",
       "6                1.026314e+08  ...                         2.0\n",
       "5                1.604116e+08  ...                         3.0\n",
       "1                1.920462e+08  ...                         4.0\n",
       "0                1.982373e+08  ...                         5.0\n",
       "8                2.191878e+08  ...                         6.0\n",
       "9                2.274003e+08  ...                         7.0\n",
       "4                2.371658e+08  ...                         8.0\n",
       "7                2.777457e+08  ...                         9.0\n",
       "2                2.805430e+08  ...                        10.0\n",
       "\n",
       "[10 rows x 5 columns]"
      ]
     },
     "execution_count": 13,
     "metadata": {},
     "output_type": "execute_result"
    }
   ],
   "source": [
    "# Show top 10 best models based on scoring function\n",
    "gscv.cv_results_.sort_values(by='rank_test_MeanSquaredError')"
   ]
  },
  {
   "cell_type": "code",
   "execution_count": 14,
   "metadata": {},
   "outputs": [
    {
     "data": {
      "text/plain": [
       "{'estimator__n_estimators': 200, 'window_length': 21}"
      ]
     },
     "execution_count": 14,
     "metadata": {},
     "output_type": "execute_result"
    }
   ],
   "source": [
    "# Show best model parameters\n",
    "gscv.best_params_"
   ]
  },
  {
   "cell_type": "markdown",
   "metadata": {},
   "source": [
    "### Perform Prediction Based on Best Model"
   ]
  },
  {
   "cell_type": "code",
   "execution_count": 15,
   "metadata": {},
   "outputs": [
    {
     "name": "stdout",
     "output_type": "stream",
     "text": [
      "Random Forest Model Prediction ...\n"
     ]
    }
   ],
   "source": [
    "print(\"Random Forest Model Prediction ...\")\n",
    "#rf_forecast = rf_forecaster.predict(fh) #, X=X_test\n",
    "rf_forecast = gscv.best_forecaster_.predict(fh, X=X_test)#, X=X_test"
   ]
  },
  {
   "cell_type": "markdown",
   "metadata": {},
   "source": [
    "### Model Performance"
   ]
  },
  {
   "cell_type": "code",
   "execution_count": 16,
   "metadata": {},
   "outputs": [
    {
     "ename": "ValueError",
     "evalue": "Input contains NaN.",
     "output_type": "error",
     "traceback": [
      "\u001b[1;31m---------------------------------------------------------------------------\u001b[0m",
      "\u001b[1;31mValueError\u001b[0m                                Traceback (most recent call last)",
      "Cell \u001b[1;32mIn[16], line 3\u001b[0m\n\u001b[0;32m      1\u001b[0m \u001b[39m# Create MAPE\u001b[39;00m\n\u001b[0;32m      2\u001b[0m y_pred_rf \u001b[39m=\u001b[39m pd\u001b[39m.\u001b[39mDataFrame(rf_forecast)\u001b[39m.\u001b[39mapplymap(\u001b[39m'\u001b[39m\u001b[39m{:.2f}\u001b[39;00m\u001b[39m'\u001b[39m\u001b[39m.\u001b[39mformat)\n\u001b[1;32m----> 3\u001b[0m rf_mape \u001b[39m=\u001b[39m mean_absolute_percentage_error(y_test[\u001b[39m'\u001b[39;49m\u001b[39mlng_production\u001b[39;49m\u001b[39m'\u001b[39;49m], y_pred_rf)\n\u001b[0;32m      4\u001b[0m ranfor_mape_str \u001b[39m=\u001b[39m \u001b[39mstr\u001b[39m(\u001b[39m'\u001b[39m\u001b[39mMAPE: \u001b[39m\u001b[39m%.4f\u001b[39;00m\u001b[39m'\u001b[39m \u001b[39m%\u001b[39m rf_mape)\n\u001b[0;32m      5\u001b[0m \u001b[39mprint\u001b[39m(\u001b[39m\"\u001b[39m\u001b[39mRandom Forest Model \u001b[39m\u001b[39m\"\u001b[39m\u001b[39m+\u001b[39mranfor_mape_str)\n",
      "File \u001b[1;32mc:\\ProgramData\\Miniconda3\\envs\\py38_ts\\lib\\site-packages\\sklearn\\metrics\\_regression.py:365\u001b[0m, in \u001b[0;36mmean_absolute_percentage_error\u001b[1;34m(y_true, y_pred, sample_weight, multioutput)\u001b[0m\n\u001b[0;32m    296\u001b[0m \u001b[39mdef\u001b[39;00m \u001b[39mmean_absolute_percentage_error\u001b[39m(\n\u001b[0;32m    297\u001b[0m     y_true, y_pred, \u001b[39m*\u001b[39m, sample_weight\u001b[39m=\u001b[39m\u001b[39mNone\u001b[39;00m, multioutput\u001b[39m=\u001b[39m\u001b[39m\"\u001b[39m\u001b[39muniform_average\u001b[39m\u001b[39m\"\u001b[39m\n\u001b[0;32m    298\u001b[0m ):\n\u001b[0;32m    299\u001b[0m     \u001b[39m\"\"\"Mean absolute percentage error (MAPE) regression loss.\u001b[39;00m\n\u001b[0;32m    300\u001b[0m \n\u001b[0;32m    301\u001b[0m \u001b[39m    Note here that the output is not a percentage in the range [0, 100]\u001b[39;00m\n\u001b[1;32m   (...)\u001b[0m\n\u001b[0;32m    363\u001b[0m \u001b[39m    112589990684262.48\u001b[39;00m\n\u001b[0;32m    364\u001b[0m \u001b[39m    \"\"\"\u001b[39;00m\n\u001b[1;32m--> 365\u001b[0m     y_type, y_true, y_pred, multioutput \u001b[39m=\u001b[39m _check_reg_targets(\n\u001b[0;32m    366\u001b[0m         y_true, y_pred, multioutput\n\u001b[0;32m    367\u001b[0m     )\n\u001b[0;32m    368\u001b[0m     check_consistent_length(y_true, y_pred, sample_weight)\n\u001b[0;32m    369\u001b[0m     epsilon \u001b[39m=\u001b[39m np\u001b[39m.\u001b[39mfinfo(np\u001b[39m.\u001b[39mfloat64)\u001b[39m.\u001b[39meps\n",
      "File \u001b[1;32mc:\\ProgramData\\Miniconda3\\envs\\py38_ts\\lib\\site-packages\\sklearn\\metrics\\_regression.py:101\u001b[0m, in \u001b[0;36m_check_reg_targets\u001b[1;34m(y_true, y_pred, multioutput, dtype)\u001b[0m\n\u001b[0;32m     67\u001b[0m \u001b[39m\"\"\"Check that y_true and y_pred belong to the same regression task.\u001b[39;00m\n\u001b[0;32m     68\u001b[0m \n\u001b[0;32m     69\u001b[0m \u001b[39mParameters\u001b[39;00m\n\u001b[1;32m   (...)\u001b[0m\n\u001b[0;32m     98\u001b[0m \u001b[39m    correct keyword.\u001b[39;00m\n\u001b[0;32m     99\u001b[0m \u001b[39m\"\"\"\u001b[39;00m\n\u001b[0;32m    100\u001b[0m check_consistent_length(y_true, y_pred)\n\u001b[1;32m--> 101\u001b[0m y_true \u001b[39m=\u001b[39m check_array(y_true, ensure_2d\u001b[39m=\u001b[39;49m\u001b[39mFalse\u001b[39;49;00m, dtype\u001b[39m=\u001b[39;49mdtype)\n\u001b[0;32m    102\u001b[0m y_pred \u001b[39m=\u001b[39m check_array(y_pred, ensure_2d\u001b[39m=\u001b[39m\u001b[39mFalse\u001b[39;00m, dtype\u001b[39m=\u001b[39mdtype)\n\u001b[0;32m    104\u001b[0m \u001b[39mif\u001b[39;00m y_true\u001b[39m.\u001b[39mndim \u001b[39m==\u001b[39m \u001b[39m1\u001b[39m:\n",
      "File \u001b[1;32mc:\\ProgramData\\Miniconda3\\envs\\py38_ts\\lib\\site-packages\\sklearn\\utils\\validation.py:899\u001b[0m, in \u001b[0;36mcheck_array\u001b[1;34m(array, accept_sparse, accept_large_sparse, dtype, order, copy, force_all_finite, ensure_2d, allow_nd, ensure_min_samples, ensure_min_features, estimator, input_name)\u001b[0m\n\u001b[0;32m    893\u001b[0m         \u001b[39mraise\u001b[39;00m \u001b[39mValueError\u001b[39;00m(\n\u001b[0;32m    894\u001b[0m             \u001b[39m\"\u001b[39m\u001b[39mFound array with dim \u001b[39m\u001b[39m%d\u001b[39;00m\u001b[39m. \u001b[39m\u001b[39m%s\u001b[39;00m\u001b[39m expected <= 2.\u001b[39m\u001b[39m\"\u001b[39m\n\u001b[0;32m    895\u001b[0m             \u001b[39m%\u001b[39m (array\u001b[39m.\u001b[39mndim, estimator_name)\n\u001b[0;32m    896\u001b[0m         )\n\u001b[0;32m    898\u001b[0m     \u001b[39mif\u001b[39;00m force_all_finite:\n\u001b[1;32m--> 899\u001b[0m         _assert_all_finite(\n\u001b[0;32m    900\u001b[0m             array,\n\u001b[0;32m    901\u001b[0m             input_name\u001b[39m=\u001b[39;49minput_name,\n\u001b[0;32m    902\u001b[0m             estimator_name\u001b[39m=\u001b[39;49mestimator_name,\n\u001b[0;32m    903\u001b[0m             allow_nan\u001b[39m=\u001b[39;49mforce_all_finite \u001b[39m==\u001b[39;49m \u001b[39m\"\u001b[39;49m\u001b[39mallow-nan\u001b[39;49m\u001b[39m\"\u001b[39;49m,\n\u001b[0;32m    904\u001b[0m         )\n\u001b[0;32m    906\u001b[0m \u001b[39mif\u001b[39;00m ensure_min_samples \u001b[39m>\u001b[39m \u001b[39m0\u001b[39m:\n\u001b[0;32m    907\u001b[0m     n_samples \u001b[39m=\u001b[39m _num_samples(array)\n",
      "File \u001b[1;32mc:\\ProgramData\\Miniconda3\\envs\\py38_ts\\lib\\site-packages\\sklearn\\utils\\validation.py:146\u001b[0m, in \u001b[0;36m_assert_all_finite\u001b[1;34m(X, allow_nan, msg_dtype, estimator_name, input_name)\u001b[0m\n\u001b[0;32m    124\u001b[0m         \u001b[39mif\u001b[39;00m (\n\u001b[0;32m    125\u001b[0m             \u001b[39mnot\u001b[39;00m allow_nan\n\u001b[0;32m    126\u001b[0m             \u001b[39mand\u001b[39;00m estimator_name\n\u001b[1;32m   (...)\u001b[0m\n\u001b[0;32m    130\u001b[0m             \u001b[39m# Improve the error message on how to handle missing values in\u001b[39;00m\n\u001b[0;32m    131\u001b[0m             \u001b[39m# scikit-learn.\u001b[39;00m\n\u001b[0;32m    132\u001b[0m             msg_err \u001b[39m+\u001b[39m\u001b[39m=\u001b[39m (\n\u001b[0;32m    133\u001b[0m                 \u001b[39mf\u001b[39m\u001b[39m\"\u001b[39m\u001b[39m\\n\u001b[39;00m\u001b[39m{\u001b[39;00mestimator_name\u001b[39m}\u001b[39;00m\u001b[39m does not accept missing values\u001b[39m\u001b[39m\"\u001b[39m\n\u001b[0;32m    134\u001b[0m                 \u001b[39m\"\u001b[39m\u001b[39m encoded as NaN natively. For supervised learning, you might want\u001b[39m\u001b[39m\"\u001b[39m\n\u001b[1;32m   (...)\u001b[0m\n\u001b[0;32m    144\u001b[0m                 \u001b[39m\"\u001b[39m\u001b[39m#estimators-that-handle-nan-values\u001b[39m\u001b[39m\"\u001b[39m\n\u001b[0;32m    145\u001b[0m             )\n\u001b[1;32m--> 146\u001b[0m         \u001b[39mraise\u001b[39;00m \u001b[39mValueError\u001b[39;00m(msg_err)\n\u001b[0;32m    148\u001b[0m \u001b[39m# for object dtype data, we only check for NaNs (GH-13254)\u001b[39;00m\n\u001b[0;32m    149\u001b[0m \u001b[39melif\u001b[39;00m X\u001b[39m.\u001b[39mdtype \u001b[39m==\u001b[39m np\u001b[39m.\u001b[39mdtype(\u001b[39m\"\u001b[39m\u001b[39mobject\u001b[39m\u001b[39m\"\u001b[39m) \u001b[39mand\u001b[39;00m \u001b[39mnot\u001b[39;00m allow_nan:\n",
      "\u001b[1;31mValueError\u001b[0m: Input contains NaN."
     ]
    }
   ],
   "source": [
    "# Create MAPE\n",
    "y_pred_rf = pd.DataFrame(rf_forecast).applymap('{:.2f}'.format)\n",
    "rf_mape = mean_absolute_percentage_error(y_test['lng_production'], y_pred_rf)\n",
    "ranfor_mape_str = str('MAPE: %.4f' % rf_mape)\n",
    "print(\"Random Forest Model \"+ranfor_mape_str)"
   ]
  },
  {
   "cell_type": "code",
   "execution_count": null,
   "metadata": {},
   "outputs": [],
   "source": [
    "#Get Parameters\n",
    "#rf_param = str(rf_forecaster.get_params())\n",
    "rf_param = str(gscv.get_params())\n",
    "print(\"Random Forest Model Parameters \"+rf_param)"
   ]
  },
  {
   "cell_type": "markdown",
   "metadata": {},
   "source": [
    "## XGBoost"
   ]
  },
  {
   "cell_type": "markdown",
   "metadata": {},
   "source": [
    "### Define Model Parameters"
   ]
  },
  {
   "cell_type": "code",
   "execution_count": null,
   "metadata": {},
   "outputs": [],
   "source": [
    "xgb_objective = 'reg:squarederror'\n",
    "xgb_lags = 6 #1, 6, 27\n",
    "xgb_strategy = \"recursive\"\n",
    "xgb_forecaster_param_grid = {\"window_length\": [1, 6, 7, 14, 21, 27, 32]\n",
    "                            ,\"estimator__n_estimators\": [100, 200, 300]\n",
    "                            #,\"estimator__max_depth\": [3,6,10],\n",
    "                            #,\"estimator__learning_rate\": [0.01, 0.05, 0.1, 0.3],\n",
    "                            #,\"estimator__colsample_bytree\": [0.3, 0.5, 0.7]\n",
    "                            }\n",
    "\n",
    "xgb_regressor = XGBRegressor(objective=xgb_objective, n_jobs=-1, seed = 42)\n",
    "xgb_forecaster = make_reduction(xgb_regressor, strategy=xgb_strategy)\n",
    "\n",
    "cv_xgb = SingleWindowSplitter(fh=fh_int)\n",
    "#gscv_xgb = ForecastingRandomizedSearchCV(xgb_forecaster, cv=cv_xgb, param_grid=xgb_forecaster_param_grid, n_jobs=-1, scoring=mape)\n",
    "gscv_xgb = ForecastingGridSearchCV(xgb_forecaster, cv=cv_xgb, param_grid=xgb_forecaster_param_grid, n_jobs=-1, scoring=mse)\n"
   ]
  },
  {
   "cell_type": "code",
   "execution_count": null,
   "metadata": {},
   "outputs": [],
   "source": [
    "# Check splitter data split\n",
    "#list(cv_xgb.split_series(y_train))"
   ]
  },
  {
   "cell_type": "markdown",
   "metadata": {},
   "source": [
    "### Perform Cross Validation"
   ]
  },
  {
   "cell_type": "code",
   "execution_count": null,
   "metadata": {},
   "outputs": [
    {
     "name": "stdout",
     "output_type": "stream",
     "text": [
      "Creating XGBoost Model ...\n"
     ]
    },
    {
     "data": {
      "text/html": [
       "<style>#sk-container-id-40 {color: black;background-color: white;}#sk-container-id-40 pre{padding: 0;}#sk-container-id-40 div.sk-toggleable {background-color: white;}#sk-container-id-40 label.sk-toggleable__label {cursor: pointer;display: block;width: 100%;margin-bottom: 0;padding: 0.3em;box-sizing: border-box;text-align: center;}#sk-container-id-40 label.sk-toggleable__label-arrow:before {content: \"▸\";float: left;margin-right: 0.25em;color: #696969;}#sk-container-id-40 label.sk-toggleable__label-arrow:hover:before {color: black;}#sk-container-id-40 div.sk-estimator:hover label.sk-toggleable__label-arrow:before {color: black;}#sk-container-id-40 div.sk-toggleable__content {max-height: 0;max-width: 0;overflow: hidden;text-align: left;background-color: #f0f8ff;}#sk-container-id-40 div.sk-toggleable__content pre {margin: 0.2em;color: black;border-radius: 0.25em;background-color: #f0f8ff;}#sk-container-id-40 input.sk-toggleable__control:checked~div.sk-toggleable__content {max-height: 200px;max-width: 100%;overflow: auto;}#sk-container-id-40 input.sk-toggleable__control:checked~label.sk-toggleable__label-arrow:before {content: \"▾\";}#sk-container-id-40 div.sk-estimator input.sk-toggleable__control:checked~label.sk-toggleable__label {background-color: #d4ebff;}#sk-container-id-40 div.sk-label input.sk-toggleable__control:checked~label.sk-toggleable__label {background-color: #d4ebff;}#sk-container-id-40 input.sk-hidden--visually {border: 0;clip: rect(1px 1px 1px 1px);clip: rect(1px, 1px, 1px, 1px);height: 1px;margin: -1px;overflow: hidden;padding: 0;position: absolute;width: 1px;}#sk-container-id-40 div.sk-estimator {font-family: monospace;background-color: #f0f8ff;border: 1px dotted black;border-radius: 0.25em;box-sizing: border-box;margin-bottom: 0.5em;}#sk-container-id-40 div.sk-estimator:hover {background-color: #d4ebff;}#sk-container-id-40 div.sk-parallel-item::after {content: \"\";width: 100%;border-bottom: 1px solid gray;flex-grow: 1;}#sk-container-id-40 div.sk-label:hover label.sk-toggleable__label {background-color: #d4ebff;}#sk-container-id-40 div.sk-serial::before {content: \"\";position: absolute;border-left: 1px solid gray;box-sizing: border-box;top: 0;bottom: 0;left: 50%;z-index: 0;}#sk-container-id-40 div.sk-serial {display: flex;flex-direction: column;align-items: center;background-color: white;padding-right: 0.2em;padding-left: 0.2em;position: relative;}#sk-container-id-40 div.sk-item {position: relative;z-index: 1;}#sk-container-id-40 div.sk-parallel {display: flex;align-items: stretch;justify-content: center;background-color: white;position: relative;}#sk-container-id-40 div.sk-item::before, #sk-container-id-40 div.sk-parallel-item::before {content: \"\";position: absolute;border-left: 1px solid gray;box-sizing: border-box;top: 0;bottom: 0;left: 50%;z-index: -1;}#sk-container-id-40 div.sk-parallel-item {display: flex;flex-direction: column;z-index: 1;position: relative;background-color: white;}#sk-container-id-40 div.sk-parallel-item:first-child::after {align-self: flex-end;width: 50%;}#sk-container-id-40 div.sk-parallel-item:last-child::after {align-self: flex-start;width: 50%;}#sk-container-id-40 div.sk-parallel-item:only-child::after {width: 0;}#sk-container-id-40 div.sk-dashed-wrapped {border: 1px dashed gray;margin: 0 0.4em 0.5em 0.4em;box-sizing: border-box;padding-bottom: 0.4em;background-color: white;}#sk-container-id-40 div.sk-label label {font-family: monospace;font-weight: bold;display: inline-block;line-height: 1.2em;}#sk-container-id-40 div.sk-label-container {text-align: center;}#sk-container-id-40 div.sk-container {/* jupyter's `normalize.less` sets `[hidden] { display: none; }` but bootstrap.min.css set `[hidden] { display: none !important; }` so we also need the `!important` here to be able to override the default hidden behavior on the sphinx rendered scikit-learn.org. See: https://github.com/scikit-learn/scikit-learn/issues/21755 */display: inline-block !important;position: relative;}#sk-container-id-40 div.sk-text-repr-fallback {display: none;}</style><div id=\"sk-container-id-40\" class=\"sk-top-container\"><div class=\"sk-text-repr-fallback\"><pre>ForecastingGridSearchCV(cv=SingleWindowSplitter(fh=array([  1,   2,   3,   4,   5,   6,   7,   8,   9,  10,  11,  12,  13,\n",
       "        14,  15,  16,  17,  18,  19,  20,  21,  22,  23,  24,  25,  26,\n",
       "        27,  28,  29,  30,  31,  32,  33,  34,  35,  36,  37,  38,  39,\n",
       "        40,  41,  42,  43,  44,  45,  46,  47,  48,  49,  50,  51,  52,\n",
       "        53,  54,  55,  56,  57,  58,  59,  60,  61,  62,  63,  64,  65,\n",
       "        66,  67,  68,  69,  70,  71,  72,  73,  74,  75,  76,  77,  78,\n",
       "        79,  80,  81,  82,  83,  84,  85,  86,  87,  88,  89,  90,  91,\n",
       "        92,  93,  94,  95,  96,  97,  98,  99, 100,...\n",
       "                                                                                               max_cat_threshold=None,\n",
       "                                                                                               max_cat_to_onehot=None,\n",
       "                                                                                               max_delta_step=None,\n",
       "                                                                                               max_depth=None,\n",
       "                                                                                               max_leaves=None,\n",
       "                                                                                               min_child_weight=None,\n",
       "                                                                                               missing=nan,\n",
       "                                                                                               monotone_constraints=None,\n",
       "                                                                                               n_estimators=100,\n",
       "                                                                                               n_jobs=-1,\n",
       "                                                                                               num_parallel_tree=None,\n",
       "                                                                                               predictor=None,\n",
       "                                                                                               random_state=None, ...)),\n",
       "                        n_jobs=-1,\n",
       "                        param_grid={&#x27;estimator__n_estimators&#x27;: [100, 200, 300],\n",
       "                                    &#x27;window_length&#x27;: [1, 6, 7, 14, 21, 27, 32]},\n",
       "                        scoring=MeanSquaredError())</pre><b>In a Jupyter environment, please rerun this cell to show the HTML representation or trust the notebook. <br />On GitHub, the HTML representation is unable to render, please try loading this page with nbviewer.org.</b></div><div class=\"sk-container\" hidden><div class=\"sk-item sk-dashed-wrapped\"><div class=\"sk-label-container\"><div class=\"sk-label sk-toggleable\"><input class=\"sk-toggleable__control sk-hidden--visually\" id=\"sk-estimator-id-135\" type=\"checkbox\" ><label for=\"sk-estimator-id-135\" class=\"sk-toggleable__label sk-toggleable__label-arrow\">ForecastingGridSearchCV</label><div class=\"sk-toggleable__content\"><pre>ForecastingGridSearchCV(cv=SingleWindowSplitter(fh=array([  1,   2,   3,   4,   5,   6,   7,   8,   9,  10,  11,  12,  13,\n",
       "        14,  15,  16,  17,  18,  19,  20,  21,  22,  23,  24,  25,  26,\n",
       "        27,  28,  29,  30,  31,  32,  33,  34,  35,  36,  37,  38,  39,\n",
       "        40,  41,  42,  43,  44,  45,  46,  47,  48,  49,  50,  51,  52,\n",
       "        53,  54,  55,  56,  57,  58,  59,  60,  61,  62,  63,  64,  65,\n",
       "        66,  67,  68,  69,  70,  71,  72,  73,  74,  75,  76,  77,  78,\n",
       "        79,  80,  81,  82,  83,  84,  85,  86,  87,  88,  89,  90,  91,\n",
       "        92,  93,  94,  95,  96,  97,  98,  99, 100,...\n",
       "                                                                                               max_cat_threshold=None,\n",
       "                                                                                               max_cat_to_onehot=None,\n",
       "                                                                                               max_delta_step=None,\n",
       "                                                                                               max_depth=None,\n",
       "                                                                                               max_leaves=None,\n",
       "                                                                                               min_child_weight=None,\n",
       "                                                                                               missing=nan,\n",
       "                                                                                               monotone_constraints=None,\n",
       "                                                                                               n_estimators=100,\n",
       "                                                                                               n_jobs=-1,\n",
       "                                                                                               num_parallel_tree=None,\n",
       "                                                                                               predictor=None,\n",
       "                                                                                               random_state=None, ...)),\n",
       "                        n_jobs=-1,\n",
       "                        param_grid={&#x27;estimator__n_estimators&#x27;: [100, 200, 300],\n",
       "                                    &#x27;window_length&#x27;: [1, 6, 7, 14, 21, 27, 32]},\n",
       "                        scoring=MeanSquaredError())</pre></div></div></div><div class=\"sk-parallel\"><div class=\"sk-parallel-item\"><div class=\"sk-item\"><div class=\"sk-label-container\"><div class=\"sk-label sk-toggleable\"><input class=\"sk-toggleable__control sk-hidden--visually\" id=\"sk-estimator-id-136\" type=\"checkbox\" ><label for=\"sk-estimator-id-136\" class=\"sk-toggleable__label sk-toggleable__label-arrow\">forecaster: RecursiveTabularRegressionForecaster</label><div class=\"sk-toggleable__content\"><pre>RecursiveTabularRegressionForecaster(estimator=XGBRegressor(base_score=None,\n",
       "                                                            booster=None,\n",
       "                                                            callbacks=None,\n",
       "                                                            colsample_bylevel=None,\n",
       "                                                            colsample_bynode=None,\n",
       "                                                            colsample_bytree=None,\n",
       "                                                            early_stopping_rounds=None,\n",
       "                                                            enable_categorical=False,\n",
       "                                                            eval_metric=None,\n",
       "                                                            feature_types=None,\n",
       "                                                            gamma=None,\n",
       "                                                            gpu_id=None,\n",
       "                                                            grow_policy=None,\n",
       "                                                            importance_type=None,\n",
       "                                                            interaction_constraints=None,\n",
       "                                                            learning_rate=None,\n",
       "                                                            max_bin=None,\n",
       "                                                            max_cat_threshold=None,\n",
       "                                                            max_cat_to_onehot=None,\n",
       "                                                            max_delta_step=None,\n",
       "                                                            max_depth=None,\n",
       "                                                            max_leaves=None,\n",
       "                                                            min_child_weight=None,\n",
       "                                                            missing=nan,\n",
       "                                                            monotone_constraints=None,\n",
       "                                                            n_estimators=100,\n",
       "                                                            n_jobs=-1,\n",
       "                                                            num_parallel_tree=None,\n",
       "                                                            predictor=None,\n",
       "                                                            random_state=None, ...))</pre></div></div></div><div class=\"sk-serial\"><div class=\"sk-item sk-dashed-wrapped\"><div class=\"sk-parallel\"><div class=\"sk-parallel-item\"><div class=\"sk-item\"><div class=\"sk-label-container\"><div class=\"sk-label sk-toggleable\"><input class=\"sk-toggleable__control sk-hidden--visually\" id=\"sk-estimator-id-137\" type=\"checkbox\" ><label for=\"sk-estimator-id-137\" class=\"sk-toggleable__label sk-toggleable__label-arrow\">estimator: XGBRegressor</label><div class=\"sk-toggleable__content\"><pre>XGBRegressor(base_score=None, booster=None, callbacks=None,\n",
       "             colsample_bylevel=None, colsample_bynode=None,\n",
       "             colsample_bytree=None, early_stopping_rounds=None,\n",
       "             enable_categorical=False, eval_metric=None, feature_types=None,\n",
       "             gamma=None, gpu_id=None, grow_policy=None, importance_type=None,\n",
       "             interaction_constraints=None, learning_rate=None, max_bin=None,\n",
       "             max_cat_threshold=None, max_cat_to_onehot=None,\n",
       "             max_delta_step=None, max_depth=None, max_leaves=None,\n",
       "             min_child_weight=None, missing=nan, monotone_constraints=None,\n",
       "             n_estimators=100, n_jobs=-1, num_parallel_tree=None,\n",
       "             predictor=None, random_state=None, ...)</pre></div></div></div><div class=\"sk-serial\"><div class=\"sk-item\"><div class=\"sk-estimator sk-toggleable\"><input class=\"sk-toggleable__control sk-hidden--visually\" id=\"sk-estimator-id-138\" type=\"checkbox\" ><label for=\"sk-estimator-id-138\" class=\"sk-toggleable__label sk-toggleable__label-arrow\">XGBRegressor</label><div class=\"sk-toggleable__content\"><pre>XGBRegressor(base_score=None, booster=None, callbacks=None,\n",
       "             colsample_bylevel=None, colsample_bynode=None,\n",
       "             colsample_bytree=None, early_stopping_rounds=None,\n",
       "             enable_categorical=False, eval_metric=None, feature_types=None,\n",
       "             gamma=None, gpu_id=None, grow_policy=None, importance_type=None,\n",
       "             interaction_constraints=None, learning_rate=None, max_bin=None,\n",
       "             max_cat_threshold=None, max_cat_to_onehot=None,\n",
       "             max_delta_step=None, max_depth=None, max_leaves=None,\n",
       "             min_child_weight=None, missing=nan, monotone_constraints=None,\n",
       "             n_estimators=100, n_jobs=-1, num_parallel_tree=None,\n",
       "             predictor=None, random_state=None, ...)</pre></div></div></div></div></div></div></div></div></div></div></div></div></div></div></div>"
      ],
      "text/plain": [
       "ForecastingGridSearchCV(cv=SingleWindowSplitter(fh=array([  1,   2,   3,   4,   5,   6,   7,   8,   9,  10,  11,  12,  13,\n",
       "        14,  15,  16,  17,  18,  19,  20,  21,  22,  23,  24,  25,  26,\n",
       "        27,  28,  29,  30,  31,  32,  33,  34,  35,  36,  37,  38,  39,\n",
       "        40,  41,  42,  43,  44,  45,  46,  47,  48,  49,  50,  51,  52,\n",
       "        53,  54,  55,  56,  57,  58,  59,  60,  61,  62,  63,  64,  65,\n",
       "        66,  67,  68,  69,  70,  71,  72,  73,  74,  75,  76,  77,  78,\n",
       "        79,  80,  81,  82,  83,  84,  85,  86,  87,  88,  89,  90,  91,\n",
       "        92,  93,  94,  95,  96,  97,  98,  99, 100,...\n",
       "                                                                                               max_cat_threshold=None,\n",
       "                                                                                               max_cat_to_onehot=None,\n",
       "                                                                                               max_delta_step=None,\n",
       "                                                                                               max_depth=None,\n",
       "                                                                                               max_leaves=None,\n",
       "                                                                                               min_child_weight=None,\n",
       "                                                                                               missing=nan,\n",
       "                                                                                               monotone_constraints=None,\n",
       "                                                                                               n_estimators=100,\n",
       "                                                                                               n_jobs=-1,\n",
       "                                                                                               num_parallel_tree=None,\n",
       "                                                                                               predictor=None,\n",
       "                                                                                               random_state=None, ...)),\n",
       "                        n_jobs=-1,\n",
       "                        param_grid={'estimator__n_estimators': [100, 200, 300],\n",
       "                                    'window_length': [1, 6, 7, 14, 21, 27, 32]},\n",
       "                        scoring=MeanSquaredError())"
      ]
     },
     "execution_count": 247,
     "metadata": {},
     "output_type": "execute_result"
    }
   ],
   "source": [
    "X_train = X_train.asfreq('D')\n",
    "\n",
    "# Perform Cross Validation Model\n",
    "print(\"Creating XGBoost Model ...\")\n",
    "#rf_forecaster.fit(y_train) #, X_train\n",
    "gscv_xgb.fit(y_train, X_train) #, X_train"
   ]
  },
  {
   "cell_type": "code",
   "execution_count": null,
   "metadata": {},
   "outputs": [
    {
     "data": {
      "text/html": [
       "<div>\n",
       "<style scoped>\n",
       "    .dataframe tbody tr th:only-of-type {\n",
       "        vertical-align: middle;\n",
       "    }\n",
       "\n",
       "    .dataframe tbody tr th {\n",
       "        vertical-align: top;\n",
       "    }\n",
       "\n",
       "    .dataframe thead th {\n",
       "        text-align: right;\n",
       "    }\n",
       "</style>\n",
       "<table border=\"1\" class=\"dataframe\">\n",
       "  <thead>\n",
       "    <tr style=\"text-align: right;\">\n",
       "      <th></th>\n",
       "      <th>mean_test_MeanSquaredError</th>\n",
       "      <th>mean_fit_time</th>\n",
       "      <th>mean_pred_time</th>\n",
       "      <th>params</th>\n",
       "      <th>rank_test_MeanSquaredError</th>\n",
       "    </tr>\n",
       "  </thead>\n",
       "  <tbody>\n",
       "    <tr>\n",
       "      <th>0</th>\n",
       "      <td>8.195243e+07</td>\n",
       "      <td>0.116710</td>\n",
       "      <td>0.852540</td>\n",
       "      <td>{'estimator__n_estimators': 100, 'window_lengt...</td>\n",
       "      <td>1.0</td>\n",
       "    </tr>\n",
       "    <tr>\n",
       "      <th>15</th>\n",
       "      <td>8.876519e+07</td>\n",
       "      <td>1.140005</td>\n",
       "      <td>0.472122</td>\n",
       "      <td>{'estimator__n_estimators': 300, 'window_lengt...</td>\n",
       "      <td>2.0</td>\n",
       "    </tr>\n",
       "    <tr>\n",
       "      <th>8</th>\n",
       "      <td>9.002155e+07</td>\n",
       "      <td>0.979624</td>\n",
       "      <td>0.823793</td>\n",
       "      <td>{'estimator__n_estimators': 200, 'window_lengt...</td>\n",
       "      <td>3.0</td>\n",
       "    </tr>\n",
       "    <tr>\n",
       "      <th>11</th>\n",
       "      <td>9.020255e+07</td>\n",
       "      <td>2.678577</td>\n",
       "      <td>0.587015</td>\n",
       "      <td>{'estimator__n_estimators': 200, 'window_lengt...</td>\n",
       "      <td>4.0</td>\n",
       "    </tr>\n",
       "    <tr>\n",
       "      <th>1</th>\n",
       "      <td>9.283098e+07</td>\n",
       "      <td>0.447449</td>\n",
       "      <td>0.713828</td>\n",
       "      <td>{'estimator__n_estimators': 100, 'window_lengt...</td>\n",
       "      <td>5.0</td>\n",
       "    </tr>\n",
       "    <tr>\n",
       "      <th>3</th>\n",
       "      <td>9.638852e+07</td>\n",
       "      <td>1.011528</td>\n",
       "      <td>0.877997</td>\n",
       "      <td>{'estimator__n_estimators': 100, 'window_lengt...</td>\n",
       "      <td>6.0</td>\n",
       "    </tr>\n",
       "    <tr>\n",
       "      <th>18</th>\n",
       "      <td>9.674295e+07</td>\n",
       "      <td>2.897170</td>\n",
       "      <td>0.371088</td>\n",
       "      <td>{'estimator__n_estimators': 300, 'window_lengt...</td>\n",
       "      <td>7.0</td>\n",
       "    </tr>\n",
       "    <tr>\n",
       "      <th>7</th>\n",
       "      <td>9.846953e+07</td>\n",
       "      <td>0.276975</td>\n",
       "      <td>0.797016</td>\n",
       "      <td>{'estimator__n_estimators': 200, 'window_lengt...</td>\n",
       "      <td>8.0</td>\n",
       "    </tr>\n",
       "    <tr>\n",
       "      <th>20</th>\n",
       "      <td>1.051913e+08</td>\n",
       "      <td>4.736620</td>\n",
       "      <td>0.372429</td>\n",
       "      <td>{'estimator__n_estimators': 300, 'window_lengt...</td>\n",
       "      <td>9.0</td>\n",
       "    </tr>\n",
       "    <tr>\n",
       "      <th>14</th>\n",
       "      <td>1.072697e+08</td>\n",
       "      <td>0.340952</td>\n",
       "      <td>0.570779</td>\n",
       "      <td>{'estimator__n_estimators': 300, 'window_lengt...</td>\n",
       "      <td>10.0</td>\n",
       "    </tr>\n",
       "    <tr>\n",
       "      <th>4</th>\n",
       "      <td>1.075402e+08</td>\n",
       "      <td>1.455201</td>\n",
       "      <td>0.800224</td>\n",
       "      <td>{'estimator__n_estimators': 100, 'window_lengt...</td>\n",
       "      <td>11.0</td>\n",
       "    </tr>\n",
       "    <tr>\n",
       "      <th>13</th>\n",
       "      <td>1.223477e+08</td>\n",
       "      <td>3.616538</td>\n",
       "      <td>0.482948</td>\n",
       "      <td>{'estimator__n_estimators': 200, 'window_lengt...</td>\n",
       "      <td>12.0</td>\n",
       "    </tr>\n",
       "    <tr>\n",
       "      <th>6</th>\n",
       "      <td>1.306261e+08</td>\n",
       "      <td>2.142661</td>\n",
       "      <td>0.816646</td>\n",
       "      <td>{'estimator__n_estimators': 100, 'window_lengt...</td>\n",
       "      <td>13.0</td>\n",
       "    </tr>\n",
       "    <tr>\n",
       "      <th>10</th>\n",
       "      <td>1.390110e+08</td>\n",
       "      <td>1.961808</td>\n",
       "      <td>0.774480</td>\n",
       "      <td>{'estimator__n_estimators': 200, 'window_lengt...</td>\n",
       "      <td>14.0</td>\n",
       "    </tr>\n",
       "    <tr>\n",
       "      <th>2</th>\n",
       "      <td>1.426439e+08</td>\n",
       "      <td>0.558870</td>\n",
       "      <td>0.831225</td>\n",
       "      <td>{'estimator__n_estimators': 100, 'window_lengt...</td>\n",
       "      <td>15.0</td>\n",
       "    </tr>\n",
       "    <tr>\n",
       "      <th>17</th>\n",
       "      <td>1.479023e+08</td>\n",
       "      <td>2.211965</td>\n",
       "      <td>0.403087</td>\n",
       "      <td>{'estimator__n_estimators': 300, 'window_lengt...</td>\n",
       "      <td>16.0</td>\n",
       "    </tr>\n",
       "    <tr>\n",
       "      <th>16</th>\n",
       "      <td>1.538956e+08</td>\n",
       "      <td>1.343295</td>\n",
       "      <td>0.461714</td>\n",
       "      <td>{'estimator__n_estimators': 300, 'window_lengt...</td>\n",
       "      <td>17.0</td>\n",
       "    </tr>\n",
       "    <tr>\n",
       "      <th>5</th>\n",
       "      <td>1.598911e+08</td>\n",
       "      <td>1.924124</td>\n",
       "      <td>0.813260</td>\n",
       "      <td>{'estimator__n_estimators': 100, 'window_lengt...</td>\n",
       "      <td>18.0</td>\n",
       "    </tr>\n",
       "    <tr>\n",
       "      <th>12</th>\n",
       "      <td>1.618546e+08</td>\n",
       "      <td>3.270999</td>\n",
       "      <td>0.516136</td>\n",
       "      <td>{'estimator__n_estimators': 200, 'window_lengt...</td>\n",
       "      <td>19.0</td>\n",
       "    </tr>\n",
       "    <tr>\n",
       "      <th>9</th>\n",
       "      <td>1.637763e+08</td>\n",
       "      <td>1.092665</td>\n",
       "      <td>0.845339</td>\n",
       "      <td>{'estimator__n_estimators': 200, 'window_lengt...</td>\n",
       "      <td>20.0</td>\n",
       "    </tr>\n",
       "    <tr>\n",
       "      <th>19</th>\n",
       "      <td>1.831860e+08</td>\n",
       "      <td>3.379699</td>\n",
       "      <td>0.322536</td>\n",
       "      <td>{'estimator__n_estimators': 300, 'window_lengt...</td>\n",
       "      <td>21.0</td>\n",
       "    </tr>\n",
       "  </tbody>\n",
       "</table>\n",
       "</div>"
      ],
      "text/plain": [
       "    mean_test_MeanSquaredError  mean_fit_time  mean_pred_time  \\\n",
       "0                 8.195243e+07       0.116710        0.852540   \n",
       "15                8.876519e+07       1.140005        0.472122   \n",
       "8                 9.002155e+07       0.979624        0.823793   \n",
       "11                9.020255e+07       2.678577        0.587015   \n",
       "1                 9.283098e+07       0.447449        0.713828   \n",
       "3                 9.638852e+07       1.011528        0.877997   \n",
       "18                9.674295e+07       2.897170        0.371088   \n",
       "7                 9.846953e+07       0.276975        0.797016   \n",
       "20                1.051913e+08       4.736620        0.372429   \n",
       "14                1.072697e+08       0.340952        0.570779   \n",
       "4                 1.075402e+08       1.455201        0.800224   \n",
       "13                1.223477e+08       3.616538        0.482948   \n",
       "6                 1.306261e+08       2.142661        0.816646   \n",
       "10                1.390110e+08       1.961808        0.774480   \n",
       "2                 1.426439e+08       0.558870        0.831225   \n",
       "17                1.479023e+08       2.211965        0.403087   \n",
       "16                1.538956e+08       1.343295        0.461714   \n",
       "5                 1.598911e+08       1.924124        0.813260   \n",
       "12                1.618546e+08       3.270999        0.516136   \n",
       "9                 1.637763e+08       1.092665        0.845339   \n",
       "19                1.831860e+08       3.379699        0.322536   \n",
       "\n",
       "                                               params  \\\n",
       "0   {'estimator__n_estimators': 100, 'window_lengt...   \n",
       "15  {'estimator__n_estimators': 300, 'window_lengt...   \n",
       "8   {'estimator__n_estimators': 200, 'window_lengt...   \n",
       "11  {'estimator__n_estimators': 200, 'window_lengt...   \n",
       "1   {'estimator__n_estimators': 100, 'window_lengt...   \n",
       "3   {'estimator__n_estimators': 100, 'window_lengt...   \n",
       "18  {'estimator__n_estimators': 300, 'window_lengt...   \n",
       "7   {'estimator__n_estimators': 200, 'window_lengt...   \n",
       "20  {'estimator__n_estimators': 300, 'window_lengt...   \n",
       "14  {'estimator__n_estimators': 300, 'window_lengt...   \n",
       "4   {'estimator__n_estimators': 100, 'window_lengt...   \n",
       "13  {'estimator__n_estimators': 200, 'window_lengt...   \n",
       "6   {'estimator__n_estimators': 100, 'window_lengt...   \n",
       "10  {'estimator__n_estimators': 200, 'window_lengt...   \n",
       "2   {'estimator__n_estimators': 100, 'window_lengt...   \n",
       "17  {'estimator__n_estimators': 300, 'window_lengt...   \n",
       "16  {'estimator__n_estimators': 300, 'window_lengt...   \n",
       "5   {'estimator__n_estimators': 100, 'window_lengt...   \n",
       "12  {'estimator__n_estimators': 200, 'window_lengt...   \n",
       "9   {'estimator__n_estimators': 200, 'window_lengt...   \n",
       "19  {'estimator__n_estimators': 300, 'window_lengt...   \n",
       "\n",
       "    rank_test_MeanSquaredError  \n",
       "0                          1.0  \n",
       "15                         2.0  \n",
       "8                          3.0  \n",
       "11                         4.0  \n",
       "1                          5.0  \n",
       "3                          6.0  \n",
       "18                         7.0  \n",
       "7                          8.0  \n",
       "20                         9.0  \n",
       "14                        10.0  \n",
       "4                         11.0  \n",
       "13                        12.0  \n",
       "6                         13.0  \n",
       "10                        14.0  \n",
       "2                         15.0  \n",
       "17                        16.0  \n",
       "16                        17.0  \n",
       "5                         18.0  \n",
       "12                        19.0  \n",
       "9                         20.0  \n",
       "19                        21.0  "
      ]
     },
     "execution_count": 249,
     "metadata": {},
     "output_type": "execute_result"
    }
   ],
   "source": [
    "# Show top 10 best models based on scoring function\n",
    "gscv_xgb.cv_results_.sort_values(by='rank_test_MeanSquaredError', ascending=True)"
   ]
  },
  {
   "cell_type": "code",
   "execution_count": null,
   "metadata": {},
   "outputs": [
    {
     "data": {
      "text/plain": [
       "{'estimator__n_estimators': 100, 'window_length': 1}"
      ]
     },
     "execution_count": 250,
     "metadata": {},
     "output_type": "execute_result"
    }
   ],
   "source": [
    "# Show best model parameters\n",
    "gscv_xgb.best_params_"
   ]
  },
  {
   "cell_type": "markdown",
   "metadata": {},
   "source": [
    "### Perform Prediction Based on Best Model"
   ]
  },
  {
   "cell_type": "code",
   "execution_count": null,
   "metadata": {},
   "outputs": [
    {
     "name": "stdout",
     "output_type": "stream",
     "text": [
      "XGBoost Model Prediction ...\n"
     ]
    }
   ],
   "source": [
    "print(\"XGBoost Model Prediction ...\")\n",
    "#rf_forecast = rf_forecaster.predict(fh) #, X=X_test\n",
    "xgb_forecast = gscv_xgb.best_forecaster_.predict(fh, X=X_test)#, X=X_test"
   ]
  },
  {
   "cell_type": "markdown",
   "metadata": {},
   "source": [
    "### Model Performance"
   ]
  },
  {
   "cell_type": "code",
   "execution_count": null,
   "metadata": {},
   "outputs": [
    {
     "name": "stdout",
     "output_type": "stream",
     "text": [
      "XGBoost Model MAPE: 0.1328\n"
     ]
    }
   ],
   "source": [
    "# Create MAPE\n",
    "y_pred_xgb = pd.DataFrame(xgb_forecast).applymap('{:.2f}'.format)\n",
    "#y_pred_xgb\n",
    "xgb_mape = mean_absolute_percentage_error(y_test['lng_production'], y_pred_xgb)\n",
    "xgb_mape_str = str('MAPE: %.4f' % xgb_mape)\n",
    "print(\"XGBoost Model \"+ xgb_mape_str)"
   ]
  },
  {
   "cell_type": "code",
   "execution_count": null,
   "metadata": {},
   "outputs": [],
   "source": [
    "#Get Parameters\n",
    "#rf_param = str(rf_forecaster.get_params())\n",
    "xgb_param = str(gscv_xgb.get_params())\n",
    "print(\"Random Forest Model Parameters \"+xgb_param)"
   ]
  },
  {
   "cell_type": "markdown",
   "metadata": {},
   "source": [
    "## Prophet"
   ]
  },
  {
   "cell_type": "markdown",
   "metadata": {},
   "source": [
    "### Define Model Parameters"
   ]
  },
  {
   "cell_type": "code",
   "execution_count": null,
   "metadata": {},
   "outputs": [],
   "source": [
    "seasonality_mode = 'additive'\n",
    "n_changepoints = 27 #1, 6, 27\n",
    "seasonality_prior_scale = 0.05\n",
    "changepoint_prior_scale = 0.1\n",
    "holidays_prior_scale = 8\n",
    "daily_seasonality = 8\n",
    "weekly_seasonality = 1\n",
    "yearly_seasonality = 10\n",
    "\n",
    "prophet_param_grid = {'n_changepoints':[1,5]\n",
    "                      ,'seasonality_prior_scale':[0.05, 0.1]\n",
    "                      ,'changepoint_prior_scale':[0.1, 0.5]\n",
    "                      ,'daily_seasonality':[8,10]\n",
    "                      ,'weekly_seasonality':[8,10]\n",
    "                      ,'yearly_seasonality':[8,10]\n",
    "                     }\n",
    "\n",
    "\n",
    "# create regressor object\n",
    "prophet_forecaster = Prophet()\n",
    "\n",
    "cv_prophet = SingleWindowSplitter(fh=fh_int)\n",
    "#gscv_xgb = ForecastingRandomizedSearchCV(xgb_forecaster, cv=cv_xgb, param_grid=xgb_forecaster_param_grid, n_jobs=-1, scoring=mape)\n",
    "gscv_prophet = ForecastingGridSearchCV(prophet_forecaster, cv=cv_prophet, param_grid=prophet_param_grid, n_jobs=-1, scoring=mse)\n"
   ]
  },
  {
   "cell_type": "code",
   "execution_count": null,
   "metadata": {},
   "outputs": [],
   "source": [
    "gscv_prophet.get_params().keys()"
   ]
  },
  {
   "cell_type": "markdown",
   "metadata": {},
   "source": [
    "### Perform Cross Validation"
   ]
  },
  {
   "cell_type": "code",
   "execution_count": null,
   "metadata": {},
   "outputs": [
    {
     "name": "stdout",
     "output_type": "stream",
     "text": [
      "Creating Prophet Model ...\n"
     ]
    },
    {
     "name": "stderr",
     "output_type": "stream",
     "text": [
      "17:57:43 - cmdstanpy - INFO - Chain [1] start processing\n",
      "17:57:43 - cmdstanpy - INFO - Chain [1] done processing\n",
      "17:57:43 - cmdstanpy - INFO - Chain [1] start processing\n",
      "17:57:43 - cmdstanpy - INFO - Chain [1] done processing\n"
     ]
    },
    {
     "data": {
      "text/html": [
       "<style>#sk-container-id-41 {color: black;background-color: white;}#sk-container-id-41 pre{padding: 0;}#sk-container-id-41 div.sk-toggleable {background-color: white;}#sk-container-id-41 label.sk-toggleable__label {cursor: pointer;display: block;width: 100%;margin-bottom: 0;padding: 0.3em;box-sizing: border-box;text-align: center;}#sk-container-id-41 label.sk-toggleable__label-arrow:before {content: \"▸\";float: left;margin-right: 0.25em;color: #696969;}#sk-container-id-41 label.sk-toggleable__label-arrow:hover:before {color: black;}#sk-container-id-41 div.sk-estimator:hover label.sk-toggleable__label-arrow:before {color: black;}#sk-container-id-41 div.sk-toggleable__content {max-height: 0;max-width: 0;overflow: hidden;text-align: left;background-color: #f0f8ff;}#sk-container-id-41 div.sk-toggleable__content pre {margin: 0.2em;color: black;border-radius: 0.25em;background-color: #f0f8ff;}#sk-container-id-41 input.sk-toggleable__control:checked~div.sk-toggleable__content {max-height: 200px;max-width: 100%;overflow: auto;}#sk-container-id-41 input.sk-toggleable__control:checked~label.sk-toggleable__label-arrow:before {content: \"▾\";}#sk-container-id-41 div.sk-estimator input.sk-toggleable__control:checked~label.sk-toggleable__label {background-color: #d4ebff;}#sk-container-id-41 div.sk-label input.sk-toggleable__control:checked~label.sk-toggleable__label {background-color: #d4ebff;}#sk-container-id-41 input.sk-hidden--visually {border: 0;clip: rect(1px 1px 1px 1px);clip: rect(1px, 1px, 1px, 1px);height: 1px;margin: -1px;overflow: hidden;padding: 0;position: absolute;width: 1px;}#sk-container-id-41 div.sk-estimator {font-family: monospace;background-color: #f0f8ff;border: 1px dotted black;border-radius: 0.25em;box-sizing: border-box;margin-bottom: 0.5em;}#sk-container-id-41 div.sk-estimator:hover {background-color: #d4ebff;}#sk-container-id-41 div.sk-parallel-item::after {content: \"\";width: 100%;border-bottom: 1px solid gray;flex-grow: 1;}#sk-container-id-41 div.sk-label:hover label.sk-toggleable__label {background-color: #d4ebff;}#sk-container-id-41 div.sk-serial::before {content: \"\";position: absolute;border-left: 1px solid gray;box-sizing: border-box;top: 0;bottom: 0;left: 50%;z-index: 0;}#sk-container-id-41 div.sk-serial {display: flex;flex-direction: column;align-items: center;background-color: white;padding-right: 0.2em;padding-left: 0.2em;position: relative;}#sk-container-id-41 div.sk-item {position: relative;z-index: 1;}#sk-container-id-41 div.sk-parallel {display: flex;align-items: stretch;justify-content: center;background-color: white;position: relative;}#sk-container-id-41 div.sk-item::before, #sk-container-id-41 div.sk-parallel-item::before {content: \"\";position: absolute;border-left: 1px solid gray;box-sizing: border-box;top: 0;bottom: 0;left: 50%;z-index: -1;}#sk-container-id-41 div.sk-parallel-item {display: flex;flex-direction: column;z-index: 1;position: relative;background-color: white;}#sk-container-id-41 div.sk-parallel-item:first-child::after {align-self: flex-end;width: 50%;}#sk-container-id-41 div.sk-parallel-item:last-child::after {align-self: flex-start;width: 50%;}#sk-container-id-41 div.sk-parallel-item:only-child::after {width: 0;}#sk-container-id-41 div.sk-dashed-wrapped {border: 1px dashed gray;margin: 0 0.4em 0.5em 0.4em;box-sizing: border-box;padding-bottom: 0.4em;background-color: white;}#sk-container-id-41 div.sk-label label {font-family: monospace;font-weight: bold;display: inline-block;line-height: 1.2em;}#sk-container-id-41 div.sk-label-container {text-align: center;}#sk-container-id-41 div.sk-container {/* jupyter's `normalize.less` sets `[hidden] { display: none; }` but bootstrap.min.css set `[hidden] { display: none !important; }` so we also need the `!important` here to be able to override the default hidden behavior on the sphinx rendered scikit-learn.org. See: https://github.com/scikit-learn/scikit-learn/issues/21755 */display: inline-block !important;position: relative;}#sk-container-id-41 div.sk-text-repr-fallback {display: none;}</style><div id=\"sk-container-id-41\" class=\"sk-top-container\"><div class=\"sk-text-repr-fallback\"><pre>ForecastingGridSearchCV(cv=SingleWindowSplitter(fh=array([  1,   2,   3,   4,   5,   6,   7,   8,   9,  10,  11,  12,  13,\n",
       "        14,  15,  16,  17,  18,  19,  20,  21,  22,  23,  24,  25,  26,\n",
       "        27,  28,  29,  30,  31,  32,  33,  34,  35,  36,  37,  38,  39,\n",
       "        40,  41,  42,  43,  44,  45,  46,  47,  48,  49,  50,  51,  52,\n",
       "        53,  54,  55,  56,  57,  58,  59,  60,  61,  62,  63,  64,  65,\n",
       "        66,  67,  68,  69,  70,  71,  72,  73,  74,  75,  76,  77,  78,\n",
       "        79,  80,  81,  82,  83,  84,  85,  86,  87,  88,  89,  90,  91,\n",
       "        92,  93,  94,  95,  96,  97,  98,  99, 100,...\n",
       "       456, 457, 458, 459, 460, 461, 462, 463, 464, 465, 466, 467, 468,\n",
       "       469, 470, 471, 472, 473, 474, 475, 476, 477, 478, 479, 480, 481,\n",
       "       482, 483, 484, 485, 486, 487, 488, 489])),\n",
       "                        forecaster=Prophet(), n_jobs=-1,\n",
       "                        param_grid={&#x27;changepoint_prior_scale&#x27;: [0.1, 0.5],\n",
       "                                    &#x27;daily_seasonality&#x27;: [8, 10],\n",
       "                                    &#x27;n_changepoints&#x27;: [1, 5],\n",
       "                                    &#x27;seasonality_prior_scale&#x27;: [0.05, 0.1],\n",
       "                                    &#x27;weekly_seasonality&#x27;: [8, 10],\n",
       "                                    &#x27;yearly_seasonality&#x27;: [8, 10]},\n",
       "                        scoring=MeanSquaredError())</pre><b>In a Jupyter environment, please rerun this cell to show the HTML representation or trust the notebook. <br />On GitHub, the HTML representation is unable to render, please try loading this page with nbviewer.org.</b></div><div class=\"sk-container\" hidden><div class=\"sk-item sk-dashed-wrapped\"><div class=\"sk-label-container\"><div class=\"sk-label sk-toggleable\"><input class=\"sk-toggleable__control sk-hidden--visually\" id=\"sk-estimator-id-139\" type=\"checkbox\" ><label for=\"sk-estimator-id-139\" class=\"sk-toggleable__label sk-toggleable__label-arrow\">ForecastingGridSearchCV</label><div class=\"sk-toggleable__content\"><pre>ForecastingGridSearchCV(cv=SingleWindowSplitter(fh=array([  1,   2,   3,   4,   5,   6,   7,   8,   9,  10,  11,  12,  13,\n",
       "        14,  15,  16,  17,  18,  19,  20,  21,  22,  23,  24,  25,  26,\n",
       "        27,  28,  29,  30,  31,  32,  33,  34,  35,  36,  37,  38,  39,\n",
       "        40,  41,  42,  43,  44,  45,  46,  47,  48,  49,  50,  51,  52,\n",
       "        53,  54,  55,  56,  57,  58,  59,  60,  61,  62,  63,  64,  65,\n",
       "        66,  67,  68,  69,  70,  71,  72,  73,  74,  75,  76,  77,  78,\n",
       "        79,  80,  81,  82,  83,  84,  85,  86,  87,  88,  89,  90,  91,\n",
       "        92,  93,  94,  95,  96,  97,  98,  99, 100,...\n",
       "       456, 457, 458, 459, 460, 461, 462, 463, 464, 465, 466, 467, 468,\n",
       "       469, 470, 471, 472, 473, 474, 475, 476, 477, 478, 479, 480, 481,\n",
       "       482, 483, 484, 485, 486, 487, 488, 489])),\n",
       "                        forecaster=Prophet(), n_jobs=-1,\n",
       "                        param_grid={&#x27;changepoint_prior_scale&#x27;: [0.1, 0.5],\n",
       "                                    &#x27;daily_seasonality&#x27;: [8, 10],\n",
       "                                    &#x27;n_changepoints&#x27;: [1, 5],\n",
       "                                    &#x27;seasonality_prior_scale&#x27;: [0.05, 0.1],\n",
       "                                    &#x27;weekly_seasonality&#x27;: [8, 10],\n",
       "                                    &#x27;yearly_seasonality&#x27;: [8, 10]},\n",
       "                        scoring=MeanSquaredError())</pre></div></div></div><div class=\"sk-parallel\"><div class=\"sk-parallel-item\"><div class=\"sk-item\"><div class=\"sk-label-container\"><div class=\"sk-label sk-toggleable\"><input class=\"sk-toggleable__control sk-hidden--visually\" id=\"sk-estimator-id-140\" type=\"checkbox\" ><label for=\"sk-estimator-id-140\" class=\"sk-toggleable__label sk-toggleable__label-arrow\">forecaster: Prophet</label><div class=\"sk-toggleable__content\"><pre>Prophet()</pre></div></div></div><div class=\"sk-serial\"><div class=\"sk-item\"><div class=\"sk-estimator sk-toggleable\"><input class=\"sk-toggleable__control sk-hidden--visually\" id=\"sk-estimator-id-141\" type=\"checkbox\" ><label for=\"sk-estimator-id-141\" class=\"sk-toggleable__label sk-toggleable__label-arrow\">Prophet</label><div class=\"sk-toggleable__content\"><pre>Prophet()</pre></div></div></div></div></div></div></div></div></div></div>"
      ],
      "text/plain": [
       "ForecastingGridSearchCV(cv=SingleWindowSplitter(fh=array([  1,   2,   3,   4,   5,   6,   7,   8,   9,  10,  11,  12,  13,\n",
       "        14,  15,  16,  17,  18,  19,  20,  21,  22,  23,  24,  25,  26,\n",
       "        27,  28,  29,  30,  31,  32,  33,  34,  35,  36,  37,  38,  39,\n",
       "        40,  41,  42,  43,  44,  45,  46,  47,  48,  49,  50,  51,  52,\n",
       "        53,  54,  55,  56,  57,  58,  59,  60,  61,  62,  63,  64,  65,\n",
       "        66,  67,  68,  69,  70,  71,  72,  73,  74,  75,  76,  77,  78,\n",
       "        79,  80,  81,  82,  83,  84,  85,  86,  87,  88,  89,  90,  91,\n",
       "        92,  93,  94,  95,  96,  97,  98,  99, 100,...\n",
       "       456, 457, 458, 459, 460, 461, 462, 463, 464, 465, 466, 467, 468,\n",
       "       469, 470, 471, 472, 473, 474, 475, 476, 477, 478, 479, 480, 481,\n",
       "       482, 483, 484, 485, 486, 487, 488, 489])),\n",
       "                        forecaster=Prophet(), n_jobs=-1,\n",
       "                        param_grid={'changepoint_prior_scale': [0.1, 0.5],\n",
       "                                    'daily_seasonality': [8, 10],\n",
       "                                    'n_changepoints': [1, 5],\n",
       "                                    'seasonality_prior_scale': [0.05, 0.1],\n",
       "                                    'weekly_seasonality': [8, 10],\n",
       "                                    'yearly_seasonality': [8, 10]},\n",
       "                        scoring=MeanSquaredError())"
      ]
     },
     "execution_count": 254,
     "metadata": {},
     "output_type": "execute_result"
    }
   ],
   "source": [
    "#X_train = X_train.asfreq('D')\n",
    "\n",
    "# Perform Cross Validation Model\n",
    "print(\"Creating Prophet Model ...\")\n",
    "gscv_prophet.fit(y_train, X_train) #, X_train"
   ]
  },
  {
   "cell_type": "code",
   "execution_count": null,
   "metadata": {},
   "outputs": [
    {
     "data": {
      "text/html": [
       "<div>\n",
       "<style scoped>\n",
       "    .dataframe tbody tr th:only-of-type {\n",
       "        vertical-align: middle;\n",
       "    }\n",
       "\n",
       "    .dataframe tbody tr th {\n",
       "        vertical-align: top;\n",
       "    }\n",
       "\n",
       "    .dataframe thead th {\n",
       "        text-align: right;\n",
       "    }\n",
       "</style>\n",
       "<table border=\"1\" class=\"dataframe\">\n",
       "  <thead>\n",
       "    <tr style=\"text-align: right;\">\n",
       "      <th></th>\n",
       "      <th>mean_test_MeanSquaredError</th>\n",
       "      <th>mean_fit_time</th>\n",
       "      <th>mean_pred_time</th>\n",
       "      <th>params</th>\n",
       "      <th>rank_test_MeanSquaredError</th>\n",
       "    </tr>\n",
       "  </thead>\n",
       "  <tbody>\n",
       "    <tr>\n",
       "      <th>11</th>\n",
       "      <td>6.142510e+07</td>\n",
       "      <td>1.611367</td>\n",
       "      <td>0.942106</td>\n",
       "      <td>{'changepoint_prior_scale': 0.1, 'daily_season...</td>\n",
       "      <td>1.0</td>\n",
       "    </tr>\n",
       "    <tr>\n",
       "      <th>30</th>\n",
       "      <td>6.196114e+07</td>\n",
       "      <td>2.344171</td>\n",
       "      <td>1.252395</td>\n",
       "      <td>{'changepoint_prior_scale': 0.1, 'daily_season...</td>\n",
       "      <td>2.0</td>\n",
       "    </tr>\n",
       "    <tr>\n",
       "      <th>25</th>\n",
       "      <td>6.207020e+07</td>\n",
       "      <td>1.729278</td>\n",
       "      <td>1.416128</td>\n",
       "      <td>{'changepoint_prior_scale': 0.1, 'daily_season...</td>\n",
       "      <td>3.0</td>\n",
       "    </tr>\n",
       "    <tr>\n",
       "      <th>24</th>\n",
       "      <td>6.269874e+07</td>\n",
       "      <td>1.978467</td>\n",
       "      <td>1.342812</td>\n",
       "      <td>{'changepoint_prior_scale': 0.1, 'daily_season...</td>\n",
       "      <td>4.0</td>\n",
       "    </tr>\n",
       "    <tr>\n",
       "      <th>14</th>\n",
       "      <td>6.315024e+07</td>\n",
       "      <td>12.897478</td>\n",
       "      <td>0.840115</td>\n",
       "      <td>{'changepoint_prior_scale': 0.1, 'daily_season...</td>\n",
       "      <td>5.0</td>\n",
       "    </tr>\n",
       "    <tr>\n",
       "      <th>...</th>\n",
       "      <td>...</td>\n",
       "      <td>...</td>\n",
       "      <td>...</td>\n",
       "      <td>...</td>\n",
       "      <td>...</td>\n",
       "    </tr>\n",
       "    <tr>\n",
       "      <th>47</th>\n",
       "      <td>9.117120e+07</td>\n",
       "      <td>1.272289</td>\n",
       "      <td>0.692466</td>\n",
       "      <td>{'changepoint_prior_scale': 0.5, 'daily_season...</td>\n",
       "      <td>60.0</td>\n",
       "    </tr>\n",
       "    <tr>\n",
       "      <th>61</th>\n",
       "      <td>9.118362e+07</td>\n",
       "      <td>0.981495</td>\n",
       "      <td>0.389753</td>\n",
       "      <td>{'changepoint_prior_scale': 0.5, 'daily_season...</td>\n",
       "      <td>61.0</td>\n",
       "    </tr>\n",
       "    <tr>\n",
       "      <th>44</th>\n",
       "      <td>9.120539e+07</td>\n",
       "      <td>1.276058</td>\n",
       "      <td>0.810822</td>\n",
       "      <td>{'changepoint_prior_scale': 0.5, 'daily_season...</td>\n",
       "      <td>62.0</td>\n",
       "    </tr>\n",
       "    <tr>\n",
       "      <th>40</th>\n",
       "      <td>9.163533e+07</td>\n",
       "      <td>1.741117</td>\n",
       "      <td>1.125873</td>\n",
       "      <td>{'changepoint_prior_scale': 0.5, 'daily_season...</td>\n",
       "      <td>63.0</td>\n",
       "    </tr>\n",
       "    <tr>\n",
       "      <th>41</th>\n",
       "      <td>9.169883e+07</td>\n",
       "      <td>1.609416</td>\n",
       "      <td>1.147423</td>\n",
       "      <td>{'changepoint_prior_scale': 0.5, 'daily_season...</td>\n",
       "      <td>64.0</td>\n",
       "    </tr>\n",
       "  </tbody>\n",
       "</table>\n",
       "<p>64 rows × 5 columns</p>\n",
       "</div>"
      ],
      "text/plain": [
       "    mean_test_MeanSquaredError  mean_fit_time  mean_pred_time  \\\n",
       "11                6.142510e+07       1.611367        0.942106   \n",
       "30                6.196114e+07       2.344171        1.252395   \n",
       "25                6.207020e+07       1.729278        1.416128   \n",
       "24                6.269874e+07       1.978467        1.342812   \n",
       "14                6.315024e+07      12.897478        0.840115   \n",
       "..                         ...            ...             ...   \n",
       "47                9.117120e+07       1.272289        0.692466   \n",
       "61                9.118362e+07       0.981495        0.389753   \n",
       "44                9.120539e+07       1.276058        0.810822   \n",
       "40                9.163533e+07       1.741117        1.125873   \n",
       "41                9.169883e+07       1.609416        1.147423   \n",
       "\n",
       "                                               params  \\\n",
       "11  {'changepoint_prior_scale': 0.1, 'daily_season...   \n",
       "30  {'changepoint_prior_scale': 0.1, 'daily_season...   \n",
       "25  {'changepoint_prior_scale': 0.1, 'daily_season...   \n",
       "24  {'changepoint_prior_scale': 0.1, 'daily_season...   \n",
       "14  {'changepoint_prior_scale': 0.1, 'daily_season...   \n",
       "..                                                ...   \n",
       "47  {'changepoint_prior_scale': 0.5, 'daily_season...   \n",
       "61  {'changepoint_prior_scale': 0.5, 'daily_season...   \n",
       "44  {'changepoint_prior_scale': 0.5, 'daily_season...   \n",
       "40  {'changepoint_prior_scale': 0.5, 'daily_season...   \n",
       "41  {'changepoint_prior_scale': 0.5, 'daily_season...   \n",
       "\n",
       "    rank_test_MeanSquaredError  \n",
       "11                         1.0  \n",
       "30                         2.0  \n",
       "25                         3.0  \n",
       "24                         4.0  \n",
       "14                         5.0  \n",
       "..                         ...  \n",
       "47                        60.0  \n",
       "61                        61.0  \n",
       "44                        62.0  \n",
       "40                        63.0  \n",
       "41                        64.0  \n",
       "\n",
       "[64 rows x 5 columns]"
      ]
     },
     "execution_count": 255,
     "metadata": {},
     "output_type": "execute_result"
    }
   ],
   "source": [
    "# Show top 10 best models based on scoring function\n",
    "gscv_prophet.cv_results_.sort_values(by='rank_test_MeanSquaredError', ascending=True)"
   ]
  },
  {
   "cell_type": "code",
   "execution_count": null,
   "metadata": {},
   "outputs": [
    {
     "data": {
      "text/plain": [
       "{'changepoint_prior_scale': 0.1,\n",
       " 'daily_seasonality': 8,\n",
       " 'n_changepoints': 5,\n",
       " 'seasonality_prior_scale': 0.05,\n",
       " 'weekly_seasonality': 10,\n",
       " 'yearly_seasonality': 10}"
      ]
     },
     "execution_count": 256,
     "metadata": {},
     "output_type": "execute_result"
    }
   ],
   "source": [
    "# Show best model parameters\n",
    "gscv_prophet.best_params_"
   ]
  },
  {
   "cell_type": "markdown",
   "metadata": {},
   "source": [
    "### Perform Prediction Based on Best Model"
   ]
  },
  {
   "cell_type": "code",
   "execution_count": null,
   "metadata": {},
   "outputs": [
    {
     "name": "stdout",
     "output_type": "stream",
     "text": [
      "Prophet Model Prediction ...\n"
     ]
    }
   ],
   "source": [
    "print(\"Prophet Model Prediction ...\")\n",
    "#rf_forecast = rf_forecaster.predict(fh) #, X=X_test\n",
    "prophet_forecast = gscv_prophet.best_forecaster_.predict(fh, X=X_test)#, X=X_test"
   ]
  },
  {
   "cell_type": "markdown",
   "metadata": {},
   "source": []
  },
  {
   "cell_type": "markdown",
   "metadata": {},
   "source": [
    "### Model Performance"
   ]
  },
  {
   "cell_type": "code",
   "execution_count": null,
   "metadata": {},
   "outputs": [
    {
     "name": "stdout",
     "output_type": "stream",
     "text": [
      "Prophet Model MAPE: 0.1381\n"
     ]
    }
   ],
   "source": [
    "# Create MAPE\n",
    "y_pred_prophet = pd.DataFrame(prophet_forecast).applymap('{:.2f}'.format)\n",
    "#y_pred_xgb\n",
    "prophet_mape = mean_absolute_percentage_error(y_test['lng_production'], y_pred_prophet)\n",
    "prophet_mape_str = str('MAPE: %.4f' % prophet_mape)\n",
    "print(\"Prophet Model \"+ prophet_mape_str)"
   ]
  },
  {
   "cell_type": "code",
   "execution_count": null,
   "metadata": {},
   "outputs": [],
   "source": [
    "#Get Parameters\n",
    "#rf_param = str(rf_forecaster.get_params())\n",
    "prophet_param = str(gscv_prophet.get_params())\n",
    "print(\"Random Forest Model Parameters \"+prophet_param)"
   ]
  },
  {
   "cell_type": "markdown",
   "metadata": {},
   "source": [
    "## ARIMA"
   ]
  },
  {
   "cell_type": "markdown",
   "metadata": {},
   "source": [
    "### Define Model Parameters"
   ]
  },
  {
   "cell_type": "code",
   "execution_count": 39,
   "metadata": {},
   "outputs": [],
   "source": [
    "from sktime.forecasting.arima import AutoARIMA, ARIMA\n",
    "from sktime.forecasting.statsforecast import StatsForecastAutoARIMA"
   ]
  },
  {
   "cell_type": "code",
   "execution_count": 40,
   "metadata": {},
   "outputs": [],
   "source": [
    "arima_param_grid = {'order':[(0,0,0),(1,0,0),(1,0,1)]\n",
    "                    }\n",
    "\n",
    "# create regressor object\n",
    "arima_forecaster = ARIMA(suppress_warnings=True) #If using SKTime AutoArima\n",
    "cv_arima = SingleWindowSplitter(fh=fh_int)\n",
    "gscv_arima = ForecastingGridSearchCV(arima_forecaster, cv=cv_arima, param_grid=arima_param_grid, n_jobs=-1, scoring=mse, error_score='raise')"
   ]
  },
  {
   "cell_type": "code",
   "execution_count": 23,
   "metadata": {},
   "outputs": [
    {
     "data": {
      "text/plain": [
       "dict_keys(['backend', 'cv__fh', 'cv__window_length', 'cv', 'error_score', 'forecaster__concentrate_scale', 'forecaster__enforce_invertibility', 'forecaster__enforce_stationarity', 'forecaster__hamilton_representation', 'forecaster__maxiter', 'forecaster__measurement_error', 'forecaster__method', 'forecaster__mle_regression', 'forecaster__order', 'forecaster__out_of_sample_size', 'forecaster__scoring', 'forecaster__scoring_args', 'forecaster__seasonal_order', 'forecaster__simple_differencing', 'forecaster__start_params', 'forecaster__suppress_warnings', 'forecaster__time_varying_regression', 'forecaster__trend', 'forecaster__with_intercept', 'forecaster', 'n_jobs', 'param_grid', 'pre_dispatch', 'refit', 'return_n_best_forecasters', 'scoring__multilevel', 'scoring__multioutput', 'scoring__square_root', 'scoring', 'strategy', 'update_behaviour', 'verbose'])"
      ]
     },
     "execution_count": 23,
     "metadata": {},
     "output_type": "execute_result"
    }
   ],
   "source": [
    "gscv_arima.get_params().keys()"
   ]
  },
  {
   "cell_type": "markdown",
   "metadata": {},
   "source": [
    "### Perform Cross Validation"
   ]
  },
  {
   "cell_type": "code",
   "execution_count": 41,
   "metadata": {},
   "outputs": [
    {
     "name": "stdout",
     "output_type": "stream",
     "text": [
      "Creating ARIMA Model ...\n"
     ]
    },
    {
     "data": {
      "text/html": [
       "<style>#sk-container-id-3 {color: black;background-color: white;}#sk-container-id-3 pre{padding: 0;}#sk-container-id-3 div.sk-toggleable {background-color: white;}#sk-container-id-3 label.sk-toggleable__label {cursor: pointer;display: block;width: 100%;margin-bottom: 0;padding: 0.3em;box-sizing: border-box;text-align: center;}#sk-container-id-3 label.sk-toggleable__label-arrow:before {content: \"▸\";float: left;margin-right: 0.25em;color: #696969;}#sk-container-id-3 label.sk-toggleable__label-arrow:hover:before {color: black;}#sk-container-id-3 div.sk-estimator:hover label.sk-toggleable__label-arrow:before {color: black;}#sk-container-id-3 div.sk-toggleable__content {max-height: 0;max-width: 0;overflow: hidden;text-align: left;background-color: #f0f8ff;}#sk-container-id-3 div.sk-toggleable__content pre {margin: 0.2em;color: black;border-radius: 0.25em;background-color: #f0f8ff;}#sk-container-id-3 input.sk-toggleable__control:checked~div.sk-toggleable__content {max-height: 200px;max-width: 100%;overflow: auto;}#sk-container-id-3 input.sk-toggleable__control:checked~label.sk-toggleable__label-arrow:before {content: \"▾\";}#sk-container-id-3 div.sk-estimator input.sk-toggleable__control:checked~label.sk-toggleable__label {background-color: #d4ebff;}#sk-container-id-3 div.sk-label input.sk-toggleable__control:checked~label.sk-toggleable__label {background-color: #d4ebff;}#sk-container-id-3 input.sk-hidden--visually {border: 0;clip: rect(1px 1px 1px 1px);clip: rect(1px, 1px, 1px, 1px);height: 1px;margin: -1px;overflow: hidden;padding: 0;position: absolute;width: 1px;}#sk-container-id-3 div.sk-estimator {font-family: monospace;background-color: #f0f8ff;border: 1px dotted black;border-radius: 0.25em;box-sizing: border-box;margin-bottom: 0.5em;}#sk-container-id-3 div.sk-estimator:hover {background-color: #d4ebff;}#sk-container-id-3 div.sk-parallel-item::after {content: \"\";width: 100%;border-bottom: 1px solid gray;flex-grow: 1;}#sk-container-id-3 div.sk-label:hover label.sk-toggleable__label {background-color: #d4ebff;}#sk-container-id-3 div.sk-serial::before {content: \"\";position: absolute;border-left: 1px solid gray;box-sizing: border-box;top: 0;bottom: 0;left: 50%;z-index: 0;}#sk-container-id-3 div.sk-serial {display: flex;flex-direction: column;align-items: center;background-color: white;padding-right: 0.2em;padding-left: 0.2em;position: relative;}#sk-container-id-3 div.sk-item {position: relative;z-index: 1;}#sk-container-id-3 div.sk-parallel {display: flex;align-items: stretch;justify-content: center;background-color: white;position: relative;}#sk-container-id-3 div.sk-item::before, #sk-container-id-3 div.sk-parallel-item::before {content: \"\";position: absolute;border-left: 1px solid gray;box-sizing: border-box;top: 0;bottom: 0;left: 50%;z-index: -1;}#sk-container-id-3 div.sk-parallel-item {display: flex;flex-direction: column;z-index: 1;position: relative;background-color: white;}#sk-container-id-3 div.sk-parallel-item:first-child::after {align-self: flex-end;width: 50%;}#sk-container-id-3 div.sk-parallel-item:last-child::after {align-self: flex-start;width: 50%;}#sk-container-id-3 div.sk-parallel-item:only-child::after {width: 0;}#sk-container-id-3 div.sk-dashed-wrapped {border: 1px dashed gray;margin: 0 0.4em 0.5em 0.4em;box-sizing: border-box;padding-bottom: 0.4em;background-color: white;}#sk-container-id-3 div.sk-label label {font-family: monospace;font-weight: bold;display: inline-block;line-height: 1.2em;}#sk-container-id-3 div.sk-label-container {text-align: center;}#sk-container-id-3 div.sk-container {/* jupyter's `normalize.less` sets `[hidden] { display: none; }` but bootstrap.min.css set `[hidden] { display: none !important; }` so we also need the `!important` here to be able to override the default hidden behavior on the sphinx rendered scikit-learn.org. See: https://github.com/scikit-learn/scikit-learn/issues/21755 */display: inline-block !important;position: relative;}#sk-container-id-3 div.sk-text-repr-fallback {display: none;}</style><div id=\"sk-container-id-3\" class=\"sk-top-container\"><div class=\"sk-text-repr-fallback\"><pre>ForecastingGridSearchCV(cv=SingleWindowSplitter(fh=array([  1,   2,   3,   4,   5,   6,   7,   8,   9,  10,  11,  12,  13,\n",
       "        14,  15,  16,  17,  18,  19,  20,  21,  22,  23,  24,  25,  26,\n",
       "        27,  28,  29,  30,  31,  32,  33,  34,  35,  36,  37,  38,  39,\n",
       "        40,  41,  42,  43,  44,  45,  46,  47,  48,  49,  50,  51,  52,\n",
       "        53,  54,  55,  56,  57,  58,  59,  60,  61,  62,  63,  64,  65,\n",
       "        66,  67,  68,  69,  70,  71,  72,  73,  74,  75,  76,  77,  78,\n",
       "        79,  80,  81,  82,  83,  84,  85,  86,  87,  88,  89,  90,  91,\n",
       "        92,  93,  94,  95,  96,  97,  98,  99, 100,...\n",
       "       430, 431, 432, 433, 434, 435, 436, 437, 438, 439, 440, 441, 442,\n",
       "       443, 444, 445, 446, 447, 448, 449, 450, 451, 452, 453, 454, 455,\n",
       "       456, 457, 458, 459, 460, 461, 462, 463, 464, 465, 466, 467, 468,\n",
       "       469, 470, 471, 472, 473, 474, 475, 476, 477, 478, 479, 480, 481,\n",
       "       482, 483, 484, 485, 486, 487, 488, 489])),\n",
       "                        error_score=&#x27;raise&#x27;,\n",
       "                        forecaster=ARIMA(suppress_warnings=True), n_jobs=-1,\n",
       "                        param_grid={&#x27;order&#x27;: [(0, 0, 0), (1, 0, 0), (1, 0, 1)]},\n",
       "                        scoring=MeanSquaredError())</pre><b>In a Jupyter environment, please rerun this cell to show the HTML representation or trust the notebook. <br />On GitHub, the HTML representation is unable to render, please try loading this page with nbviewer.org.</b></div><div class=\"sk-container\" hidden><div class=\"sk-item sk-dashed-wrapped\"><div class=\"sk-label-container\"><div class=\"sk-label sk-toggleable\"><input class=\"sk-toggleable__control sk-hidden--visually\" id=\"sk-estimator-id-8\" type=\"checkbox\" ><label for=\"sk-estimator-id-8\" class=\"sk-toggleable__label sk-toggleable__label-arrow\">ForecastingGridSearchCV</label><div class=\"sk-toggleable__content\"><pre>ForecastingGridSearchCV(cv=SingleWindowSplitter(fh=array([  1,   2,   3,   4,   5,   6,   7,   8,   9,  10,  11,  12,  13,\n",
       "        14,  15,  16,  17,  18,  19,  20,  21,  22,  23,  24,  25,  26,\n",
       "        27,  28,  29,  30,  31,  32,  33,  34,  35,  36,  37,  38,  39,\n",
       "        40,  41,  42,  43,  44,  45,  46,  47,  48,  49,  50,  51,  52,\n",
       "        53,  54,  55,  56,  57,  58,  59,  60,  61,  62,  63,  64,  65,\n",
       "        66,  67,  68,  69,  70,  71,  72,  73,  74,  75,  76,  77,  78,\n",
       "        79,  80,  81,  82,  83,  84,  85,  86,  87,  88,  89,  90,  91,\n",
       "        92,  93,  94,  95,  96,  97,  98,  99, 100,...\n",
       "       430, 431, 432, 433, 434, 435, 436, 437, 438, 439, 440, 441, 442,\n",
       "       443, 444, 445, 446, 447, 448, 449, 450, 451, 452, 453, 454, 455,\n",
       "       456, 457, 458, 459, 460, 461, 462, 463, 464, 465, 466, 467, 468,\n",
       "       469, 470, 471, 472, 473, 474, 475, 476, 477, 478, 479, 480, 481,\n",
       "       482, 483, 484, 485, 486, 487, 488, 489])),\n",
       "                        error_score=&#x27;raise&#x27;,\n",
       "                        forecaster=ARIMA(suppress_warnings=True), n_jobs=-1,\n",
       "                        param_grid={&#x27;order&#x27;: [(0, 0, 0), (1, 0, 0), (1, 0, 1)]},\n",
       "                        scoring=MeanSquaredError())</pre></div></div></div><div class=\"sk-parallel\"><div class=\"sk-parallel-item\"><div class=\"sk-item\"><div class=\"sk-label-container\"><div class=\"sk-label sk-toggleable\"><input class=\"sk-toggleable__control sk-hidden--visually\" id=\"sk-estimator-id-9\" type=\"checkbox\" ><label for=\"sk-estimator-id-9\" class=\"sk-toggleable__label sk-toggleable__label-arrow\">forecaster: ARIMA</label><div class=\"sk-toggleable__content\"><pre>ARIMA(suppress_warnings=True)</pre></div></div></div><div class=\"sk-serial\"><div class=\"sk-item\"><div class=\"sk-estimator sk-toggleable\"><input class=\"sk-toggleable__control sk-hidden--visually\" id=\"sk-estimator-id-10\" type=\"checkbox\" ><label for=\"sk-estimator-id-10\" class=\"sk-toggleable__label sk-toggleable__label-arrow\">ARIMA</label><div class=\"sk-toggleable__content\"><pre>ARIMA(suppress_warnings=True)</pre></div></div></div></div></div></div></div></div></div></div>"
      ],
      "text/plain": [
       "ForecastingGridSearchCV(cv=SingleWindowSplitter(fh=array([  1,   2,   3,   4,   5,   6,   7,   8,   9,  10,  11,  12,  13,\n",
       "        14,  15,  16,  17,  18,  19,  20,  21,  22,  23,  24,  25,  26,\n",
       "        27,  28,  29,  30,  31,  32,  33,  34,  35,  36,  37,  38,  39,\n",
       "        40,  41,  42,  43,  44,  45,  46,  47,  48,  49,  50,  51,  52,\n",
       "        53,  54,  55,  56,  57,  58,  59,  60,  61,  62,  63,  64,  65,\n",
       "        66,  67,  68,  69,  70,  71,  72,  73,  74,  75,  76,  77,  78,\n",
       "        79,  80,  81,  82,  83,  84,  85,  86,  87,  88,  89,  90,  91,\n",
       "        92,  93,  94,  95,  96,  97,  98,  99, 100,...\n",
       "       430, 431, 432, 433, 434, 435, 436, 437, 438, 439, 440, 441, 442,\n",
       "       443, 444, 445, 446, 447, 448, 449, 450, 451, 452, 453, 454, 455,\n",
       "       456, 457, 458, 459, 460, 461, 462, 463, 464, 465, 466, 467, 468,\n",
       "       469, 470, 471, 472, 473, 474, 475, 476, 477, 478, 479, 480, 481,\n",
       "       482, 483, 484, 485, 486, 487, 488, 489])),\n",
       "                        error_score='raise',\n",
       "                        forecaster=ARIMA(suppress_warnings=True), n_jobs=-1,\n",
       "                        param_grid={'order': [(0, 0, 0), (1, 0, 0), (1, 0, 1)]},\n",
       "                        scoring=MeanSquaredError())"
      ]
     },
     "execution_count": 41,
     "metadata": {},
     "output_type": "execute_result"
    }
   ],
   "source": [
    "#X_train = X_train.asfreq('D')\n",
    "\n",
    "# Perform Cross Validation Model\n",
    "print(\"Creating ARIMA Model ...\")\n",
    "gscv_arima.fit(y_train) #, X_train"
   ]
  },
  {
   "cell_type": "code",
   "execution_count": 32,
   "metadata": {},
   "outputs": [
    {
     "data": {
      "text/plain": [
       "(1959, 1959)"
      ]
     },
     "execution_count": 32,
     "metadata": {},
     "output_type": "execute_result"
    }
   ],
   "source": [
    "len(y_train), len(X_train)"
   ]
  },
  {
   "cell_type": "code",
   "execution_count": 42,
   "metadata": {},
   "outputs": [
    {
     "data": {
      "text/html": [
       "<div>\n",
       "<style scoped>\n",
       "    .dataframe tbody tr th:only-of-type {\n",
       "        vertical-align: middle;\n",
       "    }\n",
       "\n",
       "    .dataframe tbody tr th {\n",
       "        vertical-align: top;\n",
       "    }\n",
       "\n",
       "    .dataframe thead th {\n",
       "        text-align: right;\n",
       "    }\n",
       "</style>\n",
       "<table border=\"1\" class=\"dataframe\">\n",
       "  <thead>\n",
       "    <tr style=\"text-align: right;\">\n",
       "      <th></th>\n",
       "      <th>mean_test_MeanSquaredError</th>\n",
       "      <th>mean_fit_time</th>\n",
       "      <th>mean_pred_time</th>\n",
       "      <th>params</th>\n",
       "      <th>rank_test_MeanSquaredError</th>\n",
       "    </tr>\n",
       "  </thead>\n",
       "  <tbody>\n",
       "    <tr>\n",
       "      <th>1</th>\n",
       "      <td>7.940187e+07</td>\n",
       "      <td>0.036639</td>\n",
       "      <td>0.016023</td>\n",
       "      <td>{'order': (1, 0, 0)}</td>\n",
       "      <td>1.0</td>\n",
       "    </tr>\n",
       "    <tr>\n",
       "      <th>0</th>\n",
       "      <td>7.978188e+07</td>\n",
       "      <td>0.017170</td>\n",
       "      <td>0.013721</td>\n",
       "      <td>{'order': (0, 0, 0)}</td>\n",
       "      <td>2.0</td>\n",
       "    </tr>\n",
       "    <tr>\n",
       "      <th>2</th>\n",
       "      <td>8.067685e+07</td>\n",
       "      <td>0.056084</td>\n",
       "      <td>0.015198</td>\n",
       "      <td>{'order': (1, 0, 1)}</td>\n",
       "      <td>3.0</td>\n",
       "    </tr>\n",
       "  </tbody>\n",
       "</table>\n",
       "</div>"
      ],
      "text/plain": [
       "   mean_test_MeanSquaredError  ...  rank_test_MeanSquaredError\n",
       "1                7.940187e+07  ...                         1.0\n",
       "0                7.978188e+07  ...                         2.0\n",
       "2                8.067685e+07  ...                         3.0\n",
       "\n",
       "[3 rows x 5 columns]"
      ]
     },
     "execution_count": 42,
     "metadata": {},
     "output_type": "execute_result"
    }
   ],
   "source": [
    "# Show top 10 best models based on scoring function\n",
    "gscv_arima.cv_results_.sort_values(by='rank_test_MeanSquaredError', ascending=True)"
   ]
  },
  {
   "cell_type": "code",
   "execution_count": null,
   "metadata": {},
   "outputs": [
    {
     "data": {
      "text/plain": [
       "{'changepoint_prior_scale': 0.1,\n",
       " 'daily_seasonality': 8,\n",
       " 'n_changepoints': 5,\n",
       " 'seasonality_prior_scale': 0.05,\n",
       " 'weekly_seasonality': 10,\n",
       " 'yearly_seasonality': 10}"
      ]
     },
     "metadata": {},
     "output_type": "display_data"
    }
   ],
   "source": [
    "# Show best model parameters\n",
    "gscv_prophet.best_params_"
   ]
  },
  {
   "cell_type": "markdown",
   "metadata": {},
   "source": [
    "### Perform Prediction Based on Best Model"
   ]
  },
  {
   "cell_type": "code",
   "execution_count": null,
   "metadata": {},
   "outputs": [
    {
     "name": "stdout",
     "output_type": "stream",
     "text": [
      "Prophet Model Prediction ...\n"
     ]
    }
   ],
   "source": [
    "print(\"Prophet Model Prediction ...\")\n",
    "#rf_forecast = rf_forecaster.predict(fh) #, X=X_test\n",
    "prophet_forecast = gscv_prophet.best_forecaster_.predict(fh, X=X_test)#, X=X_test"
   ]
  },
  {
   "cell_type": "markdown",
   "metadata": {},
   "source": []
  },
  {
   "cell_type": "markdown",
   "metadata": {},
   "source": [
    "### Model Performance"
   ]
  },
  {
   "cell_type": "code",
   "execution_count": null,
   "metadata": {},
   "outputs": [
    {
     "name": "stdout",
     "output_type": "stream",
     "text": [
      "Prophet Model MAPE: 0.1381\n"
     ]
    }
   ],
   "source": [
    "# Create MAPE\n",
    "y_pred_prophet = pd.DataFrame(prophet_forecast).applymap('{:.2f}'.format)\n",
    "#y_pred_xgb\n",
    "prophet_mape = mean_absolute_percentage_error(y_test['lng_production'], y_pred_prophet)\n",
    "prophet_mape_str = str('MAPE: %.4f' % prophet_mape)\n",
    "print(\"Prophet Model \"+ prophet_mape_str)"
   ]
  },
  {
   "cell_type": "code",
   "execution_count": null,
   "metadata": {},
   "outputs": [],
   "source": [
    "#Get Parameters\n",
    "#rf_param = str(rf_forecaster.get_params())\n",
    "prophet_param = str(gscv_prophet.get_params())\n",
    "print(\"Random Forest Model Parameters \"+prophet_param)"
   ]
  }
 ],
 "metadata": {
  "kernelspec": {
   "display_name": "Python 3.8.15 ('py38_ts')",
   "language": "python",
   "name": "python3"
  },
  "language_info": {
   "codemirror_mode": {
    "name": "ipython",
    "version": 3
   },
   "file_extension": ".py",
   "mimetype": "text/x-python",
   "name": "python",
   "nbconvert_exporter": "python",
   "pygments_lexer": "ipython3",
   "version": "3.8.15"
  },
  "orig_nbformat": 4,
  "vscode": {
   "interpreter": {
    "hash": "a7559cc4fcd4dd9b994a19f69128bde89747fa9372e29d8f3b171be4b280ce9a"
   }
  }
 },
 "nbformat": 4,
 "nbformat_minor": 2
}
